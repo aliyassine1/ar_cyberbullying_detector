{
  "nbformat": 4,
  "nbformat_minor": 0,
  "metadata": {
    "colab": {
      "name": "463_3",
      "provenance": [],
      "collapsed_sections": [],
      "toc_visible": true
    },
    "kernelspec": {
      "name": "python3",
      "display_name": "Python 3"
    }
  },
  "cells": [
    {
      "cell_type": "code",
      "metadata": {
        "id": "3psLV0AyPwSV",
        "colab": {
          "base_uri": "https://localhost:8080/"
        },
        "outputId": "27f9fd19-f5e5-41b2-81d5-e723e261d92a"
      },
      "source": [
        "ufrom google.colab import drive\n",
        "drive.mount('/content/drive')"
      ],
      "execution_count": null,
      "outputs": [
        {
          "output_type": "stream",
          "text": [
            "Drive already mounted at /content/drive; to attempt to forcibly remount, call drive.mount(\"/content/drive\", force_remount=True).\n"
          ],
          "name": "stdout"
        }
      ]
    },
    {
      "cell_type": "code",
      "metadata": {
        "id": "jnSw0od87C8-"
      },
      "source": [
        "from keras.layers import Embedding, Dense, Dropout, Input, LSTM, Bidirectional,GRU\n",
        "from keras.layers import MaxPooling1D, Conv1D, Flatten\n",
        "from keras.preprocessing import sequence, text\n",
        "from keras.models import Model\n",
        "from keras.utils import np_utils\n",
        "from keras.callbacks import Callback\n",
        "\n",
        "from gensim.models.keyedvectors import KeyedVectors\n",
        "from sklearn import preprocessing\n",
        "from time import time\n",
        "import pandas as pd\n",
        "import numpy as np\n",
        "import matplotlib.pyplot as plt\n",
        "import seaborn as sns\n",
        "import csv\n",
        "\n",
        "from keras import optimizers\n",
        "\n",
        "from sklearn.metrics import f1_score\n",
        "from sklearn.metrics import accuracy_score\n",
        "\n",
        "from sklearn.utils import class_weight\n",
        "\n",
        "from sklearn import preprocessing\n",
        "from sklearn.metrics import (\n",
        "    classification_report as creport\n",
        ")"
      ],
      "execution_count": null,
      "outputs": []
    },
    {
      "cell_type": "markdown",
      "metadata": {
        "id": "n6_dt2cDtobO"
      },
      "source": [
        "# Data and AraVec2.0 (pre-trained word embeddings model) Loading"
      ]
    },
    {
      "cell_type": "code",
      "metadata": {
        "id": "2Mn0KDJg-o5u",
        "colab": {
          "base_uri": "https://localhost:8080/"
        },
        "outputId": "e928eac6-18c4-49e4-af45-0aa471549737"
      },
      "source": [
        "#pre-trained word embedding: https://github.com/bakrianoo/aravec/tree/master/AraVec%202.0\n",
        "\"\"\"\n",
        "Citation:\n",
        "Abu Bakr Soliman, Kareem Eisa, and Samhaa R. El-Beltagy, “AraVec:\n",
        "A set of Arabic Word Embedding Models for use in Arabic NLP”,\n",
        "in proceedings of the 3rd International Conference on \n",
        "Arabic Computational Linguistics (ACLing 2017), Dubai, UAE, 2017.\n",
        "\"\"\"\n",
        "! unzip '/content/drive/MyDrive/tweets_sg_300.zip'  "
      ],
      "execution_count": null,
      "outputs": [
        {
          "output_type": "stream",
          "text": [
            "Archive:  /content/drive/MyDrive/tweets_sg_300.zip\n",
            "  inflating: tweets_sg_300           \n",
            "  inflating: tweets_sg_300.trainables.syn1neg.npy  \n",
            "  inflating: tweets_sg_300.wv.vectors.npy  \n"
          ],
          "name": "stdout"
        }
      ]
    },
    {
      "cell_type": "code",
      "metadata": {
        "id": "V3kKX6Ra-p1d"
      },
      "source": [
        "# Word_embedding_path\n",
        "embedding_path = '/content/tweets_sg_300'           #Twitter-Skipgram model-300d(trained on 77,600,000 Arabic tweets)"
      ],
      "execution_count": null,
      "outputs": []
    },
    {
      "cell_type": "code",
      "metadata": {
        "id": "JpRSY6aVACVF",
        "colab": {
          "base_uri": "https://localhost:8080/",
          "height": 394
        },
        "outputId": "0da707c1-d298-425c-aef6-1a0df62e995a"
      },
      "source": [
        "train_data = pd.read_csv('/content/drive/MyDrive/train.csv')\n",
        "train_data"
      ],
      "execution_count": null,
      "outputs": [
        {
          "output_type": "execute_result",
          "data": {
            "text/html": [
              "<div>\n",
              "<style scoped>\n",
              "    .dataframe tbody tr th:only-of-type {\n",
              "        vertical-align: middle;\n",
              "    }\n",
              "\n",
              "    .dataframe tbody tr th {\n",
              "        vertical-align: top;\n",
              "    }\n",
              "\n",
              "    .dataframe thead th {\n",
              "        text-align: right;\n",
              "    }\n",
              "</style>\n",
              "<table border=\"1\" class=\"dataframe\">\n",
              "  <thead>\n",
              "    <tr style=\"text-align: right;\">\n",
              "      <th></th>\n",
              "      <th>Tweet</th>\n",
              "      <th>Class</th>\n",
              "    </tr>\n",
              "  </thead>\n",
              "  <tbody>\n",
              "    <tr>\n",
              "      <th>0</th>\n",
              "      <td>وزير الخارجية اللبناني جبران باسيل قال في سلسل...</td>\n",
              "      <td>normal</td>\n",
              "    </tr>\n",
              "    <tr>\n",
              "      <th>1</th>\n",
              "      <td>سورية بلد الحضارات تربطها بعلية او بحيوان</td>\n",
              "      <td>normal</td>\n",
              "    </tr>\n",
              "    <tr>\n",
              "      <th>2</th>\n",
              "      <td>اخي الحاج اذا شعرت انك محرجا من الانتقادات لتص...</td>\n",
              "      <td>normal</td>\n",
              "    </tr>\n",
              "    <tr>\n",
              "      <th>3</th>\n",
              "      <td>ما فيك تعيش بلا ما تكب فتن ليل نهار وبكرة قلهم...</td>\n",
              "      <td>normal</td>\n",
              "    </tr>\n",
              "    <tr>\n",
              "      <th>4</th>\n",
              "      <td>هذا البطل الذي قاتل وجاذف بحياته لتحيا انت يا ...</td>\n",
              "      <td>abusive</td>\n",
              "    </tr>\n",
              "    <tr>\n",
              "      <th>...</th>\n",
              "      <td>...</td>\n",
              "      <td>...</td>\n",
              "    </tr>\n",
              "    <tr>\n",
              "      <th>4671</th>\n",
              "      <td>كول هوا مرة تانيي وحلوا عن طيزو وطيزنا ومقلعين...</td>\n",
              "      <td>abusive</td>\n",
              "    </tr>\n",
              "    <tr>\n",
              "      <th>4672</th>\n",
              "      <td>رئيس روحي؟ تروح روحك انت وكل مين شدّ عمشدّك مش...</td>\n",
              "      <td>abusive</td>\n",
              "    </tr>\n",
              "    <tr>\n",
              "      <th>4673</th>\n",
              "      <td>إذا أرادت إسرائيل أن تضمن أمنها وهو حق عليها ا...</td>\n",
              "      <td>normal</td>\n",
              "    </tr>\n",
              "    <tr>\n",
              "      <th>4674</th>\n",
              "      <td>خليك بحالك يا نعيمي على أساس أنت مش مرتزق و طب...</td>\n",
              "      <td>abusive</td>\n",
              "    </tr>\n",
              "    <tr>\n",
              "      <th>4675</th>\n",
              "      <td>عيلة كتاب عدل من ثلاث اشقاء بالنتائج الاخيرة ه...</td>\n",
              "      <td>normal</td>\n",
              "    </tr>\n",
              "  </tbody>\n",
              "</table>\n",
              "<p>4676 rows × 2 columns</p>\n",
              "</div>"
            ],
            "text/plain": [
              "                                                  Tweet    Class\n",
              "0     وزير الخارجية اللبناني جبران باسيل قال في سلسل...   normal\n",
              "1             سورية بلد الحضارات تربطها بعلية او بحيوان   normal\n",
              "2     اخي الحاج اذا شعرت انك محرجا من الانتقادات لتص...   normal\n",
              "3     ما فيك تعيش بلا ما تكب فتن ليل نهار وبكرة قلهم...   normal\n",
              "4     هذا البطل الذي قاتل وجاذف بحياته لتحيا انت يا ...  abusive\n",
              "...                                                 ...      ...\n",
              "4671  كول هوا مرة تانيي وحلوا عن طيزو وطيزنا ومقلعين...  abusive\n",
              "4672  رئيس روحي؟ تروح روحك انت وكل مين شدّ عمشدّك مش...  abusive\n",
              "4673  إذا أرادت إسرائيل أن تضمن أمنها وهو حق عليها ا...   normal\n",
              "4674  خليك بحالك يا نعيمي على أساس أنت مش مرتزق و طب...  abusive\n",
              "4675  عيلة كتاب عدل من ثلاث اشقاء بالنتائج الاخيرة ه...   normal\n",
              "\n",
              "[4676 rows x 2 columns]"
            ]
          },
          "metadata": {
            "tags": []
          },
          "execution_count": 3
        }
      ]
    },
    {
      "cell_type": "code",
      "metadata": {
        "id": "s9yxPtQjKsPa",
        "colab": {
          "base_uri": "https://localhost:8080/"
        },
        "outputId": "e301946d-72e8-4c16-e32a-fdafc479f6ae"
      },
      "source": [
        "print(\"Train data shape: {}\".format(train_data.shape))"
      ],
      "execution_count": null,
      "outputs": [
        {
          "output_type": "stream",
          "text": [
            "Train data shape: (4676, 2)\n"
          ],
          "name": "stdout"
        }
      ]
    },
    {
      "cell_type": "code",
      "metadata": {
        "id": "Ae5n6EhUcEDD"
      },
      "source": [
        "def get_embedding_matrix(word_index, embedding_index, vocab_dim):\n",
        "    print('Building embedding matrix...')\n",
        "    embedding_matrix = np.zeros((len(word_index) + 1, vocab_dim))\n",
        "    for word, i in word_index.items():\n",
        "        try:\n",
        "            embedding_matrix[i] = embedding_index.get_vector(word)\n",
        "        except:\n",
        "            pass\n",
        "    print('Embedding matrix built.') \n",
        "    #print(\"Word index\", word_index.items())\n",
        "    #print(embedding_matrix) \n",
        "    return embedding_matrix\n",
        "\n",
        "\n",
        "def get_init_parameters(path, ext=None):\n",
        "    if ext == 'vec':\n",
        "        word_model = KeyedVectors.load_word2vec_format(path).wv\n",
        "    else:\n",
        "        word_model = KeyedVectors.load(path).wv\n",
        "    n_words = len(word_model.vocab)\n",
        "    vocab_dim = word_model[word_model.index2word[0]].shape[0]\n",
        "    index_dict = dict()\n",
        "    for i in range(n_words):\n",
        "        index_dict[word_model.index2word[i]] = i+1\n",
        "    print('Number of words in the word embedding',n_words)\n",
        "    #print('word_model', word_model)\n",
        "    #print(\"index_dict\",index_dict)\n",
        "    return word_model, index_dict, n_words, vocab_dim\n",
        "\n",
        "def get_max_length(text_data, return_line=False):\n",
        "    max_length = 0\n",
        "    long_line = \"\"\n",
        "    for line in text_data:\n",
        "        new = len(line.split())\n",
        "        if new > max_length:\n",
        "            max_length = new\n",
        "            long_line = line\n",
        "    if return_line:\n",
        "        return long_line, max_length\n",
        "    else:\n",
        "        return max_length\n",
        "    print(\"max\",long_line,max_length)\n",
        "\n",
        "def load_datasets(data_paths, header=True):\n",
        "    x = []\n",
        "    y = []\n",
        "    for data_path in data_paths:\n",
        "        with open(data_path, 'r') as f:\n",
        "            for line in f:\n",
        "                if header:\n",
        "                    header = False\n",
        "                else:\n",
        "                    temp = line.split(',')\n",
        "                    x.append(temp[0])\n",
        "                    y.append(temp[1].replace('\\n', ''))\n",
        "    max_length = get_max_length(x)\n",
        "    print('Max length:', max_length)\n",
        "    return x,y, max_length\n",
        "\n",
        "def get_train_test(train_raw_text, test_raw_text, n_words, max_length):\n",
        "    tokenizer = text.Tokenizer(num_words=n_words)\n",
        "    tokenizer.fit_on_texts(list(train_raw_text))\n",
        "    word_index = tokenizer.word_index\n",
        "   \n",
        "    train_tokenized = tokenizer.texts_to_sequences(train_raw_text)\n",
        "    test_tokenized = tokenizer.texts_to_sequences(test_raw_text)\n",
        "\n",
        "    return sequence.pad_sequences(train_tokenized, maxlen=max_length, padding='post', truncating='post'),\\\n",
        "           sequence.pad_sequences(test_tokenized, maxlen=max_length, padding='post', truncating='post'),\\\n",
        "           word_index\n",
        "\n",
        "def class_str_2_ind(x_train, x_test, y_train, y_test, classes, n_words, max_length):\n",
        "    print('Converting data to trainable form...')\n",
        "    y_encoder = preprocessing.LabelEncoder()\n",
        "    y_encoder.fit(classes)\n",
        "    y_train = y_encoder.transform(y_train)\n",
        "    y_test = y_encoder.transform(y_test)\n",
        "    #print(y_train)\n",
        "    #print(y_test)\n",
        "    train_y_cat = np_utils.to_categorical(y_train, len(classes))\n",
        "    x_vec_train, x_vec_test, word_index = get_train_test(x_train, x_test, n_words, max_length)\n",
        "    print('Number of training examples: ' + str(len(x_vec_train)))\n",
        "    print('Number of testing examples: ' + str(len(x_vec_test)))\n",
        "    return x_vec_train, x_vec_test, y_train, y_test, train_y_cat, word_index"
      ],
      "execution_count": null,
      "outputs": []
    },
    {
      "cell_type": "code",
      "metadata": {
        "id": "lT0r5MyUbtGC",
        "colab": {
          "base_uri": "https://localhost:8080/"
        },
        "outputId": "e53f47c1-b977-4885-dc43-670e4342299b"
      },
      "source": [
        "WORD_MODEL, _, MAX_FEATURES, EMBED_SIZE = get_init_parameters(embedding_path) "
      ],
      "execution_count": null,
      "outputs": [
        {
          "output_type": "stream",
          "text": [
            "Number of words in the word embedding 331679\n"
          ],
          "name": "stdout"
        }
      ]
    },
    {
      "cell_type": "code",
      "metadata": {
        "id": "cjwJ3aN3U1Mv",
        "colab": {
          "base_uri": "https://localhost:8080/"
        },
        "outputId": "dcfb0be5-043b-482c-ce51-9bc2cacf051b"
      },
      "source": [
        "# load train data\n",
        "train_data_path=[\"/content/drive/MyDrive/OSACT4\"]\n",
        "X, y, MAX_TEXT_LENGTH = load_datasets(train_data_path)\n",
        "CLASSES_LIST = np.unique(y)\n",
        "print('Label categories: ' + str(CLASSES_LIST))"
      ],
      "execution_count": null,
      "outputs": [
        {
          "output_type": "stream",
          "text": [
            "Max length: 52\n",
            "Label categories: ['abusive' 'hate' 'normal']\n"
          ],
          "name": "stdout"
        }
      ]
    },
    {
      "cell_type": "code",
      "metadata": {
        "id": "XcpaFQRJV8YL"
      },
      "source": [
        "MAX_TEXT_LENGTH=52"
      ],
      "execution_count": null,
      "outputs": []
    },
    {
      "cell_type": "code",
      "metadata": {
        "id": "c1DNQWfrHGXR"
      },
      "source": [
        "from sklearn.model_selection import train_test_split\n",
        "X_train, X_test, y_train, y_test = train_test_split(X, y, test_size=0.2, random_state=42)"
      ],
      "execution_count": null,
      "outputs": []
    },
    {
      "cell_type": "code",
      "metadata": {
        "id": "plOnSpgUb18i",
        "colab": {
          "base_uri": "https://localhost:8080/"
        },
        "outputId": "32db15b4-ac01-453d-d965-65f8b0dde448"
      },
      "source": [
        "X_train, X_test, y_train, y_test, train_y_cat, word_index = class_str_2_ind(X_train, X_test, y_train, y_test, CLASSES_LIST, MAX_FEATURES, MAX_TEXT_LENGTH)\n",
        "test_cat_y = np_utils.to_categorical(y_test, len(CLASSES_LIST))"
      ],
      "execution_count": null,
      "outputs": [
        {
          "output_type": "stream",
          "text": [
            "Converting data to trainable form...\n",
            "Number of training examples: 3740\n",
            "Number of testing examples: 936\n"
          ],
          "name": "stdout"
        }
      ]
    },
    {
      "cell_type": "code",
      "metadata": {
        "id": "VQiq-BKShbLE",
        "colab": {
          "base_uri": "https://localhost:8080/"
        },
        "outputId": "44db50e9-0286-4e49-9e16-cd73b8cb1de0"
      },
      "source": [
        "print(\"Tokens number: \"+ str(len(word_index)))"
      ],
      "execution_count": null,
      "outputs": [
        {
          "output_type": "stream",
          "text": [
            "Tokens number: 14157\n"
          ],
          "name": "stdout"
        }
      ]
    },
    {
      "cell_type": "code",
      "metadata": {
        "id": "WjJd-CWUiNlQ",
        "colab": {
          "base_uri": "https://localhost:8080/"
        },
        "outputId": "a55bf520-415c-49fb-8c11-34fbc246d93c"
      },
      "source": [
        "# Sequence length\n",
        "print(\"Original sequence length: \"+str(MAX_TEXT_LENGTH))"
      ],
      "execution_count": null,
      "outputs": [
        {
          "output_type": "stream",
          "text": [
            "Original sequence length: 52\n"
          ],
          "name": "stdout"
        }
      ]
    },
    {
      "cell_type": "code",
      "metadata": {
        "id": "TRIAZtDUidul"
      },
      "source": [
        "def get_model(embedding_weights, word_index, vocab_dim, max_length,layer, dropout, optimizer, print_summary=True):\n",
        "    \"\"\"\n",
        "    Create Neural Network With an Embedding layer\n",
        "    \"\"\"\n",
        "    inp = Input(shape=(max_length,))\n",
        "    model = Embedding(input_dim=len(word_index)+1,\n",
        "                      output_dim=vocab_dim,\n",
        "                      trainable=False,\n",
        "                      weights=[embedding_weights])(inp)\n",
        "    model = layer(model)\n",
        "    model = Dropout(dropout)(model)       \n",
        "    model = Flatten()(model)\n",
        "    model = Dense(3, activation='sigmoid')(model)\n",
        "    model = Model(inputs=inp, outputs=model)\n",
        "    \n",
        "    model.compile(loss='categorical_crossentropy', optimizer=optimizer, metrics=['accuracy'])\n",
        "    if print_summary:\n",
        "        model.summary()\n",
        "    return model\n",
        "\n",
        "\n",
        "def get_main_model(word_index, WORD_MODEL, EMBED_SIZE, MAX_TEXT_LENGTH, \n",
        "                   layer, dropout,optimizer):\n",
        "   \n",
        "    tmp = get_embedding_matrix(word_index, WORD_MODEL, EMBED_SIZE)\n",
        "    model = get_model(tmp, word_index, EMBED_SIZE, MAX_TEXT_LENGTH, \n",
        "                      layer, dropout, optimizer= optimizer ,print_summary=True)\n",
        "    return model\n",
        "\n",
        "class TestCallback(Callback):\n",
        "    def __init__(self, test_data):\n",
        "        self.test_data = test_data\n",
        "\n",
        "    def on_epoch_end(self, epoch, logs={}):\n",
        "        x, y = self.test_data\n",
        "        loss, acc = self.model.evaluate(x, y, verbose=0)\n",
        "        print('\\nTesting loss: {}, acc: {}\\n'.format(loss, acc))\n",
        "\n",
        "def train_fit_predict(model, x_train, x_test, y_train, y_test, class_weight, batch_size, epochs, TestCallback=TestCallback):\n",
        "   \n",
        "    history = model.fit(x_train, y_train,\n",
        "                        batch_size=batch_size,\n",
        "                        epochs=epochs, verbose=1,\n",
        "                        validation_data=(x_test, y_test),\n",
        "                        class_weight=class_weight,\n",
        "                        callbacks=[TestCallback((x_test, y_test))])\n",
        "    return history, model"
      ],
      "execution_count": null,
      "outputs": []
    },
    {
      "cell_type": "markdown",
      "metadata": {
        "id": "n51vTvUGQOP4"
      },
      "source": [
        "#### Note: the prior work is the same for all of the neural learning models."
      ]
    },
    {
      "cell_type": "markdown",
      "metadata": {
        "id": "IXB7MDh9lLcM"
      },
      "source": [
        "#  RNN (LSTM) Model"
      ]
    },
    {
      "cell_type": "code",
      "metadata": {
        "id": "YKpEhF4ljGqR",
        "colab": {
          "base_uri": "https://localhost:8080/"
        },
        "outputId": "c4a2bf7f-4083-461b-c5fd-552f0a71471e"
      },
      "source": [
        "model = get_main_model(word_index, WORD_MODEL, EMBED_SIZE, MAX_TEXT_LENGTH, \n",
        "                       layer= LSTM(units=16, return_sequences=True, return_state=False), dropout=0.5, \n",
        "                       optimizer= optimizers.Adam(0.001))"
      ],
      "execution_count": null,
      "outputs": [
        {
          "output_type": "stream",
          "text": [
            "Building embedding matrix...\n",
            "Embedding matrix built.\n",
            "Model: \"model\"\n",
            "_________________________________________________________________\n",
            "Layer (type)                 Output Shape              Param #   \n",
            "=================================================================\n",
            "input_1 (InputLayer)         [(None, 52)]              0         \n",
            "_________________________________________________________________\n",
            "embedding (Embedding)        (None, 52, 300)           4247400   \n",
            "_________________________________________________________________\n",
            "lstm (LSTM)                  (None, 52, 16)            20288     \n",
            "_________________________________________________________________\n",
            "dropout (Dropout)            (None, 52, 16)            0         \n",
            "_________________________________________________________________\n",
            "flatten (Flatten)            (None, 832)               0         \n",
            "_________________________________________________________________\n",
            "dense (Dense)                (None, 3)                 2499      \n",
            "=================================================================\n",
            "Total params: 4,270,187\n",
            "Trainable params: 22,787\n",
            "Non-trainable params: 4,247,400\n",
            "_________________________________________________________________\n"
          ],
          "name": "stdout"
        }
      ]
    },
    {
      "cell_type": "code",
      "metadata": {
        "id": "XDIpHJW_Kg8c",
        "colab": {
          "base_uri": "https://localhost:8080/"
        },
        "outputId": "e91641c1-ec84-4903-f866-677fe1f5e848"
      },
      "source": [
        "X_train.shape"
      ],
      "execution_count": null,
      "outputs": [
        {
          "output_type": "execute_result",
          "data": {
            "text/plain": [
              "(3740, 52)"
            ]
          },
          "metadata": {
            "tags": []
          },
          "execution_count": 16
        }
      ]
    },
    {
      "cell_type": "code",
      "metadata": {
        "id": "YuKcYPDjKj7f",
        "colab": {
          "base_uri": "https://localhost:8080/"
        },
        "outputId": "82d89404-efbf-4995-972c-dbcbc3081808"
      },
      "source": [
        "X_test.shape"
      ],
      "execution_count": null,
      "outputs": [
        {
          "output_type": "execute_result",
          "data": {
            "text/plain": [
              "(936, 52)"
            ]
          },
          "metadata": {
            "tags": []
          },
          "execution_count": 17
        }
      ]
    },
    {
      "cell_type": "code",
      "metadata": {
        "id": "nIdYkbZzjJpe",
        "colab": {
          "base_uri": "https://localhost:8080/"
        },
        "outputId": "d41df265-3573-411a-f6f0-75aa319beac9"
      },
      "source": [
        "time_start = time()\n",
        "history, model = train_fit_predict(model,\n",
        "                               X_train[:, :MAX_TEXT_LENGTH],\n",
        "                               X_test[:, :MAX_TEXT_LENGTH],\n",
        "                               train_y_cat, test_cat_y, class_weight=None,\n",
        "                               batch_size=1000, epochs=20)\n",
        "time_start = time() - time_start\n",
        "\n",
        "print(\"Took : \"+str(np.round(time_start, 2))+\" (s)\") "
      ],
      "execution_count": null,
      "outputs": [
        {
          "output_type": "stream",
          "text": [
            "Epoch 1/20\n",
            "4/4 [==============================] - 4s 566ms/step - loss: 1.0796 - accuracy: 0.4312 - val_loss: 1.0034 - val_accuracy: 0.6325\n",
            "\n",
            "Testing loss: 1.0033906698226929, acc: 0.632478654384613\n",
            "\n",
            "Epoch 2/20\n",
            "4/4 [==============================] - 1s 289ms/step - loss: 0.9839 - accuracy: 0.5958 - val_loss: 0.9216 - val_accuracy: 0.6485\n",
            "\n",
            "Testing loss: 0.9216460585594177, acc: 0.6485042572021484\n",
            "\n",
            "Epoch 3/20\n",
            "4/4 [==============================] - 1s 284ms/step - loss: 0.9166 - accuracy: 0.6165 - val_loss: 0.8722 - val_accuracy: 0.6485\n",
            "\n",
            "Testing loss: 0.8721710443496704, acc: 0.6485042572021484\n",
            "\n",
            "Epoch 4/20\n",
            "4/4 [==============================] - 1s 286ms/step - loss: 0.8897 - accuracy: 0.6186 - val_loss: 0.8461 - val_accuracy: 0.6485\n",
            "\n",
            "Testing loss: 0.8461318016052246, acc: 0.6485042572021484\n",
            "\n",
            "Epoch 5/20\n",
            "4/4 [==============================] - 1s 287ms/step - loss: 0.8588 - accuracy: 0.6270 - val_loss: 0.8329 - val_accuracy: 0.6506\n",
            "\n",
            "Testing loss: 0.8329213857650757, acc: 0.6506410241127014\n",
            "\n",
            "Epoch 6/20\n",
            "4/4 [==============================] - 1s 284ms/step - loss: 0.8514 - accuracy: 0.6253 - val_loss: 0.8202 - val_accuracy: 0.6528\n",
            "\n",
            "Testing loss: 0.820195734500885, acc: 0.6527777910232544\n",
            "\n",
            "Epoch 7/20\n",
            "4/4 [==============================] - 1s 278ms/step - loss: 0.8205 - accuracy: 0.6426 - val_loss: 0.7982 - val_accuracy: 0.6677\n",
            "\n",
            "Testing loss: 0.7981503009796143, acc: 0.6677350401878357\n",
            "\n",
            "Epoch 8/20\n",
            "4/4 [==============================] - 1s 286ms/step - loss: 0.7934 - accuracy: 0.6438 - val_loss: 0.7786 - val_accuracy: 0.6806\n",
            "\n",
            "Testing loss: 0.778641939163208, acc: 0.6805555820465088\n",
            "\n",
            "Epoch 9/20\n",
            "4/4 [==============================] - 1s 286ms/step - loss: 0.7789 - accuracy: 0.6553 - val_loss: 0.7582 - val_accuracy: 0.6998\n",
            "\n",
            "Testing loss: 0.758183479309082, acc: 0.6997863054275513\n",
            "\n",
            "Epoch 10/20\n",
            "4/4 [==============================] - 1s 290ms/step - loss: 0.7465 - accuracy: 0.6881 - val_loss: 0.7374 - val_accuracy: 0.7190\n",
            "\n",
            "Testing loss: 0.7374345660209656, acc: 0.7190170884132385\n",
            "\n",
            "Epoch 11/20\n",
            "4/4 [==============================] - 1s 289ms/step - loss: 0.7182 - accuracy: 0.7107 - val_loss: 0.7154 - val_accuracy: 0.7212\n",
            "\n",
            "Testing loss: 0.7153758406639099, acc: 0.7211538553237915\n",
            "\n",
            "Epoch 12/20\n",
            "4/4 [==============================] - 1s 286ms/step - loss: 0.6943 - accuracy: 0.7220 - val_loss: 0.6957 - val_accuracy: 0.7340\n",
            "\n",
            "Testing loss: 0.6957225799560547, acc: 0.7339743375778198\n",
            "\n",
            "Epoch 13/20\n",
            "4/4 [==============================] - 1s 291ms/step - loss: 0.6767 - accuracy: 0.7321 - val_loss: 0.6725 - val_accuracy: 0.7479\n",
            "\n",
            "Testing loss: 0.6725211143493652, acc: 0.747863233089447\n",
            "\n",
            "Epoch 14/20\n",
            "4/4 [==============================] - 1s 287ms/step - loss: 0.6470 - accuracy: 0.7399 - val_loss: 0.6475 - val_accuracy: 0.7671\n",
            "\n",
            "Testing loss: 0.6474632620811462, acc: 0.7670940160751343\n",
            "\n",
            "Epoch 15/20\n",
            "4/4 [==============================] - 1s 281ms/step - loss: 0.6350 - accuracy: 0.7352 - val_loss: 0.6251 - val_accuracy: 0.7714\n",
            "\n",
            "Testing loss: 0.6251420974731445, acc: 0.7713675498962402\n",
            "\n",
            "Epoch 16/20\n",
            "4/4 [==============================] - 1s 282ms/step - loss: 0.6093 - accuracy: 0.7517 - val_loss: 0.6041 - val_accuracy: 0.7831\n",
            "\n",
            "Testing loss: 0.6040968298912048, acc: 0.7831196784973145\n",
            "\n",
            "Epoch 17/20\n",
            "4/4 [==============================] - 1s 297ms/step - loss: 0.6001 - accuracy: 0.7554 - val_loss: 0.5909 - val_accuracy: 0.7842\n",
            "\n",
            "Testing loss: 0.5908536911010742, acc: 0.7841880321502686\n",
            "\n",
            "Epoch 18/20\n",
            "4/4 [==============================] - 1s 287ms/step - loss: 0.5799 - accuracy: 0.7678 - val_loss: 0.5806 - val_accuracy: 0.7885\n",
            "\n",
            "Testing loss: 0.5805957317352295, acc: 0.7884615659713745\n",
            "\n",
            "Epoch 19/20\n",
            "4/4 [==============================] - 1s 292ms/step - loss: 0.5656 - accuracy: 0.7663 - val_loss: 0.5725 - val_accuracy: 0.7778\n",
            "\n",
            "Testing loss: 0.5725330710411072, acc: 0.7777777910232544\n",
            "\n",
            "Epoch 20/20\n",
            "4/4 [==============================] - 1s 289ms/step - loss: 0.5455 - accuracy: 0.7809 - val_loss: 0.5658 - val_accuracy: 0.7863\n",
            "\n",
            "Testing loss: 0.5658174753189087, acc: 0.7863247990608215\n",
            "\n",
            "Took : 31.79 (s)\n"
          ],
          "name": "stdout"
        }
      ]
    },
    {
      "cell_type": "code",
      "metadata": {
        "id": "Yt-l_Q9Aj44w",
        "colab": {
          "base_uri": "https://localhost:8080/"
        },
        "outputId": "d801be30-c147-4e55-8b4a-160a8cfb8827"
      },
      "source": [
        "history.history.keys()"
      ],
      "execution_count": null,
      "outputs": [
        {
          "output_type": "execute_result",
          "data": {
            "text/plain": [
              "dict_keys(['loss', 'accuracy', 'val_loss', 'val_accuracy'])"
            ]
          },
          "metadata": {
            "tags": []
          },
          "execution_count": 19
        }
      ]
    },
    {
      "cell_type": "code",
      "metadata": {
        "id": "-xsxi8A1j_Fq",
        "colab": {
          "base_uri": "https://localhost:8080/"
        },
        "outputId": "b0c3621c-3a72-4f4b-bab7-0a095f39fa58"
      },
      "source": [
        "model.evaluate(X_test[:, :MAX_TEXT_LENGTH], test_cat_y, batch_size=1000)"
      ],
      "execution_count": null,
      "outputs": [
        {
          "output_type": "stream",
          "text": [
            "1/1 [==============================] - 0s 142ms/step - loss: 0.5658 - accuracy: 0.7863\n"
          ],
          "name": "stdout"
        },
        {
          "output_type": "execute_result",
          "data": {
            "text/plain": [
              "[0.5658174157142639, 0.7863247990608215]"
            ]
          },
          "metadata": {
            "tags": []
          },
          "execution_count": 20
        }
      ]
    },
    {
      "cell_type": "code",
      "metadata": {
        "id": "X1e78k51kZ1S",
        "colab": {
          "base_uri": "https://localhost:8080/"
        },
        "outputId": "d23ebf0b-1c0b-4dae-aedd-11d0e95c6a94"
      },
      "source": [
        "y_pred = np.argmax(model.predict(X_test[:, :MAX_TEXT_LENGTH]), axis=1)\n",
        "\n",
        "print(creport(np.argmax(test_cat_y, axis=1), y_pred,target_names=[\"normal\", \"abusive\", \"hate\"],digits=4))"
      ],
      "execution_count": null,
      "outputs": [
        {
          "output_type": "stream",
          "text": [
            "              precision    recall  f1-score   support\n",
            "\n",
            "      normal     0.7212    0.6174    0.6653       264\n",
            "     abusive     0.2727    0.0462    0.0789        65\n",
            "        hate     0.8155    0.9390    0.8729       607\n",
            "\n",
            "    accuracy                         0.7863       936\n",
            "   macro avg     0.6031    0.5342    0.5390       936\n",
            "weighted avg     0.7512    0.7863    0.7592       936\n",
            "\n"
          ],
          "name": "stdout"
        }
      ]
    },
    {
      "cell_type": "code",
      "metadata": {
        "id": "po5GA7KMkGUM",
        "colab": {
          "base_uri": "https://localhost:8080/"
        },
        "outputId": "e1c0f74a-3207-4e48-fc7d-040c937df34a"
      },
      "source": [
        "n = np.argmin(history.history['val_loss'])\n",
        "\n",
        "print(\"Optimal epoch : {}\".format(n))\n",
        "print(\"Accuracy on train : {} %\".format(np.round(history.history['accuracy'][n]*100, 2)))\n",
        "print(\"Accuracy on val : {} %\".format(np.round(history.history['val_accuracy'][n]*100, 2)))\n",
        "print(\"Loss on train : {}\".format(np.round(history.history['loss'][n]*100, 2)))\n",
        "print(\"Loss on Val : {}\".format(np.round(history.history['val_loss'][n]*100, 2)))"
      ],
      "execution_count": null,
      "outputs": [
        {
          "output_type": "stream",
          "text": [
            "Optimal epoch : 19\n",
            "Accuracy on train : 77.75 %\n",
            "Accuracy on val : 78.63 %\n",
            "Loss on train : 54.84\n",
            "Loss on Val : 56.58\n"
          ],
          "name": "stdout"
        }
      ]
    },
    {
      "cell_type": "code",
      "metadata": {
        "id": "PlVrg_zJkkLx",
        "colab": {
          "base_uri": "https://localhost:8080/",
          "height": 404
        },
        "outputId": "348ae1a3-d11e-42d6-8130-138192edc522"
      },
      "source": [
        "plt.figure(\"Loss Plot\", figsize=(12, 6))\n",
        "plt.plot(range(1, len(history.history['loss'])+1), history.history['loss'], label=\"train loss\")\n",
        "plt.plot(range(1, len(history.history['val_loss'])+1), history.history['val_loss'], label=\"val loss\")\n",
        "plt.plot(n+1,history.history[\"val_loss\"][n],\"r*\", label=\"Lowest loss\")\n",
        "plt.legend()\n",
        "plt.title(\"Learning Curve\")\n",
        "plt.ylabel(\"loss (cross_entropy)\")\n",
        "plt.xlabel(\"epochs\")\n",
        "plt.show();"
      ],
      "execution_count": null,
      "outputs": [
        {
          "output_type": "display_data",
          "data": {
            "image/png": "[encoded data removed]",
            "text/plain": [
              "<Figure size 864x432 with 1 Axes>"
            ]
          },
          "metadata": {
            "tags": [],
            "needs_background": "light"
          }
        }
      ]
    },
    {
      "cell_type": "code",
      "metadata": {
        "id": "qb4o3UXJkrLC",
        "colab": {
          "base_uri": "https://localhost:8080/",
          "height": 404
        },
        "outputId": "11d958e6-fe0f-41a9-f15d-2582eaa1c24c"
      },
      "source": [
        "plt.figure(\"Accuracy Plot\", figsize=(12, 6))\n",
        "plt.plot(range(1, len(history.history['accuracy'])+1), history.history['accuracy'], label=\"train accuracy\")\n",
        "plt.plot(range(1, len(history.history['val_accuracy'])+1), history.history['val_accuracy'], label=\"Val accuracy\")\n",
        "plt.plot(n+1,history.history[\"val_accuracy\"][n],\"r*\", label=\"Opt. Acc. (csp. Lowest loss)\")\n",
        "plt.legend()\n",
        "plt.title(\"Accuracy Curve\")\n",
        "plt.ylabel(\"accuracy\")\n",
        "plt.xlabel(\"epochs\")\n",
        "plt.show()"
      ],
      "execution_count": null,
      "outputs": [
        {
          "output_type": "display_data",
          "data": {
            "image/png": "[encoded data removed]",
            "text/plain": [
              "<Figure size 864x432 with 1 Axes>"
            ]
          },
          "metadata": {
            "tags": [],
            "needs_background": "light"
          }
        }
      ]
    },
    {
      "cell_type": "code",
      "metadata": {
        "id": "kZp0EW06kwhy",
        "colab": {
          "base_uri": "https://localhost:8080/",
          "height": 563
        },
        "outputId": "27cae1f7-262d-42e9-aee1-c739ba75bfbd"
      },
      "source": [
        "from keras.utils import plot_model\n",
        "plot_model(model, to_file='RNN_LSTM_model.png', show_shapes=False, show_layer_names=False)"
      ],
      "execution_count": null,
      "outputs": [
        {
          "output_type": "execute_result",
          "data": {
            "image/png": "[encoded data removed]",
            "text/plain": [
              "<IPython.core.display.Image object>"
            ]
          },
          "metadata": {
            "tags": []
          },
          "execution_count": 25
        }
      ]
    },
    {
      "cell_type": "markdown",
      "metadata": {
        "id": "F-XRhkE5wNkw"
      },
      "source": [
        "# RNN (BLSTM) Model \n"
      ]
    },
    {
      "cell_type": "code",
      "metadata": {
        "id": "wOhvzj0WXZ-g",
        "colab": {
          "base_uri": "https://localhost:8080/"
        },
        "outputId": "62fc67b9-73f2-4da9-b7a9-54c79684ac49"
      },
      "source": [
        "model = get_main_model(word_index, WORD_MODEL, EMBED_SIZE, MAX_TEXT_LENGTH, \n",
        "                       layer= Bidirectional(LSTM(units=32, return_sequences=True, return_state=False)), \n",
        "                       dropout=0.2, optimizer=optimizers.Adam())"
      ],
      "execution_count": null,
      "outputs": [
        {
          "output_type": "stream",
          "text": [
            "Building embedding matrix...\n",
            "Embedding matrix built.\n",
            "Model: \"model_1\"\n",
            "_________________________________________________________________\n",
            "Layer (type)                 Output Shape              Param #   \n",
            "=================================================================\n",
            "input_2 (InputLayer)         [(None, 52)]              0         \n",
            "_________________________________________________________________\n",
            "embedding_1 (Embedding)      (None, 52, 300)           4247400   \n",
            "_________________________________________________________________\n",
            "bidirectional (Bidirectional (None, 52, 64)            85248     \n",
            "_________________________________________________________________\n",
            "dropout_1 (Dropout)          (None, 52, 64)            0         \n",
            "_________________________________________________________________\n",
            "flatten_1 (Flatten)          (None, 3328)              0         \n",
            "_________________________________________________________________\n",
            "dense_1 (Dense)              (None, 3)                 9987      \n",
            "=================================================================\n",
            "Total params: 4,342,635\n",
            "Trainable params: 95,235\n",
            "Non-trainable params: 4,247,400\n",
            "_________________________________________________________________\n"
          ],
          "name": "stdout"
        }
      ]
    },
    {
      "cell_type": "code",
      "metadata": {
        "id": "i62FHvSzXk7Q",
        "colab": {
          "base_uri": "https://localhost:8080/"
        },
        "outputId": "c10ce052-31b2-450e-d0a1-6e1152f29a1b"
      },
      "source": [
        "time_start = time()\n",
        "history, model = train_fit_predict(model,\n",
        "                               X_train[:, :MAX_TEXT_LENGTH],\n",
        "                               X_test[:, :MAX_TEXT_LENGTH],\n",
        "                               train_y_cat, test_cat_y, class_weight=None,\n",
        "                               batch_size=1000, epochs=20)\n",
        "time_start = time() - time_start\n",
        "\n",
        "print(\"Took : \"+str(np.round(time_start, 2))+\" (s)\") "
      ],
      "execution_count": null,
      "outputs": [
        {
          "output_type": "stream",
          "text": [
            "Epoch 1/20\n",
            "4/4 [==============================] - 8s 1s/step - loss: 1.0618 - accuracy: 0.4620 - val_loss: 0.9294 - val_accuracy: 0.6485\n",
            "\n",
            "Testing loss: 0.9293670058250427, acc: 0.6485042572021484\n",
            "\n",
            "Epoch 2/20\n",
            "4/4 [==============================] - 3s 778ms/step - loss: 0.9096 - accuracy: 0.6114 - val_loss: 0.8380 - val_accuracy: 0.6485\n",
            "\n",
            "Testing loss: 0.8379753828048706, acc: 0.6485042572021484\n",
            "\n",
            "Epoch 3/20\n",
            "4/4 [==============================] - 3s 779ms/step - loss: 0.8464 - accuracy: 0.6199 - val_loss: 0.8064 - val_accuracy: 0.6806\n",
            "\n",
            "Testing loss: 0.8063808083534241, acc: 0.6805555820465088\n",
            "\n",
            "Epoch 4/20\n",
            "4/4 [==============================] - 3s 789ms/step - loss: 0.8083 - accuracy: 0.6757 - val_loss: 0.7629 - val_accuracy: 0.6838\n",
            "\n",
            "Testing loss: 0.762870728969574, acc: 0.6837607026100159\n",
            "\n",
            "Epoch 5/20\n",
            "4/4 [==============================] - 3s 781ms/step - loss: 0.7459 - accuracy: 0.6822 - val_loss: 0.7273 - val_accuracy: 0.7073\n",
            "\n",
            "Testing loss: 0.7273138761520386, acc: 0.7072649598121643\n",
            "\n",
            "Epoch 6/20\n",
            "4/4 [==============================] - 3s 776ms/step - loss: 0.7081 - accuracy: 0.7043 - val_loss: 0.6937 - val_accuracy: 0.7553\n",
            "\n",
            "Testing loss: 0.6936885118484497, acc: 0.7553418874740601\n",
            "\n",
            "Epoch 7/20\n",
            "4/4 [==============================] - 3s 778ms/step - loss: 0.6744 - accuracy: 0.7256 - val_loss: 0.6620 - val_accuracy: 0.7671\n",
            "\n",
            "Testing loss: 0.6619808077812195, acc: 0.7670940160751343\n",
            "\n",
            "Epoch 8/20\n",
            "4/4 [==============================] - 3s 777ms/step - loss: 0.6407 - accuracy: 0.7426 - val_loss: 0.6246 - val_accuracy: 0.7724\n",
            "\n",
            "Testing loss: 0.6246119737625122, acc: 0.7724359035491943\n",
            "\n",
            "Epoch 9/20\n",
            "4/4 [==============================] - 3s 783ms/step - loss: 0.6121 - accuracy: 0.7474 - val_loss: 0.6000 - val_accuracy: 0.7842\n",
            "\n",
            "Testing loss: 0.6000013947486877, acc: 0.7841880321502686\n",
            "\n",
            "Epoch 10/20\n",
            "4/4 [==============================] - 3s 780ms/step - loss: 0.5776 - accuracy: 0.7654 - val_loss: 0.5756 - val_accuracy: 0.7874\n",
            "\n",
            "Testing loss: 0.5756241083145142, acc: 0.7873931527137756\n",
            "\n",
            "Epoch 11/20\n",
            "4/4 [==============================] - 3s 784ms/step - loss: 0.5592 - accuracy: 0.7716 - val_loss: 0.5697 - val_accuracy: 0.7863\n",
            "\n",
            "Testing loss: 0.5697253346443176, acc: 0.7863247990608215\n",
            "\n",
            "Epoch 12/20\n",
            "4/4 [==============================] - 3s 780ms/step - loss: 0.5390 - accuracy: 0.7871 - val_loss: 0.5821 - val_accuracy: 0.7831\n",
            "\n",
            "Testing loss: 0.5820726156234741, acc: 0.7831196784973145\n",
            "\n",
            "Epoch 13/20\n",
            "4/4 [==============================] - 3s 787ms/step - loss: 0.5440 - accuracy: 0.7791 - val_loss: 0.5569 - val_accuracy: 0.7853\n",
            "\n",
            "Testing loss: 0.5568984746932983, acc: 0.7852563858032227\n",
            "\n",
            "Epoch 14/20\n",
            "4/4 [==============================] - 3s 795ms/step - loss: 0.4981 - accuracy: 0.7992 - val_loss: 0.5496 - val_accuracy: 0.7885\n",
            "\n",
            "Testing loss: 0.5495675206184387, acc: 0.7884615659713745\n",
            "\n",
            "Epoch 15/20\n",
            "4/4 [==============================] - 3s 785ms/step - loss: 0.5002 - accuracy: 0.7983 - val_loss: 0.5696 - val_accuracy: 0.7842\n",
            "\n",
            "Testing loss: 0.5695721507072449, acc: 0.7841880321502686\n",
            "\n",
            "Epoch 16/20\n",
            "4/4 [==============================] - 3s 787ms/step - loss: 0.5040 - accuracy: 0.7900 - val_loss: 0.5432 - val_accuracy: 0.7821\n",
            "\n",
            "Testing loss: 0.5432126522064209, acc: 0.7820512652397156\n",
            "\n",
            "Epoch 17/20\n",
            "4/4 [==============================] - 3s 790ms/step - loss: 0.4789 - accuracy: 0.8015 - val_loss: 0.5644 - val_accuracy: 0.7885\n",
            "\n",
            "Testing loss: 0.5643794536590576, acc: 0.7884615659713745\n",
            "\n",
            "Epoch 18/20\n",
            "4/4 [==============================] - 3s 791ms/step - loss: 0.4712 - accuracy: 0.8036 - val_loss: 0.5389 - val_accuracy: 0.7831\n",
            "\n",
            "Testing loss: 0.5388999581336975, acc: 0.7831196784973145\n",
            "\n",
            "Epoch 19/20\n",
            "4/4 [==============================] - 3s 788ms/step - loss: 0.4489 - accuracy: 0.8213 - val_loss: 0.5450 - val_accuracy: 0.7970\n",
            "\n",
            "Testing loss: 0.5450177192687988, acc: 0.7970085740089417\n",
            "\n",
            "Epoch 20/20\n",
            "4/4 [==============================] - 3s 795ms/step - loss: 0.4335 - accuracy: 0.8274 - val_loss: 0.5309 - val_accuracy: 0.7949\n",
            "\n",
            "Testing loss: 0.530890941619873, acc: 0.7948718070983887\n",
            "\n",
            "Took : 76.84 (s)\n"
          ],
          "name": "stdout"
        }
      ]
    },
    {
      "cell_type": "code",
      "metadata": {
        "id": "IWTJMbAqX5Gj",
        "colab": {
          "base_uri": "https://localhost:8080/"
        },
        "outputId": "4362070c-0db8-428f-9b66-363d4d7ea9d7"
      },
      "source": [
        "model.evaluate(X_test[:, :MAX_TEXT_LENGTH], test_cat_y, batch_size=1000)"
      ],
      "execution_count": null,
      "outputs": [
        {
          "output_type": "stream",
          "text": [
            "1/1 [==============================] - 0s 340ms/step - loss: 0.5309 - accuracy: 0.7949\n"
          ],
          "name": "stdout"
        },
        {
          "output_type": "execute_result",
          "data": {
            "text/plain": [
              "[0.530890941619873, 0.7948718070983887]"
            ]
          },
          "metadata": {
            "tags": []
          },
          "execution_count": 28
        }
      ]
    },
    {
      "cell_type": "code",
      "metadata": {
        "id": "Yf0CVyJrX-hu",
        "colab": {
          "base_uri": "https://localhost:8080/"
        },
        "outputId": "0da3cc54-ab1e-4fa2-abd2-6699b485ffbf"
      },
      "source": [
        "y_pred = np.argmax(model.predict(X_test[:, :MAX_TEXT_LENGTH]), axis=1)\n",
        "\n",
        "print(creport(np.argmax(test_cat_y, axis=1), y_pred,target_names=[\"normal\", \"abusive\", \"hate\"],digits=4))"
      ],
      "execution_count": null,
      "outputs": [
        {
          "output_type": "stream",
          "text": [
            "              precision    recall  f1-score   support\n",
            "\n",
            "      normal     0.7289    0.6212    0.6708       264\n",
            "     abusive     0.4348    0.1538    0.2273        65\n",
            "        hate     0.8285    0.9390    0.8803       607\n",
            "\n",
            "    accuracy                         0.7949       936\n",
            "   macro avg     0.6641    0.5714    0.5928       936\n",
            "weighted avg     0.7731    0.7949    0.7759       936\n",
            "\n"
          ],
          "name": "stdout"
        }
      ]
    },
    {
      "cell_type": "code",
      "metadata": {
        "id": "obRHXAI5wVab",
        "colab": {
          "base_uri": "https://localhost:8080/",
          "height": 404
        },
        "outputId": "67c7d6cb-3d5a-451e-ce3d-2e11be7c5789"
      },
      "source": [
        "plt.figure(\"Loss Plot\", figsize=(12, 6))\n",
        "plt.plot(range(1, len(history.history['loss'])+1), history.history['loss'], label=\"train loss\")\n",
        "plt.plot(range(1, len(history.history['val_loss'])+1), history.history['val_loss'], label=\"val loss\")\n",
        "plt.plot(n+1,history.history[\"val_loss\"][n],\"r*\", label=\"Lowest loss\")\n",
        "plt.legend()\n",
        "plt.title(\"Learning Curve\")\n",
        "plt.ylabel(\"loss (cross_entropy)\")\n",
        "plt.xlabel(\"epochs\")\n",
        "plt.show();"
      ],
      "execution_count": null,
      "outputs": [
        {
          "output_type": "display_data",
          "data": {
            "image/png": "[encoded data removed]",
            "text/plain": [
              "<Figure size 864x432 with 1 Axes>"
            ]
          },
          "metadata": {
            "tags": [],
            "needs_background": "light"
          }
        }
      ]
    },
    {
      "cell_type": "code",
      "metadata": {
        "id": "VZxzxLv7wa2e",
        "colab": {
          "base_uri": "https://localhost:8080/",
          "height": 404
        },
        "outputId": "3bb2e808-5fc3-4e45-e7b8-9f4dfb304eba"
      },
      "source": [
        "plt.figure(\"Accuracy Plot\", figsize=(12, 6))\n",
        "plt.plot(range(1, len(history.history['accuracy'])+1), history.history['accuracy'], label=\"train accuracy\")\n",
        "plt.plot(range(1, len(history.history['val_accuracy'])+1), history.history['val_accuracy'], label=\"Val accuracy\")\n",
        "plt.plot(n+1,history.history[\"val_accuracy\"][n],\"r*\", label=\"Opt. Acc. (csp. Lowest loss)\")\n",
        "plt.legend()\n",
        "plt.title(\"Accuracy Curve\")\n",
        "plt.ylabel(\"accuracy\")\n",
        "plt.xlabel(\"epochs\")\n",
        "plt.show()"
      ],
      "execution_count": null,
      "outputs": [
        {
          "output_type": "display_data",
          "data": {
            "image/png": "[encoded data removed]",
            "text/plain": [
              "<Figure size 864x432 with 1 Axes>"
            ]
          },
          "metadata": {
            "tags": [],
            "needs_background": "light"
          }
        }
      ]
    },
    {
      "cell_type": "code",
      "metadata": {
        "id": "Hjkr6-woi004",
        "colab": {
          "base_uri": "https://localhost:8080/",
          "height": 563
        },
        "outputId": "01b5d2b7-3b9c-43dc-8022-b79ef0428c3a"
      },
      "source": [
        "plot_model(model, to_file='RNN_BLSTM_model.png', show_shapes=False, show_layer_names=False)"
      ],
      "execution_count": null,
      "outputs": [
        {
          "output_type": "execute_result",
          "data": {
            "image/png": "[encoded data removed]",
            "text/plain": [
              "<IPython.core.display.Image object>"
            ]
          },
          "metadata": {
            "tags": []
          },
          "execution_count": 32
        }
      ]
    },
    {
      "cell_type": "markdown",
      "metadata": {
        "id": "noAxq9pOwUrb"
      },
      "source": [
        "# RNN (GRU) Model\n"
      ]
    },
    {
      "cell_type": "code",
      "metadata": {
        "id": "cq0ES8O8djoG",
        "colab": {
          "base_uri": "https://localhost:8080/"
        },
        "outputId": "4abb1c6a-7935-498d-c566-4460eee838a4"
      },
      "source": [
        "model = get_main_model(word_index, WORD_MODEL, EMBED_SIZE, MAX_TEXT_LENGTH, \n",
        "                       layer= GRU(units=16, return_sequences=True, return_state=False), \n",
        "                       dropout=0.5, optimizer=optimizers.Adam())"
      ],
      "execution_count": null,
      "outputs": [
        {
          "output_type": "stream",
          "text": [
            "Building embedding matrix...\n",
            "Embedding matrix built.\n",
            "Model: \"model_2\"\n",
            "_________________________________________________________________\n",
            "Layer (type)                 Output Shape              Param #   \n",
            "=================================================================\n",
            "input_3 (InputLayer)         [(None, 52)]              0         \n",
            "_________________________________________________________________\n",
            "embedding_2 (Embedding)      (None, 52, 300)           4247400   \n",
            "_________________________________________________________________\n",
            "gru (GRU)                    (None, 52, 16)            15264     \n",
            "_________________________________________________________________\n",
            "dropout_2 (Dropout)          (None, 52, 16)            0         \n",
            "_________________________________________________________________\n",
            "flatten_2 (Flatten)          (None, 832)               0         \n",
            "_________________________________________________________________\n",
            "dense_2 (Dense)              (None, 3)                 2499      \n",
            "=================================================================\n",
            "Total params: 4,265,163\n",
            "Trainable params: 17,763\n",
            "Non-trainable params: 4,247,400\n",
            "_________________________________________________________________\n"
          ],
          "name": "stdout"
        }
      ]
    },
    {
      "cell_type": "code",
      "metadata": {
        "id": "SGyK0YxHeHxU",
        "colab": {
          "base_uri": "https://localhost:8080/"
        },
        "outputId": "3aae54cd-99cb-4439-a3b8-ae85ce259f1d"
      },
      "source": [
        "time_start = time()\n",
        "history, model = train_fit_predict(model,\n",
        "                               X_train[:, :MAX_TEXT_LENGTH],\n",
        "                               X_test[:, :MAX_TEXT_LENGTH],\n",
        "                               train_y_cat, test_cat_y, class_weight=None,\n",
        "                               batch_size=1000, epochs=20)\n",
        "time_start = time() - time_start\n",
        "\n",
        "print(\"Took : \"+str(np.round(time_start, 2))+\" (s)\") "
      ],
      "execution_count": null,
      "outputs": [
        {
          "output_type": "stream",
          "text": [
            "Epoch 1/20\n",
            "4/4 [==============================] - 4s 448ms/step - loss: 1.1034 - accuracy: 0.3366 - val_loss: 1.0362 - val_accuracy: 0.5940\n",
            "\n",
            "Testing loss: 1.0361565351486206, acc: 0.5940170884132385\n",
            "\n",
            "Epoch 2/20\n",
            "4/4 [==============================] - 1s 271ms/step - loss: 1.0228 - accuracy: 0.5442 - val_loss: 0.9459 - val_accuracy: 0.6474\n",
            "\n",
            "Testing loss: 0.9458761811256409, acc: 0.6474359035491943\n",
            "\n",
            "Epoch 3/20\n",
            "4/4 [==============================] - 1s 267ms/step - loss: 0.9365 - accuracy: 0.6164 - val_loss: 0.8678 - val_accuracy: 0.6485\n",
            "\n",
            "Testing loss: 0.8677916526794434, acc: 0.6485042572021484\n",
            "\n",
            "Epoch 4/20\n",
            "4/4 [==============================] - 1s 265ms/step - loss: 0.8829 - accuracy: 0.6194 - val_loss: 0.8267 - val_accuracy: 0.6485\n",
            "\n",
            "Testing loss: 0.8267066478729248, acc: 0.6485042572021484\n",
            "\n",
            "Epoch 5/20\n",
            "4/4 [==============================] - 1s 262ms/step - loss: 0.8531 - accuracy: 0.6179 - val_loss: 0.8046 - val_accuracy: 0.6485\n",
            "\n",
            "Testing loss: 0.8046457171440125, acc: 0.6485042572021484\n",
            "\n",
            "Epoch 6/20\n",
            "4/4 [==============================] - 1s 258ms/step - loss: 0.8403 - accuracy: 0.6237 - val_loss: 0.7914 - val_accuracy: 0.6709\n",
            "\n",
            "Testing loss: 0.7914136052131653, acc: 0.6709401607513428\n",
            "\n",
            "Epoch 7/20\n",
            "4/4 [==============================] - 1s 261ms/step - loss: 0.8196 - accuracy: 0.6524 - val_loss: 0.7751 - val_accuracy: 0.6966\n",
            "\n",
            "Testing loss: 0.7751063704490662, acc: 0.6965811848640442\n",
            "\n",
            "Epoch 8/20\n",
            "4/4 [==============================] - 1s 264ms/step - loss: 0.7832 - accuracy: 0.6745 - val_loss: 0.7549 - val_accuracy: 0.7051\n",
            "\n",
            "Testing loss: 0.7549139261245728, acc: 0.7051281929016113\n",
            "\n",
            "Epoch 9/20\n",
            "4/4 [==============================] - 1s 265ms/step - loss: 0.7556 - accuracy: 0.6799 - val_loss: 0.7389 - val_accuracy: 0.7233\n",
            "\n",
            "Testing loss: 0.738941490650177, acc: 0.7232906222343445\n",
            "\n",
            "Epoch 10/20\n",
            "4/4 [==============================] - 1s 261ms/step - loss: 0.7358 - accuracy: 0.7025 - val_loss: 0.7253 - val_accuracy: 0.7340\n",
            "\n",
            "Testing loss: 0.7253318428993225, acc: 0.7339743375778198\n",
            "\n",
            "Epoch 11/20\n",
            "4/4 [==============================] - 1s 265ms/step - loss: 0.7257 - accuracy: 0.7110 - val_loss: 0.7109 - val_accuracy: 0.7329\n",
            "\n",
            "Testing loss: 0.710904598236084, acc: 0.7329059839248657\n",
            "\n",
            "Epoch 12/20\n",
            "4/4 [==============================] - 1s 263ms/step - loss: 0.7115 - accuracy: 0.7141 - val_loss: 0.6952 - val_accuracy: 0.7393\n",
            "\n",
            "Testing loss: 0.6952459216117859, acc: 0.7393162250518799\n",
            "\n",
            "Epoch 13/20\n",
            "4/4 [==============================] - 1s 269ms/step - loss: 0.6795 - accuracy: 0.7203 - val_loss: 0.6794 - val_accuracy: 0.7404\n",
            "\n",
            "Testing loss: 0.6793575286865234, acc: 0.7403846383094788\n",
            "\n",
            "Epoch 14/20\n",
            "4/4 [==============================] - 1s 266ms/step - loss: 0.6712 - accuracy: 0.7358 - val_loss: 0.6635 - val_accuracy: 0.7532\n",
            "\n",
            "Testing loss: 0.6635125875473022, acc: 0.7532051205635071\n",
            "\n",
            "Epoch 15/20\n",
            "4/4 [==============================] - 1s 262ms/step - loss: 0.6650 - accuracy: 0.7353 - val_loss: 0.6479 - val_accuracy: 0.7564\n",
            "\n",
            "Testing loss: 0.6478943824768066, acc: 0.7564102411270142\n",
            "\n",
            "Epoch 16/20\n",
            "4/4 [==============================] - 1s 268ms/step - loss: 0.6409 - accuracy: 0.7488 - val_loss: 0.6335 - val_accuracy: 0.7618\n",
            "\n",
            "Testing loss: 0.6334742903709412, acc: 0.7617521286010742\n",
            "\n",
            "Epoch 17/20\n",
            "4/4 [==============================] - 1s 266ms/step - loss: 0.6204 - accuracy: 0.7518 - val_loss: 0.6185 - val_accuracy: 0.7671\n",
            "\n",
            "Testing loss: 0.6184708476066589, acc: 0.7670940160751343\n",
            "\n",
            "Epoch 18/20\n",
            "4/4 [==============================] - 1s 262ms/step - loss: 0.6117 - accuracy: 0.7579 - val_loss: 0.6050 - val_accuracy: 0.7735\n",
            "\n",
            "Testing loss: 0.6050268411636353, acc: 0.7735042572021484\n",
            "\n",
            "Epoch 19/20\n",
            "4/4 [==============================] - 1s 271ms/step - loss: 0.5951 - accuracy: 0.7660 - val_loss: 0.5935 - val_accuracy: 0.7746\n",
            "\n",
            "Testing loss: 0.5935264229774475, acc: 0.7745726704597473\n",
            "\n",
            "Epoch 20/20\n",
            "4/4 [==============================] - 1s 271ms/step - loss: 0.5831 - accuracy: 0.7696 - val_loss: 0.5823 - val_accuracy: 0.7746\n",
            "\n",
            "Testing loss: 0.5823114514350891, acc: 0.7745726704597473\n",
            "\n",
            "Took : 29.9 (s)\n"
          ],
          "name": "stdout"
        }
      ]
    },
    {
      "cell_type": "code",
      "metadata": {
        "id": "8ENyBQVzejz9",
        "colab": {
          "base_uri": "https://localhost:8080/"
        },
        "outputId": "390a5bb0-e131-4cc4-f994-21e140e090b1"
      },
      "source": [
        "model.evaluate(X_test[:, :MAX_TEXT_LENGTH], test_cat_y, batch_size=1000)"
      ],
      "execution_count": null,
      "outputs": [
        {
          "output_type": "stream",
          "text": [
            "1/1 [==============================] - 0s 122ms/step - loss: 0.5823 - accuracy: 0.7746\n"
          ],
          "name": "stdout"
        },
        {
          "output_type": "execute_result",
          "data": {
            "text/plain": [
              "[0.5823113918304443, 0.7745726704597473]"
            ]
          },
          "metadata": {
            "tags": []
          },
          "execution_count": 35
        }
      ]
    },
    {
      "cell_type": "code",
      "metadata": {
        "id": "ZoiPJ2MXejop",
        "colab": {
          "base_uri": "https://localhost:8080/"
        },
        "outputId": "b2e2078a-31e7-41aa-e53f-3b198a643b95"
      },
      "source": [
        "y_pred = np.argmax(model.predict(X_test[:, :MAX_TEXT_LENGTH]), axis=1)\n",
        "\n",
        "print(creport(np.argmax(test_cat_y, axis=1), y_pred,target_names=[\"normal\", \"abusive\", \"hate\"],digits=4))"
      ],
      "execution_count": null,
      "outputs": [
        {
          "output_type": "stream",
          "text": [
            "              precision    recall  f1-score   support\n",
            "\n",
            "      normal     0.6816    0.5758    0.6242       264\n",
            "     abusive     0.0000    0.0000    0.0000        65\n",
            "        hate     0.8036    0.9440    0.8682       607\n",
            "\n",
            "    accuracy                         0.7746       936\n",
            "   macro avg     0.4951    0.5066    0.4975       936\n",
            "weighted avg     0.7134    0.7746    0.7391       936\n",
            "\n"
          ],
          "name": "stdout"
        },
        {
          "output_type": "stream",
          "text": [
            "/usr/local/lib/python3.7/dist-packages/sklearn/metrics/_classification.py:1272: UndefinedMetricWarning: Precision and F-score are ill-defined and being set to 0.0 in labels with no predicted samples. Use `zero_division` parameter to control this behavior.\n",
            "  _warn_prf(average, modifier, msg_start, len(result))\n"
          ],
          "name": "stderr"
        }
      ]
    },
    {
      "cell_type": "code",
      "metadata": {
        "id": "osQcYHPuwint",
        "colab": {
          "base_uri": "https://localhost:8080/",
          "height": 404
        },
        "outputId": "dd4a3e9a-423f-4384-dd23-6a8f27e6ce46"
      },
      "source": [
        "plt.figure(\"Loss Plot\", figsize=(12, 6))\n",
        "plt.plot(range(1, len(history.history['loss'])+1), history.history['loss'], label=\"train loss\")\n",
        "plt.plot(range(1, len(history.history['val_loss'])+1), history.history['val_loss'], label=\"val loss\")\n",
        "plt.plot(n+1,history.history[\"val_loss\"][n],\"r*\", label=\"Lowest loss\")\n",
        "plt.legend()\n",
        "plt.title(\"Learning Curve\")\n",
        "plt.ylabel(\"loss (cross_entropy)\")\n",
        "plt.xlabel(\"epochs\")\n",
        "plt.show();"
      ],
      "execution_count": null,
      "outputs": [
        {
          "output_type": "display_data",
          "data": {
            "image/png": "[encoded data removed]",
            "text/plain": [
              "<Figure size 864x432 with 1 Axes>"
            ]
          },
          "metadata": {
            "tags": [],
            "needs_background": "light"
          }
        }
      ]
    },
    {
      "cell_type": "code",
      "metadata": {
        "id": "ZKE2PvStwfon",
        "colab": {
          "base_uri": "https://localhost:8080/",
          "height": 404
        },
        "outputId": "66caeb45-306d-483c-968e-06f3a54e7757"
      },
      "source": [
        "plt.figure(\"Accuracy Plot\", figsize=(12, 6))\n",
        "plt.plot(range(1, len(history.history['accuracy'])+1), history.history['accuracy'], label=\"train accuracy\")\n",
        "plt.plot(range(1, len(history.history['val_accuracy'])+1), history.history['val_accuracy'], label=\"Val accuracy\")\n",
        "plt.plot(n+1,history.history[\"val_accuracy\"][n],\"r*\", label=\"Opt. Acc. (csp. Lowest loss)\")\n",
        "plt.legend()\n",
        "plt.title(\"Accuracy Curve\")\n",
        "plt.ylabel(\"accuracy\")\n",
        "plt.xlabel(\"epochs\")\n",
        "plt.show()"
      ],
      "execution_count": null,
      "outputs": [
        {
          "output_type": "display_data",
          "data": {
            "image/png": "[encoded data removed]",
            "text/plain": [
              "<Figure size 864x432 with 1 Axes>"
            ]
          },
          "metadata": {
            "tags": [],
            "needs_background": "light"
          }
        }
      ]
    },
    {
      "cell_type": "code",
      "metadata": {
        "id": "4UMgjml0i4nQ",
        "colab": {
          "base_uri": "https://localhost:8080/",
          "height": 563
        },
        "outputId": "48d6648e-1e46-41d3-ca0e-e1533c9dfe90"
      },
      "source": [
        "plot_model(model, to_file='RNN_GRU_model.png', show_shapes=False, show_layer_names=False)"
      ],
      "execution_count": null,
      "outputs": [
        {
          "output_type": "execute_result",
          "data": {
            "image/png": "[encoded data removed]",
            "text/plain": [
              "<IPython.core.display.Image object>"
            ]
          },
          "metadata": {
            "tags": []
          },
          "execution_count": 39
        }
      ]
    }
  ]
}