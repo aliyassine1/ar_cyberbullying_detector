{
  "nbformat": 4,
  "nbformat_minor": 0,
  "metadata": {
    "accelerator": "GPU",
    "colab": {
      "name": "463_1 Balanced",
      "provenance": [],
      "collapsed_sections": []
    },
    "kernelspec": {
      "display_name": "Python 3",
      "name": "python3"
    }
  },
  "cells": [
    {
      "cell_type": "markdown",
      "metadata": {
        "id": "evavjP3jjxQt"
      },
      "source": [
        "# 1. Data Loading and  Exploration\n",
        "\n"
      ]
    },
    {
      "cell_type": "code",
      "metadata": {
        "colab": {
          "base_uri": "https://localhost:8080/"
        },
        "id": "yk-Eo_LrkHMZ",
        "outputId": "0c25dc4e-fb1d-464f-91e1-62413c46c8f6"
      },
      "source": [
        "from google.colab import drive\n",
        "drive.mount('/content/drive')"
      ],
      "execution_count": null,
      "outputs": [
        {
          "output_type": "stream",
          "text": [
            "Mounted at /content/drive\n"
          ],
          "name": "stdout"
        }
      ]
    },
    {
      "cell_type": "code",
      "metadata": {
        "id": "JuITAb7bJZgU"
      },
      "source": [
        "import re\n",
        "import string\n",
        "import math\n",
        "import numpy as np\n",
        "import pandas as pd\n",
        "import seaborn as sns\n",
        "import matplotlib.pyplot as plt\n",
        "\n",
        "from sklearn import model_selection, naive_bayes, svm\n",
        "from sklearn import metrics\n",
        "from sklearn.metrics import f1_score\n",
        "from sklearn.metrics import accuracy_score\n",
        "from sklearn.metrics import classification_report as creport\n",
        "\n",
        "\n",
        "from multiprocessing import Pool"
      ],
      "execution_count": null,
      "outputs": []
    },
    {
      "cell_type": "markdown",
      "metadata": {
        "id": "Fa7-DN6vU53M"
      },
      "source": [
        "### **Loading Data**"
      ]
    },
    {
      "cell_type": "code",
      "metadata": {
        "id": "KmcNjsUNfbFN",
        "colab": {
          "base_uri": "https://localhost:8080/",
          "height": 202
        },
        "outputId": "20e58b4f-6c03-4a1a-8e37-14c6333437b6"
      },
      "source": [
        "train_data = pd.read_csv('/content/drive/MyDrive/Updated_Dataset.csv')\n",
        "train_data.head()"
      ],
      "execution_count": null,
      "outputs": [
        {
          "output_type": "execute_result",
          "data": {
            "text/html": [
              "<div>\n",
              "<style scoped>\n",
              "    .dataframe tbody tr th:only-of-type {\n",
              "        vertical-align: middle;\n",
              "    }\n",
              "\n",
              "    .dataframe tbody tr th {\n",
              "        vertical-align: top;\n",
              "    }\n",
              "\n",
              "    .dataframe thead th {\n",
              "        text-align: right;\n",
              "    }\n",
              "</style>\n",
              "<table border=\"1\" class=\"dataframe\">\n",
              "  <thead>\n",
              "    <tr style=\"text-align: right;\">\n",
              "      <th></th>\n",
              "      <th>Tweet</th>\n",
              "      <th>Class</th>\n",
              "    </tr>\n",
              "  </thead>\n",
              "  <tbody>\n",
              "    <tr>\n",
              "      <th>0</th>\n",
              "      <td>وسخ وليس وصخ هاه مين الوسخ فينا يا نجم ...</td>\n",
              "      <td>hate</td>\n",
              "    </tr>\n",
              "    <tr>\n",
              "      <th>1</th>\n",
              "      <td>لا تحسبوني نسيتكم يا عبنده يا كويحة يا م...</td>\n",
              "      <td>hate</td>\n",
              "    </tr>\n",
              "    <tr>\n",
              "      <th>2</th>\n",
              "      <td>تحرير فلسطين اله رجاله ، وانتوا يا نسل ال...</td>\n",
              "      <td>hate</td>\n",
              "    </tr>\n",
              "    <tr>\n",
              "      <th>3</th>\n",
              "      <td>يا لبناني يا فضلات الاستعمار الفرنسي اللب...</td>\n",
              "      <td>hate</td>\n",
              "    </tr>\n",
              "    <tr>\n",
              "      <th>4</th>\n",
              "      <td>الخيانه والغدر والعماله من خصالكم نحن من ح...</td>\n",
              "      <td>hate</td>\n",
              "    </tr>\n",
              "  </tbody>\n",
              "</table>\n",
              "</div>"
            ],
            "text/plain": [
              "                                               Tweet Class\n",
              "0         وسخ وليس وصخ هاه مين الوسخ فينا يا نجم ...  hate\n",
              "1        لا تحسبوني نسيتكم يا عبنده يا كويحة يا م...  hate\n",
              "2       تحرير فلسطين اله رجاله ، وانتوا يا نسل ال...  hate\n",
              "3       يا لبناني يا فضلات الاستعمار الفرنسي اللب...  hate\n",
              "4      الخيانه والغدر والعماله من خصالكم نحن من ح...  hate"
            ]
          },
          "metadata": {
            "tags": []
          },
          "execution_count": 3
        }
      ]
    },
    {
      "cell_type": "code",
      "metadata": {
        "id": "d8r2frbKft2I",
        "colab": {
          "base_uri": "https://localhost:8080/"
        },
        "outputId": "88468891-1739-4fae-b948-988f9d734cac"
      },
      "source": [
        "print(\"Train data shape:{}\".format(train_data.shape))"
      ],
      "execution_count": null,
      "outputs": [
        {
          "output_type": "stream",
          "text": [
            "Train data shape:(2519, 2)\n"
          ],
          "name": "stdout"
        }
      ]
    },
    {
      "cell_type": "markdown",
      "metadata": {
        "id": "yoKuXMED7dLJ"
      },
      "source": [
        "### **Checking Missing Values**"
      ]
    },
    {
      "cell_type": "code",
      "metadata": {
        "id": "rkLxCSlIfto-",
        "colab": {
          "base_uri": "https://localhost:8080/"
        },
        "outputId": "22e0fee2-ba66-45d4-d583-ffa88504465b"
      },
      "source": [
        "train_data.isnull().sum()"
      ],
      "execution_count": null,
      "outputs": [
        {
          "output_type": "execute_result",
          "data": {
            "text/plain": [
              "Tweet    0\n",
              "Class    0\n",
              "dtype: int64"
            ]
          },
          "metadata": {
            "tags": []
          },
          "execution_count": 5
        }
      ]
    },
    {
      "cell_type": "markdown",
      "metadata": {
        "id": "BGlLuRWq8Lqm"
      },
      "source": [
        "There are no missing values in both train and dev dataset."
      ]
    },
    {
      "cell_type": "markdown",
      "metadata": {
        "id": "pRpVxuuo8cGg"
      },
      "source": [
        "### **Class distribution in L-HSAB dataset**"
      ]
    },
    {
      "cell_type": "code",
      "metadata": {
        "id": "SXZNNukLgwAe",
        "colab": {
          "base_uri": "https://localhost:8080/"
        },
        "outputId": "a22f8b9d-3567-4df8-86f2-ef60919fa0bd"
      },
      "source": [
        "train_data['Class'].value_counts()"
      ],
      "execution_count": null,
      "outputs": [
        {
          "output_type": "execute_result",
          "data": {
            "text/plain": [
              "normal     861\n",
              "abusive    829\n",
              "hate       829\n",
              "Name: Class, dtype: int64"
            ]
          },
          "metadata": {
            "tags": []
          },
          "execution_count": 6
        }
      ]
    },
    {
      "cell_type": "code",
      "metadata": {
        "id": "tHJkIE6JhHVU",
        "colab": {
          "base_uri": "https://localhost:8080/",
          "height": 264
        },
        "outputId": "d3c551eb-e0aa-48e3-cfd2-0e9d0df6fbbb"
      },
      "source": [
        "# Data to plot\n",
        "labels = \"normal\", \"abusive\", \"hate\" \n",
        "sizes = [train_data['Class'].value_counts()[0], train_data['Class'].value_counts()[1], train_data['Class'].value_counts()[2]]\n",
        "colors = ['lightskyblue', 'yellow', \"red\"]\n",
        "explode = (0.02,0.02, 0.02) \n",
        "\n",
        "# Plot\n",
        "plt.pie(sizes, explode=explode, labels=labels, colors=colors,\n",
        "autopct='%1.1f%%', shadow=True, startangle=140)\n",
        "\n",
        "plt.axis('equal')\n",
        "plt.title(\"Train Data\")\n",
        "plt.show()"
      ],
      "execution_count": null,
      "outputs": [
        {
          "output_type": "display_data",
          "data": {
            "image/png": "[encoded data removed]",
            "text/plain": [
              "<Figure size 432x288 with 1 Axes>"
            ]
          },
          "metadata": {
            "tags": []
          }
        }
      ]
    },
    {
      "cell_type": "markdown",
      "metadata": {
        "id": "GOjj6XvckTSB"
      },
      "source": [
        "# 2. Data Cleaning\n",
        "To prepare our dataset for the feature extraction process, basic text preprocessing is done as follows:"
      ]
    },
    {
      "cell_type": "code",
      "metadata": {
        "id": "cTEWf1FbyXxu"
      },
      "source": [
        "def clean(df):\n",
        "    df = remove_diacritics(df)\n",
        "    df = normalize_arabic(df)\n",
        "    df = remove_punctuations(df)\n",
        "    df = remove_repeating_char(df)\n",
        "    df= remove_english_word_and_numbers(df)\n",
        "    df=clean_space(df)\n",
        "    return df"
      ],
      "execution_count": null,
      "outputs": []
    },
    {
      "cell_type": "code",
      "metadata": {
        "id": "3Y2ur_EkyeQy"
      },
      "source": [
        "arabic_punctuations = '''`÷« »×؛<>٩٨'٧٦٥٤٣٢١٠_()↗*•&^%][ـ،/:\"؟.,'{}⋮≈~¦+|٪!”…“–ـ/[]%=#*+\\\\•~@£·_{}©^®`→°€™›♥←×§″′Â█à…“★”–●â►−¢¬░¶↑±▾\t═¦║―¥▓—‹─▒：⊕▼▪†■’▀¨▄♫☆é¯♦¤▲è¸Ã⋅‘∞∙）↓、│（»，♪╩╚³・╦╣╔╗▬❤ïØ¹≤‡₹´'''\n",
        "english_punctuations = string.punctuation\n",
        "punctuations_list = arabic_punctuations + english_punctuations\n",
        "\n",
        "arabic_diacritics = re.compile(\"\"\"\n",
        "                             ّ    | # Tashdid\n",
        "                             َ    | # Fatha\n",
        "                             ً    | # Tanwin Fath\n",
        "                             ُ    | # Damma\n",
        "                             ٌ    | # Tanwin Damm\n",
        "                             ِ    | # Kasra\n",
        "                             ٍ    | # Tanwin Kasr\n",
        "                             ْ    | # Sukun\n",
        "                             ـ     # Tatwil/Kashida\n",
        "                         \"\"\", re.VERBOSE)"
      ],
      "execution_count": null,
      "outputs": []
    },
    {
      "cell_type": "code",
      "metadata": {
        "id": "ODlY489hyuNN"
      },
      "source": [
        "def remove_diacritics(df):\n",
        "    df['Tweet'] = df['Tweet'].apply(lambda x: _remove_diacritics(x))\n",
        "    return df\n",
        "def _remove_diacritics(x):\n",
        "    x = str(x)\n",
        "    x = re.sub(arabic_diacritics, '', x)\n",
        "    return x\n",
        "\n",
        "def normalize_arabic(df):\n",
        "    df['Tweet'] = df['Tweet'].apply(lambda x: _normalize_arabic(x))\n",
        "    return df\n",
        "def _normalize_arabic(x):\n",
        "    x = str(x)\n",
        "    # added space around puncts after replace\n",
        "    x = re.sub(\"[إأآا]\", \"ا\", x)\n",
        "    x = re.sub(\"ى\", \"ي\", x)\n",
        "    x = re.sub(\"ؤ\", \"ء\", x)\n",
        "    x = re.sub(\"ئ\", \"ء\", x)\n",
        "    x = re.sub(\"ة\", \"ه\", x)\n",
        "    x = re.sub(\"گ\", \"ك\", x)\n",
        "    return x\n",
        "\n",
        "def remove_punctuations(df):\n",
        "    df['Tweet'] = df['Tweet'].apply(lambda x: _remove_punctuations(x))\n",
        "    return df\n",
        "def _remove_punctuations(x):\n",
        "    x = str(x)\n",
        "    #translator = str.maketrans(' ', ' ', punctuations_list)\n",
        "    translator = str.maketrans(punctuations_list, ' '*len(punctuations_list))\n",
        "    return x.translate(translator)\n",
        "\n",
        "def remove_repeating_char(df):\n",
        "    df['Tweet'] = df['Tweet'].apply(lambda x: _remove_repeating_char(x))\n",
        "    return df\n",
        "def _remove_repeating_char(x):\n",
        "    x = str(x)\n",
        "    return re.sub(r'(.)\\1+', r'\\1', x)\n",
        "\n",
        "def remove_english_word_and_numbers(df):\n",
        "    df['Tweet'] = df['Tweet'].apply(lambda x: _remove_english_word_and_numbers(x))\n",
        "    return df\n",
        "def _remove_english_word_and_numbers(x):\n",
        "    x = str(x)\n",
        "    return re.sub(r'[a-zA-Z0-9]+', '', x)\n",
        "\n",
        "def clean_space(df):\n",
        "    compiled_re = re.compile(r\"\\s+\")\n",
        "    df['Tweet'] = df[\"Tweet\"].apply(lambda x: _clean_space(x, compiled_re))\n",
        "    return df\n",
        "def _clean_space(x, compiled_re):\n",
        "    return compiled_re.sub(\" \", x)\n"
      ],
      "execution_count": null,
      "outputs": []
    },
    {
      "cell_type": "code",
      "metadata": {
        "id": "CqmgO_XDzILE"
      },
      "source": [
        "num_cores = 2\n",
        "def df_parallelize_run(df, func, num_cores=2):\n",
        "    df_split = np.array_split(df, num_cores)\n",
        "    pool = Pool(num_cores)\n",
        "    df = pd.concat(pool.map(func, df_split))\n",
        "    pool.close()\n",
        "    pool.join()\n",
        "    return df"
      ],
      "execution_count": null,
      "outputs": []
    },
    {
      "cell_type": "code",
      "metadata": {
        "id": "m870svOszLGn"
      },
      "source": [
        "train_data_cleaned = df_parallelize_run(train_data, clean)"
      ],
      "execution_count": null,
      "outputs": []
    },
    {
      "cell_type": "code",
      "metadata": {
        "id": "oVYFpHN5zSNN"
      },
      "source": [
        "train_data_cleaned.to_csv(\"train_data_cleaned.csv\", index=False)    #save the train_data_cleaned dataframe to csv"
      ],
      "execution_count": null,
      "outputs": []
    },
    {
      "cell_type": "code",
      "metadata": {
        "id": "eFYPAqUvzUYF"
      },
      "source": [
        "!cp -R train_data_cleaned.csv \"/content/drive/My Drive/OSACT4\"            #save the csv file to the drive"
      ],
      "execution_count": null,
      "outputs": []
    },
    {
      "cell_type": "markdown",
      "metadata": {
        "id": "eBYS-8uTznar"
      },
      "source": [
        "# 3. tf- idf\n",
        "We experimented with various classical machine learning models:\n",
        "\n",
        "1.  SVM\n",
        "2.  Random Forest\n",
        "3.  XGBoost\n",
        "4.  Extra Trees\n",
        "5.  Decision Trees\n",
        "6.  Gradient Boosting\n",
        "7.  Logistic Regression\n",
        "\n",
        "\n",
        "\n",
        "\n",
        "\n",
        "\n",
        "\n"
      ]
    },
    {
      "cell_type": "code",
      "metadata": {
        "id": "SoS1I5G1I6bB"
      },
      "source": [
        "from sklearn.feature_extraction.text import CountVectorizer, TfidfTransformer"
      ],
      "execution_count": null,
      "outputs": []
    },
    {
      "cell_type": "code",
      "metadata": {
        "id": "wTn4UNFMKQUb"
      },
      "source": [
        "dataset = pd.read_csv('/content/drive/My Drive/OSACT4')"
      ],
      "execution_count": null,
      "outputs": []
    },
    {
      "cell_type": "code",
      "metadata": {
        "colab": {
          "base_uri": "https://localhost:8080/",
          "height": 202
        },
        "id": "nW6jybzjaE5A",
        "outputId": "212d427a-b798-4952-fa19-43c7cf6e49e2"
      },
      "source": [
        "dataset.head()"
      ],
      "execution_count": null,
      "outputs": [
        {
          "output_type": "execute_result",
          "data": {
            "text/html": [
              "<div>\n",
              "<style scoped>\n",
              "    .dataframe tbody tr th:only-of-type {\n",
              "        vertical-align: middle;\n",
              "    }\n",
              "\n",
              "    .dataframe tbody tr th {\n",
              "        vertical-align: top;\n",
              "    }\n",
              "\n",
              "    .dataframe thead th {\n",
              "        text-align: right;\n",
              "    }\n",
              "</style>\n",
              "<table border=\"1\" class=\"dataframe\">\n",
              "  <thead>\n",
              "    <tr style=\"text-align: right;\">\n",
              "      <th></th>\n",
              "      <th>Tweet</th>\n",
              "      <th>Class</th>\n",
              "    </tr>\n",
              "  </thead>\n",
              "  <tbody>\n",
              "    <tr>\n",
              "      <th>0</th>\n",
              "      <td>وسخ وليس وصخ هاه مين الوسخ فينا يا نجم يا ساح...</td>\n",
              "      <td>hate</td>\n",
              "    </tr>\n",
              "    <tr>\n",
              "      <th>1</th>\n",
              "      <td>لا تحسبوني نسيتكم يا عبنده يا كويحه يا ملطشه ...</td>\n",
              "      <td>hate</td>\n",
              "    </tr>\n",
              "    <tr>\n",
              "      <th>2</th>\n",
              "      <td>تحرير فلسطين اله رجاله وانتوا يا نسل البنجال ...</td>\n",
              "      <td>hate</td>\n",
              "    </tr>\n",
              "    <tr>\n",
              "      <th>3</th>\n",
              "      <td>يا لبناني يا فضلات الاستعمار الفرنسي البنانين...</td>\n",
              "      <td>hate</td>\n",
              "    </tr>\n",
              "    <tr>\n",
              "      <th>4</th>\n",
              "      <td>الخيانه والغدر والعماله من خصالكم نحن من حارب...</td>\n",
              "      <td>hate</td>\n",
              "    </tr>\n",
              "  </tbody>\n",
              "</table>\n",
              "</div>"
            ],
            "text/plain": [
              "                                               Tweet Class\n",
              "0   وسخ وليس وصخ هاه مين الوسخ فينا يا نجم يا ساح...  hate\n",
              "1   لا تحسبوني نسيتكم يا عبنده يا كويحه يا ملطشه ...  hate\n",
              "2   تحرير فلسطين اله رجاله وانتوا يا نسل البنجال ...  hate\n",
              "3   يا لبناني يا فضلات الاستعمار الفرنسي البنانين...  hate\n",
              "4   الخيانه والغدر والعماله من خصالكم نحن من حارب...  hate"
            ]
          },
          "metadata": {
            "tags": []
          },
          "execution_count": 17
        }
      ]
    },
    {
      "cell_type": "code",
      "metadata": {
        "id": "lcxWn8RAJpTI"
      },
      "source": [
        "x=dataset.iloc[:,0]\n",
        "y=dataset.iloc[:,1]\n",
        "X=x.to_dict()\n",
        "\n",
        "X=[]\n",
        "for d in range(len(x)):\n",
        "    b=x[d]\n",
        "    X.append(b) "
      ],
      "execution_count": null,
      "outputs": []
    },
    {
      "cell_type": "code",
      "metadata": {
        "id": "9CkPtw1xlfsE"
      },
      "source": [
        "from sklearn.model_selection import train_test_split\n",
        "X_train, X_test, y_train, y_test = train_test_split(X, y, test_size=0.2, random_state=42)"
      ],
      "execution_count": null,
      "outputs": []
    },
    {
      "cell_type": "code",
      "metadata": {
        "id": "4zxndc1XKlsJ"
      },
      "source": [
        "count_vect=CountVectorizer()\n",
        "X_train_counts = count_vect.fit_transform(X_train)\n",
        "tfidf_transformer = TfidfTransformer()\n",
        "X_train_tfidf = tfidf_transformer.fit_transform(X_train_counts)\n",
        "X_train_tfidf= X_train_tfidf.toarray()"
      ],
      "execution_count": null,
      "outputs": []
    },
    {
      "cell_type": "code",
      "metadata": {
        "id": "GuSJne4_UBEX"
      },
      "source": [
        "X_test_counts = count_vect.transform(X_test)\n",
        "X_test_tfidf = tfidf_transformer.transform(X_test_counts)\n",
        "X_test_tfidf= X_test_tfidf.toarray()"
      ],
      "execution_count": null,
      "outputs": []
    },
    {
      "cell_type": "code",
      "metadata": {
        "colab": {
          "base_uri": "https://localhost:8080/"
        },
        "id": "BmDn9ggoP848",
        "outputId": "8541d082-941a-4387-80dd-393edcdf152a"
      },
      "source": [
        "print(X_train_tfidf.shape, X_test_tfidf.shape)"
      ],
      "execution_count": null,
      "outputs": [
        {
          "output_type": "stream",
          "text": [
            "(2015, 10543) (504, 10543)\n"
          ],
          "name": "stdout"
        }
      ]
    },
    {
      "cell_type": "markdown",
      "metadata": {
        "id": "bDZe9r5lmTLi"
      },
      "source": [
        "\n",
        "## SVM Classifier"
      ]
    },
    {
      "cell_type": "code",
      "metadata": {
        "id": "GHjD4YI0K7I3",
        "colab": {
          "base_uri": "https://localhost:8080/"
        },
        "outputId": "c818b123-0fce-40f7-b39a-284ba014d198"
      },
      "source": [
        "from sklearn.svm import SVC\n",
        "clf= SVC(random_state = 0)\n",
        "clf.fit(X_train_tfidf, y_train)\n",
        "clf.score(X_train_tfidf, y_train)"
      ],
      "execution_count": null,
      "outputs": [
        {
          "output_type": "execute_result",
          "data": {
            "text/plain": [
              "0.9945409429280397"
            ]
          },
          "metadata": {
            "tags": []
          },
          "execution_count": 23
        }
      ]
    },
    {
      "cell_type": "code",
      "metadata": {
        "id": "uVUXXgPQQTt0"
      },
      "source": [
        "y_pred = clf.predict(X_test_tfidf)"
      ],
      "execution_count": null,
      "outputs": []
    },
    {
      "cell_type": "code",
      "metadata": {
        "id": "Y4gqRjgpaxW9",
        "colab": {
          "base_uri": "https://localhost:8080/"
        },
        "outputId": "f7026c82-c979-4dc5-f634-8f56a98493fc"
      },
      "source": [
        "y_test"
      ],
      "execution_count": null,
      "outputs": [
        {
          "output_type": "execute_result",
          "data": {
            "text/plain": [
              "2197     normal\n",
              "410      normal\n",
              "1389    abusive\n",
              "888        hate\n",
              "1774       hate\n",
              "         ...   \n",
              "862      normal\n",
              "1817       hate\n",
              "51         hate\n",
              "1940       hate\n",
              "495        hate\n",
              "Name: Class, Length: 504, dtype: object"
            ]
          },
          "metadata": {
            "tags": []
          },
          "execution_count": 25
        }
      ]
    },
    {
      "cell_type": "code",
      "metadata": {
        "id": "DohnKD7m3Fvs",
        "colab": {
          "base_uri": "https://localhost:8080/"
        },
        "outputId": "735faa62-a349-4549-a794-98d66cb69160"
      },
      "source": [
        "print(creport(y_test, y_pred, target_names=[\"normal\", \"abusive\", \"hate\"], digits=4))"
      ],
      "execution_count": null,
      "outputs": [
        {
          "output_type": "stream",
          "text": [
            "              precision    recall  f1-score   support\n",
            "\n",
            "      normal     0.6853    0.5665    0.6203       173\n",
            "     abusive     0.7203    0.6319    0.6732       163\n",
            "        hate     0.6560    0.8512    0.7409       168\n",
            "\n",
            "    accuracy                         0.6825       504\n",
            "   macro avg     0.6872    0.6832    0.6781       504\n",
            "weighted avg     0.6868    0.6825    0.6776       504\n",
            "\n"
          ],
          "name": "stdout"
        }
      ]
    },
    {
      "cell_type": "markdown",
      "metadata": {
        "id": "bYJqH--qhCF1"
      },
      "source": [
        "## Random Forest Classifier\n"
      ]
    },
    {
      "cell_type": "code",
      "metadata": {
        "id": "-XFPHAeCjhJA"
      },
      "source": [
        "from sklearn import model_selection, naive_bayes, svm, ensemble, tree\n",
        "from xgboost import XGBClassifier"
      ],
      "execution_count": null,
      "outputs": []
    },
    {
      "cell_type": "code",
      "metadata": {
        "id": "Txx3mRTFuN6P",
        "colab": {
          "base_uri": "https://localhost:8080/"
        },
        "outputId": "f2303121-0e5a-496b-e60b-04c76e5ff55a"
      },
      "source": [
        "RF= ensemble.RandomForestClassifier()\n",
        "RF.fit(X_train_tfidf, y_train)\n",
        "RF.score(X_train_tfidf, y_train)"
      ],
      "execution_count": null,
      "outputs": [
        {
          "output_type": "execute_result",
          "data": {
            "text/plain": [
              "1.0"
            ]
          },
          "metadata": {
            "tags": []
          },
          "execution_count": 28
        }
      ]
    },
    {
      "cell_type": "code",
      "metadata": {
        "id": "uOaZqwLBjqJH"
      },
      "source": [
        "y_pred=RF.predict(X_test_tfidf)"
      ],
      "execution_count": null,
      "outputs": []
    },
    {
      "cell_type": "code",
      "metadata": {
        "id": "ZGDgqxbP3LJl",
        "colab": {
          "base_uri": "https://localhost:8080/"
        },
        "outputId": "43996dfd-7ee0-4642-cfa2-b79fe8a5f303"
      },
      "source": [
        "print(creport(y_test, y_pred, target_names=[\"normal\", \"abusive\", \"hate\"], digits=4))"
      ],
      "execution_count": null,
      "outputs": [
        {
          "output_type": "stream",
          "text": [
            "              precision    recall  f1-score   support\n",
            "\n",
            "      normal     0.6405    0.5665    0.6012       173\n",
            "     abusive     0.7724    0.5828    0.6643       163\n",
            "        hate     0.6184    0.8393    0.7121       168\n",
            "\n",
            "    accuracy                         0.6627       504\n",
            "   macro avg     0.6771    0.6629    0.6592       504\n",
            "weighted avg     0.6758    0.6627    0.6586       504\n",
            "\n"
          ],
          "name": "stdout"
        }
      ]
    },
    {
      "cell_type": "markdown",
      "metadata": {
        "id": "g4VBK6MVj4GX"
      },
      "source": [
        "## XGB Classifier"
      ]
    },
    {
      "cell_type": "code",
      "metadata": {
        "id": "LJGcctCZjw9s",
        "colab": {
          "base_uri": "https://localhost:8080/"
        },
        "outputId": "55d948e0-5620-4e88-f4e9-6c7ef610c948"
      },
      "source": [
        "XGB= XGBClassifier()\n",
        "XGB.fit(X_train_tfidf, y_train)\n",
        "XGB.score(X_train_tfidf, y_train)"
      ],
      "execution_count": null,
      "outputs": [
        {
          "output_type": "execute_result",
          "data": {
            "text/plain": [
              "0.7290322580645161"
            ]
          },
          "metadata": {
            "tags": []
          },
          "execution_count": 31
        }
      ]
    },
    {
      "cell_type": "code",
      "metadata": {
        "id": "cfnPh1m-j8wP"
      },
      "source": [
        "y_pred=XGB.predict(X_test_tfidf)"
      ],
      "execution_count": null,
      "outputs": []
    },
    {
      "cell_type": "code",
      "metadata": {
        "id": "FkWs38Wz3Msv",
        "colab": {
          "base_uri": "https://localhost:8080/"
        },
        "outputId": "70fc4e94-d102-4158-caca-0a2a9029c0da"
      },
      "source": [
        "print(creport(y_test, y_pred, target_names=[\"normal\", \"abusive\", \"hate\"], digits=4))"
      ],
      "execution_count": null,
      "outputs": [
        {
          "output_type": "stream",
          "text": [
            "              precision    recall  f1-score   support\n",
            "\n",
            "      normal     0.6610    0.4509    0.5361       173\n",
            "     abusive     0.6377    0.5399    0.5847       163\n",
            "        hate     0.5806    0.8571    0.6923       168\n",
            "\n",
            "    accuracy                         0.6151       504\n",
            "   macro avg     0.6264    0.6160    0.6044       504\n",
            "weighted avg     0.6267    0.6151    0.6039       504\n",
            "\n"
          ],
          "name": "stdout"
        }
      ]
    },
    {
      "cell_type": "markdown",
      "metadata": {
        "id": "aRTKKteNkVgq"
      },
      "source": [
        "##Extra Trees Classifier"
      ]
    },
    {
      "cell_type": "code",
      "metadata": {
        "id": "dnfip-aPkPLt",
        "colab": {
          "base_uri": "https://localhost:8080/"
        },
        "outputId": "bbb19fe9-53af-4484-c782-0c0b9ac720d0"
      },
      "source": [
        "extrees= ensemble.ExtraTreesClassifier()\n",
        "extrees.fit(X_train_tfidf, y_train)\n",
        "extrees.score(X_train_tfidf, y_train)"
      ],
      "execution_count": null,
      "outputs": [
        {
          "output_type": "execute_result",
          "data": {
            "text/plain": [
              "1.0"
            ]
          },
          "metadata": {
            "tags": []
          },
          "execution_count": 34
        }
      ]
    },
    {
      "cell_type": "code",
      "metadata": {
        "id": "rqGUDRq0kYQj"
      },
      "source": [
        "y_pred=extrees.predict(X_test_tfidf)"
      ],
      "execution_count": null,
      "outputs": []
    },
    {
      "cell_type": "code",
      "metadata": {
        "id": "rodaGaRo3Oel",
        "colab": {
          "base_uri": "https://localhost:8080/"
        },
        "outputId": "55aabee7-9fea-453a-c011-c2215e18fabc"
      },
      "source": [
        "print(creport(y_test, y_pred, target_names=[\"normal\", \"abusive\", \"hate\"], digits=4))"
      ],
      "execution_count": null,
      "outputs": [
        {
          "output_type": "stream",
          "text": [
            "              precision    recall  f1-score   support\n",
            "\n",
            "      normal     0.6752    0.6127    0.6424       173\n",
            "     abusive     0.7874    0.6135    0.6897       163\n",
            "        hate     0.6591    0.8631    0.7474       168\n",
            "\n",
            "    accuracy                         0.6964       504\n",
            "   macro avg     0.7072    0.6964    0.6932       504\n",
            "weighted avg     0.7061    0.6964    0.6927       504\n",
            "\n"
          ],
          "name": "stdout"
        }
      ]
    },
    {
      "cell_type": "markdown",
      "metadata": {
        "id": "pjmL4pjmk2nN"
      },
      "source": [
        "## Decision Tree Classifier"
      ]
    },
    {
      "cell_type": "code",
      "metadata": {
        "id": "8p440U3zkt72",
        "colab": {
          "base_uri": "https://localhost:8080/"
        },
        "outputId": "8511f6a5-fb6c-4e5d-b0f0-ac4165df9941"
      },
      "source": [
        "DTC= tree.DecisionTreeClassifier()\n",
        "DTC.fit(X_train_tfidf, y_train)\n",
        "DTC.score(X_train_tfidf, y_train)"
      ],
      "execution_count": null,
      "outputs": [
        {
          "output_type": "execute_result",
          "data": {
            "text/plain": [
              "1.0"
            ]
          },
          "metadata": {
            "tags": []
          },
          "execution_count": 37
        }
      ]
    },
    {
      "cell_type": "code",
      "metadata": {
        "id": "OBKWjj3KlUaE"
      },
      "source": [
        "y_pred=DTC.predict(X_test_tfidf)"
      ],
      "execution_count": null,
      "outputs": []
    },
    {
      "cell_type": "code",
      "metadata": {
        "id": "XKVzPHvyleXf",
        "colab": {
          "base_uri": "https://localhost:8080/"
        },
        "outputId": "bfbae9e9-e370-4902-9f2c-5427da994e87"
      },
      "source": [
        "print(creport(y_test, y_pred, target_names=[\"normal\", \"abusive\", \"hate\"], digits=4))"
      ],
      "execution_count": null,
      "outputs": [
        {
          "output_type": "stream",
          "text": [
            "              precision    recall  f1-score   support\n",
            "\n",
            "      normal     0.5096    0.4624    0.4848       173\n",
            "     abusive     0.5924    0.5706    0.5813       163\n",
            "        hate     0.6158    0.6964    0.6536       168\n",
            "\n",
            "    accuracy                         0.5754       504\n",
            "   macro avg     0.5726    0.5765    0.5732       504\n",
            "weighted avg     0.5717    0.5754    0.5723       504\n",
            "\n"
          ],
          "name": "stdout"
        }
      ]
    },
    {
      "cell_type": "markdown",
      "metadata": {
        "id": "7oeQU0BQmDlR"
      },
      "source": [
        "## Gradient Boosting Classifier"
      ]
    },
    {
      "cell_type": "code",
      "metadata": {
        "id": "zPRVertul-z4",
        "colab": {
          "base_uri": "https://localhost:8080/"
        },
        "outputId": "91dc9125-c844-4e94-eeb9-3c5bf00062ff"
      },
      "source": [
        "GBC= ensemble.GradientBoostingClassifier()\n",
        "GBC.fit(X_train_tfidf, y_train)\n",
        "GBC.score(X_train_tfidf, y_train)"
      ],
      "execution_count": null,
      "outputs": [
        {
          "output_type": "execute_result",
          "data": {
            "text/plain": [
              "0.7890818858560794"
            ]
          },
          "metadata": {
            "tags": []
          },
          "execution_count": 40
        }
      ]
    },
    {
      "cell_type": "code",
      "metadata": {
        "id": "ZexBEzkkmAjk"
      },
      "source": [
        "y_pred=GBC.predict(X_test_tfidf)"
      ],
      "execution_count": null,
      "outputs": []
    },
    {
      "cell_type": "code",
      "metadata": {
        "id": "pnKvNSXKmAwl",
        "colab": {
          "base_uri": "https://localhost:8080/"
        },
        "outputId": "16bac7b3-5948-4942-a20f-e7fc91301637"
      },
      "source": [
        "print(creport(y_test, y_pred, target_names=[\"normal\", \"abusive\", \"hate\"], digits=4))"
      ],
      "execution_count": null,
      "outputs": [
        {
          "output_type": "stream",
          "text": [
            "              precision    recall  f1-score   support\n",
            "\n",
            "      normal     0.6512    0.4855    0.5563       173\n",
            "     abusive     0.6897    0.6135    0.6494       163\n",
            "        hate     0.6304    0.8631    0.7286       168\n",
            "\n",
            "    accuracy                         0.6528       504\n",
            "   macro avg     0.6571    0.6540    0.6448       504\n",
            "weighted avg     0.6567    0.6528    0.6438       504\n",
            "\n"
          ],
          "name": "stdout"
        }
      ]
    },
    {
      "cell_type": "markdown",
      "metadata": {
        "id": "jfkZiMViTRk4"
      },
      "source": [
        "## Logistic Regression Classifier"
      ]
    },
    {
      "cell_type": "code",
      "metadata": {
        "id": "1dm__bipRfAQ"
      },
      "source": [
        "from sklearn import linear_model"
      ],
      "execution_count": null,
      "outputs": []
    },
    {
      "cell_type": "code",
      "metadata": {
        "id": "oS49ikeRsVcM",
        "colab": {
          "base_uri": "https://localhost:8080/"
        },
        "outputId": "eb731c00-0998-4651-dbc3-3a78f8a637a6"
      },
      "source": [
        "LR= linear_model.LogisticRegression(multi_class='multinomial')\n",
        "LR.fit(X_train_tfidf, y_train)\n",
        "LR.score(X_train_tfidf, y_train)"
      ],
      "execution_count": null,
      "outputs": [
        {
          "output_type": "execute_result",
          "data": {
            "text/plain": [
              "0.9543424317617866"
            ]
          },
          "metadata": {
            "tags": []
          },
          "execution_count": 44
        }
      ]
    },
    {
      "cell_type": "code",
      "metadata": {
        "id": "vcXyRIf6snrv"
      },
      "source": [
        "y_pred=LR.predict(X_test_tfidf)"
      ],
      "execution_count": null,
      "outputs": []
    },
    {
      "cell_type": "code",
      "metadata": {
        "id": "V6ad1wJrZenL",
        "colab": {
          "base_uri": "https://localhost:8080/"
        },
        "outputId": "02bd8633-98fd-47a1-a568-e863b4c5ddd2"
      },
      "source": [
        "print(creport(y_test, y_pred, target_names=[\"normal\", \"abusive\", \"hate\"], digits=4))"
      ],
      "execution_count": null,
      "outputs": [
        {
          "output_type": "stream",
          "text": [
            "              precision    recall  f1-score   support\n",
            "\n",
            "      normal     0.6711    0.5780    0.6211       173\n",
            "     abusive     0.6852    0.6810    0.6831       163\n",
            "        hate     0.7047    0.8095    0.7535       168\n",
            "\n",
            "    accuracy                         0.6885       504\n",
            "   macro avg     0.6870    0.6895    0.6859       504\n",
            "weighted avg     0.6869    0.6885    0.6853       504\n",
            "\n"
          ],
          "name": "stdout"
        }
      ]
    },
    {
      "cell_type": "code",
      "metadata": {
        "id": "gS_6thPLvFW_",
        "colab": {
          "base_uri": "https://localhost:8080/"
        },
        "outputId": "c710f6d1-2d7b-4d8b-8dbb-ca766e67842f"
      },
      "source": [
        "print(X_test[444], y_pred[444])\n",
        "print(X_test[123], y_pred[123])\n",
        "print(X_test[100], y_pred[100])\n",
        "print(X_test[58], y_pred[58])"
      ],
      "execution_count": null,
      "outputs": [
        {
          "output_type": "stream",
          "text": [
            " لعنت اله عليك يا شارب بول البعير يا عبد امريكا اذهب ابحث عن افريقي 😂 hate\n",
            "اما انت كا زعيم بي قريه زغرتا بس يسير بدك تمسك تمسك بي رصن الجحش يا جحش abusive\n",
            "هاد يلي بجيب المسبه لحاله  normal\n",
            "اكدت اوساط الرءيس الحريري ان الامور تجه نحو الانفراج بعد قبول جبران باسيل ب حل وسط بالنسبه الي مثل القاء normal\n"
          ],
          "name": "stdout"
        }
      ]
    }
  ]
}