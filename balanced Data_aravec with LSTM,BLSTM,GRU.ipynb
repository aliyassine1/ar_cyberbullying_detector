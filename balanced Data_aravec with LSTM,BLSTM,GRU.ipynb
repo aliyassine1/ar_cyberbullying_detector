{
  "nbformat": 4,
  "nbformat_minor": 0,
  "metadata": {
    "colab": {
      "name": "463_3 Balanced",
      "provenance": [],
      "collapsed_sections": [],
      "toc_visible": true
    },
    "kernelspec": {
      "name": "python3",
      "display_name": "Python 3"
    },
    "accelerator": "GPU"
  },
  "cells": [
    {
      "cell_type": "code",
      "metadata": {
        "id": "3psLV0AyPwSV",
        "colab": {
          "base_uri": "https://localhost:8080/"
        },
        "outputId": "8048a2c5-9032-4034-b294-79e5f7997cd9"
      },
      "source": [
        "from google.colab import drive\n",
        "drive.mount('/content/drive')"
      ],
      "execution_count": 19,
      "outputs": [
        {
          "output_type": "stream",
          "text": [
            "Drive already mounted at /content/drive; to attempt to forcibly remount, call drive.mount(\"/content/drive\", force_remount=True).\n"
          ],
          "name": "stdout"
        }
      ]
    },
    {
      "cell_type": "code",
      "metadata": {
        "id": "jnSw0od87C8-"
      },
      "source": [
        "from keras.layers import Embedding, Dense, Dropout, Input, LSTM, Bidirectional,GRU\n",
        "from keras.layers import MaxPooling1D, Conv1D, Flatten\n",
        "from keras.preprocessing import sequence, text\n",
        "from keras.models import Model\n",
        "from keras.utils import np_utils\n",
        "from keras.callbacks import Callback\n",
        "\n",
        "from gensim.models.keyedvectors import KeyedVectors\n",
        "from sklearn import preprocessing\n",
        "from time import time\n",
        "import pandas as pd\n",
        "import numpy as np\n",
        "import matplotlib.pyplot as plt\n",
        "import seaborn as sns\n",
        "import csv\n",
        "\n",
        "from keras import optimizers\n",
        "\n",
        "from sklearn.metrics import f1_score\n",
        "from sklearn.metrics import accuracy_score\n",
        "\n",
        "from sklearn.utils import class_weight\n",
        "\n",
        "from sklearn import preprocessing\n",
        "from sklearn.metrics import (\n",
        "    classification_report as creport\n",
        ")\n"
      ],
      "execution_count": 20,
      "outputs": []
    },
    {
      "cell_type": "markdown",
      "metadata": {
        "id": "n6_dt2cDtobO"
      },
      "source": [
        "# Data and AraVec2.0 (pre-trained word embeddings model) Loading"
      ]
    },
    {
      "cell_type": "code",
      "metadata": {
        "id": "2Mn0KDJg-o5u",
        "colab": {
          "base_uri": "https://localhost:8080/"
        },
        "outputId": "5373a1b1-c51b-4f51-9e60-53c74cb9bd67"
      },
      "source": [
        "#pre-trained word embedding: https://github.com/bakrianoo/aravec/tree/master/AraVec%202.0\n",
        "\"\"\"\n",
        "Citation:\n",
        "Abu Bakr Soliman, Kareem Eisa, and Samhaa R. El-Beltagy, “AraVec:\n",
        "A set of Arabic Word Embedding Models for use in Arabic NLP”,\n",
        "in proceedings of the 3rd International Conference on \n",
        "Arabic Computational Linguistics (ACLing 2017), Dubai, UAE, 2017.\n",
        "\"\"\"\n",
        "! unzip '/content/drive/MyDrive/tweets_sg_300.zip'  "
      ],
      "execution_count": 21,
      "outputs": [
        {
          "output_type": "stream",
          "text": [
            "Archive:  /content/drive/MyDrive/tweets_sg_300.zip\n",
            "replace tweets_sg_300? [y]es, [n]o, [A]ll, [N]one, [r]ename: A\n",
            "  inflating: tweets_sg_300           \n",
            "  inflating: tweets_sg_300.trainables.syn1neg.npy  \n",
            "  inflating: tweets_sg_300.wv.vectors.npy  \n"
          ],
          "name": "stdout"
        }
      ]
    },
    {
      "cell_type": "code",
      "metadata": {
        "id": "V3kKX6Ra-p1d"
      },
      "source": [
        "# Word_embedding_path\n",
        "embedding_path = '/content/tweets_sg_300'           #Twitter-Skipgram model-300d(trained on 77,600,000 Arabic tweets)"
      ],
      "execution_count": 22,
      "outputs": []
    },
    {
      "cell_type": "code",
      "metadata": {
        "id": "JpRSY6aVACVF",
        "colab": {
          "base_uri": "https://localhost:8080/",
          "height": 415
        },
        "outputId": "a3485be4-cae1-4c3a-888a-4c68193b077b"
      },
      "source": [
        "train_data = pd.read_csv('/content/drive/MyDrive/Dataset.csv')\n",
        "train_data"
      ],
      "execution_count": 23,
      "outputs": [
        {
          "output_type": "execute_result",
          "data": {
            "text/html": [
              "<div>\n",
              "<style scoped>\n",
              "    .dataframe tbody tr th:only-of-type {\n",
              "        vertical-align: middle;\n",
              "    }\n",
              "\n",
              "    .dataframe tbody tr th {\n",
              "        vertical-align: top;\n",
              "    }\n",
              "\n",
              "    .dataframe thead th {\n",
              "        text-align: right;\n",
              "    }\n",
              "</style>\n",
              "<table border=\"1\" class=\"dataframe\">\n",
              "  <thead>\n",
              "    <tr style=\"text-align: right;\">\n",
              "      <th></th>\n",
              "      <th>Tweet</th>\n",
              "      <th>Class</th>\n",
              "    </tr>\n",
              "  </thead>\n",
              "  <tbody>\n",
              "    <tr>\n",
              "      <th>0</th>\n",
              "      <td>هول هني ذاتن كانو كلاب الفلسطينية ضد حركة امل</td>\n",
              "      <td>hate</td>\n",
              "    </tr>\n",
              "    <tr>\n",
              "      <th>1</th>\n",
              "      <td>واحد مكيف إنه النهيق تبعه أموي شو بده يطلع منه</td>\n",
              "      <td>hate</td>\n",
              "    </tr>\n",
              "    <tr>\n",
              "      <th>2</th>\n",
              "      <td>هيدا لبناني لإنو عميل طز بهيك بلد معفن</td>\n",
              "      <td>hate</td>\n",
              "    </tr>\n",
              "    <tr>\n",
              "      <th>3</th>\n",
              "      <td>حاطين جبران باسيل وقاعدين جبران قال هيك جبران ...</td>\n",
              "      <td>abusive</td>\n",
              "    </tr>\n",
              "    <tr>\n",
              "      <th>4</th>\n",
              "      <td>هلق هيدا يلي طلع معك جبران باسيل متل جيري ماهر...</td>\n",
              "      <td>normal</td>\n",
              "    </tr>\n",
              "    <tr>\n",
              "      <th>...</th>\n",
              "      <td>...</td>\n",
              "      <td>...</td>\n",
              "    </tr>\n",
              "    <tr>\n",
              "      <th>2514</th>\n",
              "      <td>الكيزان زي النازيين واحد :قتلو وعذبو و حكمهم ...</td>\n",
              "      <td>hate</td>\n",
              "    </tr>\n",
              "    <tr>\n",
              "      <th>2515</th>\n",
              "      <td>وطنا جميل وشعبنا جميل بس هدونا البال بالسياسة ...</td>\n",
              "      <td>normal</td>\n",
              "    </tr>\n",
              "    <tr>\n",
              "      <th>2516</th>\n",
              "      <td>طيب شو القيمة يلي بيستفيدها المجتمع لو النسوان...</td>\n",
              "      <td>normal</td>\n",
              "    </tr>\n",
              "    <tr>\n",
              "      <th>2517</th>\n",
              "      <td>مارسيل غانم انتحر إعلامياً للتو ظهر عن طريق ال...</td>\n",
              "      <td>hate</td>\n",
              "    </tr>\n",
              "    <tr>\n",
              "      <th>2518</th>\n",
              "      <td>لو ما تفكيرك غبي متلك ما بتقلولي نحنا جماعة حز...</td>\n",
              "      <td>abusive</td>\n",
              "    </tr>\n",
              "  </tbody>\n",
              "</table>\n",
              "<p>2519 rows × 2 columns</p>\n",
              "</div>"
            ],
            "text/plain": [
              "                                                  Tweet    Class\n",
              "0         هول هني ذاتن كانو كلاب الفلسطينية ضد حركة امل     hate\n",
              "1        واحد مكيف إنه النهيق تبعه أموي شو بده يطلع منه     hate\n",
              "2                هيدا لبناني لإنو عميل طز بهيك بلد معفن     hate\n",
              "3     حاطين جبران باسيل وقاعدين جبران قال هيك جبران ...  abusive\n",
              "4     هلق هيدا يلي طلع معك جبران باسيل متل جيري ماهر...   normal\n",
              "...                                                 ...      ...\n",
              "2514   الكيزان زي النازيين واحد :قتلو وعذبو و حكمهم ...     hate\n",
              "2515  وطنا جميل وشعبنا جميل بس هدونا البال بالسياسة ...   normal\n",
              "2516  طيب شو القيمة يلي بيستفيدها المجتمع لو النسوان...   normal\n",
              "2517  مارسيل غانم انتحر إعلامياً للتو ظهر عن طريق ال...     hate\n",
              "2518  لو ما تفكيرك غبي متلك ما بتقلولي نحنا جماعة حز...  abusive\n",
              "\n",
              "[2519 rows x 2 columns]"
            ]
          },
          "metadata": {
            "tags": []
          },
          "execution_count": 23
        }
      ]
    },
    {
      "cell_type": "code",
      "metadata": {
        "id": "s9yxPtQjKsPa",
        "colab": {
          "base_uri": "https://localhost:8080/"
        },
        "outputId": "efe0f29d-93fa-47a8-f4c8-db56fdd85c60"
      },
      "source": [
        "print(\"Train data shape: {}\".format(train_data.shape))"
      ],
      "execution_count": 24,
      "outputs": [
        {
          "output_type": "stream",
          "text": [
            "Train data shape: (2519, 2)\n"
          ],
          "name": "stdout"
        }
      ]
    },
    {
      "cell_type": "code",
      "metadata": {
        "id": "Ae5n6EhUcEDD"
      },
      "source": [
        "def get_embedding_matrix(word_index, embedding_index, vocab_dim):\n",
        "    print('Building embedding matrix...')\n",
        "    embedding_matrix = np.zeros((len(word_index) + 1, vocab_dim))\n",
        "    for word, i in word_index.items():\n",
        "        try:\n",
        "            embedding_matrix[i] = embedding_index.get_vector(word)\n",
        "        except:\n",
        "            pass\n",
        "    print('Embedding matrix built.') \n",
        "    #print(\"Word index\", word_index.items())\n",
        "    #print(embedding_matrix) \n",
        "    return embedding_matrix\n",
        "\n",
        "\n",
        "def get_init_parameters(path, ext=None):\n",
        "    if ext == 'vec':\n",
        "        word_model = KeyedVectors.load_word2vec_format(path).wv\n",
        "    else:\n",
        "        word_model = KeyedVectors.load(path).wv\n",
        "    n_words = len(word_model.vocab)\n",
        "    vocab_dim = word_model[word_model.index2word[0]].shape[0]\n",
        "    index_dict = dict()\n",
        "    for i in range(n_words):\n",
        "        index_dict[word_model.index2word[i]] = i+1\n",
        "    print('Number of words in the word embedding',n_words)\n",
        "    #print('word_model', word_model)\n",
        "    #print(\"index_dict\",index_dict)\n",
        "    return word_model, index_dict, n_words, vocab_dim\n",
        "\n",
        "def get_max_length(text_data, return_line=False):\n",
        "    max_length = 0\n",
        "    long_line = \"\"\n",
        "    for line in text_data:\n",
        "        new = len(line.split())\n",
        "        if new > max_length:\n",
        "            max_length = new\n",
        "            long_line = line\n",
        "    if return_line:\n",
        "        return long_line, max_length\n",
        "    else:\n",
        "        return max_length\n",
        "    print(\"max\",long_line,max_length)\n",
        "\n",
        "def load_datasets(data_paths, header=True):\n",
        "    x = []\n",
        "    y = []\n",
        "    for data_path in data_paths:\n",
        "        with open(data_path, 'r') as f:\n",
        "            for line in f:\n",
        "                if header:\n",
        "                    header = False\n",
        "                else:\n",
        "                    temp = line.split(',')\n",
        "                    x.append(temp[0])\n",
        "                    y.append(temp[1].replace('\\n', ''))\n",
        "    max_length = get_max_length(x)\n",
        "    print('Max length:', max_length)\n",
        "    return x,y, max_length\n",
        "\n",
        "def get_train_test(train_raw_text, test_raw_text, n_words, max_length):\n",
        "    tokenizer = text.Tokenizer(num_words=n_words)\n",
        "    tokenizer.fit_on_texts(list(train_raw_text))\n",
        "    word_index = tokenizer.word_index\n",
        "   \n",
        "    train_tokenized = tokenizer.texts_to_sequences(train_raw_text)\n",
        "    test_tokenized = tokenizer.texts_to_sequences(test_raw_text)\n",
        "\n",
        "    return sequence.pad_sequences(train_tokenized, maxlen=max_length, padding='post', truncating='post'),\\\n",
        "           sequence.pad_sequences(test_tokenized, maxlen=max_length, padding='post', truncating='post'),\\\n",
        "           word_index\n",
        "\n",
        "def class_str_2_ind(x_train, x_test, y_train, y_test, classes, n_words, max_length):\n",
        "    print('Converting data to trainable form...')\n",
        "    y_encoder = preprocessing.LabelEncoder()\n",
        "    y_encoder.fit(classes)\n",
        "    y_train = y_encoder.transform(y_train)\n",
        "    y_test = y_encoder.transform(y_test)\n",
        "    #print(y_train)\n",
        "    #print(y_test)\n",
        "    train_y_cat = np_utils.to_categorical(y_train, len(classes))\n",
        "    x_vec_train, x_vec_test, word_index = get_train_test(x_train, x_test, n_words, max_length)\n",
        "    print('Number of training examples: ' + str(len(x_vec_train)))\n",
        "    print('Number of testing examples: ' + str(len(x_vec_test)))\n",
        "    return x_vec_train, x_vec_test, y_train, y_test, train_y_cat, word_index"
      ],
      "execution_count": 25,
      "outputs": []
    },
    {
      "cell_type": "code",
      "metadata": {
        "id": "lT0r5MyUbtGC",
        "colab": {
          "base_uri": "https://localhost:8080/"
        },
        "outputId": "69453fd1-a82b-43a6-f005-cd60d2d44f2a"
      },
      "source": [
        "WORD_MODEL, _, MAX_FEATURES, EMBED_SIZE = get_init_parameters(embedding_path) "
      ],
      "execution_count": 26,
      "outputs": [
        {
          "output_type": "stream",
          "text": [
            "Number of words in the word embedding 331679\n"
          ],
          "name": "stdout"
        }
      ]
    },
    {
      "cell_type": "code",
      "metadata": {
        "id": "cjwJ3aN3U1Mv",
        "colab": {
          "base_uri": "https://localhost:8080/"
        },
        "outputId": "a0fb413d-e3fd-4f0a-b4fe-ad77065977b5"
      },
      "source": [
        "# load train data\n",
        "train_data_path=[\"/content/drive/MyDrive/OSACT4\"]\n",
        "X, y, MAX_TEXT_LENGTH = load_datasets(train_data_path)\n",
        "CLASSES_LIST = np.unique(y)\n",
        "print('Label categories: ' + str(CLASSES_LIST))"
      ],
      "execution_count": 27,
      "outputs": [
        {
          "output_type": "stream",
          "text": [
            "Max length: 58\n",
            "Label categories: ['abusive' 'hate' 'normal']\n"
          ],
          "name": "stdout"
        }
      ]
    },
    {
      "cell_type": "code",
      "metadata": {
        "id": "XcpaFQRJV8YL"
      },
      "source": [
        "MAX_TEXT_LENGTH=58"
      ],
      "execution_count": 28,
      "outputs": []
    },
    {
      "cell_type": "code",
      "metadata": {
        "id": "c1DNQWfrHGXR"
      },
      "source": [
        "from sklearn.model_selection import train_test_split\n",
        "X_train, X_test, y_train, y_test = train_test_split(X, y, test_size=0.2, random_state=42)"
      ],
      "execution_count": 29,
      "outputs": []
    },
    {
      "cell_type": "code",
      "metadata": {
        "id": "plOnSpgUb18i",
        "colab": {
          "base_uri": "https://localhost:8080/"
        },
        "outputId": "2cb44a6a-1d63-4bfb-b956-56724641d4e3"
      },
      "source": [
        "X_train, X_test, y_train, y_test, train_y_cat, word_index = class_str_2_ind(X_train, X_test, y_train, y_test, CLASSES_LIST, MAX_FEATURES, MAX_TEXT_LENGTH)\n",
        "test_cat_y = np_utils.to_categorical(y_test, len(CLASSES_LIST))"
      ],
      "execution_count": 30,
      "outputs": [
        {
          "output_type": "stream",
          "text": [
            "Converting data to trainable form...\n",
            "Number of training examples: 2015\n",
            "Number of testing examples: 504\n"
          ],
          "name": "stdout"
        }
      ]
    },
    {
      "cell_type": "code",
      "metadata": {
        "id": "VQiq-BKShbLE",
        "colab": {
          "base_uri": "https://localhost:8080/"
        },
        "outputId": "fb8bf76c-6ace-4a71-d6a9-9194a2010040"
      },
      "source": [
        "print(\"Tokens number: \"+ str(len(word_index)))"
      ],
      "execution_count": 31,
      "outputs": [
        {
          "output_type": "stream",
          "text": [
            "Tokens number: 10605\n"
          ],
          "name": "stdout"
        }
      ]
    },
    {
      "cell_type": "code",
      "metadata": {
        "id": "WjJd-CWUiNlQ",
        "colab": {
          "base_uri": "https://localhost:8080/"
        },
        "outputId": "233f176b-750e-4edc-e663-f31c735938a7"
      },
      "source": [
        "# Sequence length\n",
        "print(\"Original sequence length: \"+str(MAX_TEXT_LENGTH))"
      ],
      "execution_count": 32,
      "outputs": [
        {
          "output_type": "stream",
          "text": [
            "Original sequence length: 58\n"
          ],
          "name": "stdout"
        }
      ]
    },
    {
      "cell_type": "code",
      "metadata": {
        "id": "TRIAZtDUidul"
      },
      "source": [
        "def get_model(embedding_weights, word_index, vocab_dim, max_length,layer, dropout, optimizer, print_summary=True):\n",
        "    \"\"\"\n",
        "    Create Neural Network With an Embedding layer\n",
        "    \"\"\"\n",
        "    inp = Input(shape=(max_length,))\n",
        "    model = Embedding(input_dim=len(word_index)+1,\n",
        "                      output_dim=vocab_dim,\n",
        "                      trainable=False,\n",
        "                      weights=[embedding_weights])(inp)\n",
        "    model = layer(model)\n",
        "    model = Dropout(dropout)(model)       \n",
        "    model = Flatten()(model)\n",
        "    model = Dense(3, activation='sigmoid')(model)\n",
        "    model = Model(inputs=inp, outputs=model)\n",
        "    \n",
        "    model.compile(loss='categorical_crossentropy', optimizer=optimizer, metrics=['accuracy'])\n",
        "    if print_summary:\n",
        "        model.summary()\n",
        "    return model\n",
        "\n",
        "\n",
        "def get_main_model(word_index, WORD_MODEL, EMBED_SIZE, MAX_TEXT_LENGTH, \n",
        "                   layer, dropout,optimizer):\n",
        "   \n",
        "    tmp = get_embedding_matrix(word_index, WORD_MODEL, EMBED_SIZE)\n",
        "    model = get_model(tmp, word_index, EMBED_SIZE, MAX_TEXT_LENGTH, \n",
        "                      layer, dropout, optimizer= optimizer ,print_summary=True)\n",
        "    return model\n",
        "\n",
        "class TestCallback(Callback):\n",
        "    def __init__(self, test_data):\n",
        "        self.test_data = test_data\n",
        "\n",
        "    def on_epoch_end(self, epoch, logs={}):\n",
        "        x, y = self.test_data\n",
        "        loss, acc = self.model.evaluate(x, y, verbose=0)\n",
        "        print('\\nTesting loss: {}, acc: {}\\n'.format(loss, acc))\n",
        "\n",
        "def train_fit_predict(model, x_train, x_test, y_train, y_test, class_weight, batch_size, epochs, TestCallback=TestCallback):\n",
        "   \n",
        "    history = model.fit(x_train, y_train,\n",
        "                        batch_size=batch_size,\n",
        "                        epochs=epochs, verbose=1,\n",
        "                        validation_data=(x_test, y_test),\n",
        "                        class_weight=class_weight,\n",
        "                        callbacks=[TestCallback((x_test, y_test))])\n",
        "    return history, model"
      ],
      "execution_count": 33,
      "outputs": []
    },
    {
      "cell_type": "markdown",
      "metadata": {
        "id": "n51vTvUGQOP4"
      },
      "source": [
        "#### Note: the prior work is the same for all of the neural learning models."
      ]
    },
    {
      "cell_type": "markdown",
      "metadata": {
        "id": "IXB7MDh9lLcM"
      },
      "source": [
        "#  RNN (LSTM) Model"
      ]
    },
    {
      "cell_type": "code",
      "metadata": {
        "id": "YKpEhF4ljGqR",
        "colab": {
          "base_uri": "https://localhost:8080/"
        },
        "outputId": "d4f43fa8-292b-4f11-9de4-d6f021516976"
      },
      "source": [
        "model = get_main_model(word_index, WORD_MODEL, EMBED_SIZE, MAX_TEXT_LENGTH, \n",
        "                       layer= LSTM(units=16, return_sequences=True, return_state=False), dropout=0.5, \n",
        "                       optimizer= optimizers.Adam(0.001))"
      ],
      "execution_count": 34,
      "outputs": [
        {
          "output_type": "stream",
          "text": [
            "Building embedding matrix...\n",
            "Embedding matrix built.\n",
            "Model: \"model\"\n",
            "_________________________________________________________________\n",
            "Layer (type)                 Output Shape              Param #   \n",
            "=================================================================\n",
            "input_1 (InputLayer)         [(None, 58)]              0         \n",
            "_________________________________________________________________\n",
            "embedding (Embedding)        (None, 58, 300)           3181800   \n",
            "_________________________________________________________________\n",
            "lstm (LSTM)                  (None, 58, 16)            20288     \n",
            "_________________________________________________________________\n",
            "dropout (Dropout)            (None, 58, 16)            0         \n",
            "_________________________________________________________________\n",
            "flatten (Flatten)            (None, 928)               0         \n",
            "_________________________________________________________________\n",
            "dense (Dense)                (None, 3)                 2787      \n",
            "=================================================================\n",
            "Total params: 3,204,875\n",
            "Trainable params: 23,075\n",
            "Non-trainable params: 3,181,800\n",
            "_________________________________________________________________\n"
          ],
          "name": "stdout"
        }
      ]
    },
    {
      "cell_type": "code",
      "metadata": {
        "id": "XDIpHJW_Kg8c",
        "colab": {
          "base_uri": "https://localhost:8080/"
        },
        "outputId": "40f3d054-0efb-449e-a208-b58dbcfdd456"
      },
      "source": [
        "X_train.shape"
      ],
      "execution_count": 35,
      "outputs": [
        {
          "output_type": "execute_result",
          "data": {
            "text/plain": [
              "(2015, 58)"
            ]
          },
          "metadata": {
            "tags": []
          },
          "execution_count": 35
        }
      ]
    },
    {
      "cell_type": "code",
      "metadata": {
        "id": "YuKcYPDjKj7f",
        "colab": {
          "base_uri": "https://localhost:8080/"
        },
        "outputId": "7a3e6dc2-59e0-43a2-c242-1f85a9f6b85a"
      },
      "source": [
        "X_test.shape"
      ],
      "execution_count": 36,
      "outputs": [
        {
          "output_type": "execute_result",
          "data": {
            "text/plain": [
              "(504, 58)"
            ]
          },
          "metadata": {
            "tags": []
          },
          "execution_count": 36
        }
      ]
    },
    {
      "cell_type": "code",
      "metadata": {
        "id": "nIdYkbZzjJpe",
        "colab": {
          "base_uri": "https://localhost:8080/"
        },
        "outputId": "ddedf424-6461-4123-be6b-93400c91c909"
      },
      "source": [
        "time_start = time()\n",
        "history, model = train_fit_predict(model,\n",
        "                               X_train[:, :MAX_TEXT_LENGTH],\n",
        "                               X_test[:, :MAX_TEXT_LENGTH],\n",
        "                               train_y_cat, test_cat_y, class_weight=None,\n",
        "                               batch_size=500, epochs=20)\n",
        "time_start = time() - time_start\n",
        "\n",
        "print(\"Took : \"+str(np.round(time_start, 2))+\" (s)\") "
      ],
      "execution_count": 37,
      "outputs": [
        {
          "output_type": "stream",
          "text": [
            "Epoch 1/20\n",
            "5/5 [==============================] - 31s 173ms/step - loss: 1.0954 - accuracy: 0.3639 - val_loss: 1.0739 - val_accuracy: 0.4980\n",
            "\n",
            "Testing loss: 1.0738753080368042, acc: 0.4980158805847168\n",
            "\n",
            "Epoch 2/20\n",
            "5/5 [==============================] - 0s 47ms/step - loss: 1.0651 - accuracy: 0.4448 - val_loss: 1.0548 - val_accuracy: 0.5397\n",
            "\n",
            "Testing loss: 1.054807424545288, acc: 0.5396825671195984\n",
            "\n",
            "Epoch 3/20\n",
            "5/5 [==============================] - 0s 44ms/step - loss: 1.0407 - accuracy: 0.4877 - val_loss: 1.0334 - val_accuracy: 0.5655\n",
            "\n",
            "Testing loss: 1.0333755016326904, acc: 0.5654761791229248\n",
            "\n",
            "Epoch 4/20\n",
            "5/5 [==============================] - 0s 43ms/step - loss: 1.0044 - accuracy: 0.5526 - val_loss: 1.0028 - val_accuracy: 0.6032\n",
            "\n",
            "Testing loss: 1.00275719165802, acc: 0.60317462682724\n",
            "\n",
            "Epoch 5/20\n",
            "5/5 [==============================] - 0s 43ms/step - loss: 0.9723 - accuracy: 0.5691 - val_loss: 0.9656 - val_accuracy: 0.6032\n",
            "\n",
            "Testing loss: 0.9655624628067017, acc: 0.60317462682724\n",
            "\n",
            "Epoch 6/20\n",
            "5/5 [==============================] - 0s 46ms/step - loss: 0.9375 - accuracy: 0.5786 - val_loss: 0.9324 - val_accuracy: 0.6012\n",
            "\n",
            "Testing loss: 0.9323835968971252, acc: 0.601190447807312\n",
            "\n",
            "Epoch 7/20\n",
            "5/5 [==============================] - 0s 45ms/step - loss: 0.8935 - accuracy: 0.6123 - val_loss: 0.9063 - val_accuracy: 0.6111\n",
            "\n",
            "Testing loss: 0.9062631726264954, acc: 0.6111111044883728\n",
            "\n",
            "Epoch 8/20\n",
            "5/5 [==============================] - 0s 45ms/step - loss: 0.8580 - accuracy: 0.6254 - val_loss: 0.8612 - val_accuracy: 0.6290\n",
            "\n",
            "Testing loss: 0.8611608147621155, acc: 0.6289682388305664\n",
            "\n",
            "Epoch 9/20\n",
            "5/5 [==============================] - 0s 47ms/step - loss: 0.8166 - accuracy: 0.6548 - val_loss: 0.8306 - val_accuracy: 0.6448\n",
            "\n",
            "Testing loss: 0.8306304216384888, acc: 0.6448412537574768\n",
            "\n",
            "Epoch 10/20\n",
            "5/5 [==============================] - 0s 45ms/step - loss: 0.7857 - accuracy: 0.6657 - val_loss: 0.8093 - val_accuracy: 0.6587\n",
            "\n",
            "Testing loss: 0.8093079328536987, acc: 0.658730149269104\n",
            "\n",
            "Epoch 11/20\n",
            "5/5 [==============================] - 0s 44ms/step - loss: 0.7812 - accuracy: 0.6548 - val_loss: 0.7907 - val_accuracy: 0.6647\n",
            "\n",
            "Testing loss: 0.7906534671783447, acc: 0.6646825671195984\n",
            "\n",
            "Epoch 12/20\n",
            "5/5 [==============================] - 0s 44ms/step - loss: 0.7645 - accuracy: 0.6578 - val_loss: 0.7787 - val_accuracy: 0.6567\n",
            "\n",
            "Testing loss: 0.7786762714385986, acc: 0.6567460298538208\n",
            "\n",
            "Epoch 13/20\n",
            "5/5 [==============================] - 0s 46ms/step - loss: 0.7612 - accuracy: 0.6655 - val_loss: 0.7970 - val_accuracy: 0.6329\n",
            "\n",
            "Testing loss: 0.7969748377799988, acc: 0.6329365372657776\n",
            "\n",
            "Epoch 14/20\n",
            "5/5 [==============================] - 0s 43ms/step - loss: 0.7412 - accuracy: 0.6774 - val_loss: 0.7747 - val_accuracy: 0.6647\n",
            "\n",
            "Testing loss: 0.7746871709823608, acc: 0.6646825671195984\n",
            "\n",
            "Epoch 15/20\n",
            "5/5 [==============================] - 0s 46ms/step - loss: 0.7231 - accuracy: 0.6818 - val_loss: 0.7589 - val_accuracy: 0.6667\n",
            "\n",
            "Testing loss: 0.7588503360748291, acc: 0.6666666865348816\n",
            "\n",
            "Epoch 16/20\n",
            "5/5 [==============================] - 0s 43ms/step - loss: 0.7017 - accuracy: 0.6997 - val_loss: 0.7493 - val_accuracy: 0.6687\n",
            "\n",
            "Testing loss: 0.7493335604667664, acc: 0.6686508059501648\n",
            "\n",
            "Epoch 17/20\n",
            "5/5 [==============================] - 0s 44ms/step - loss: 0.7004 - accuracy: 0.7081 - val_loss: 0.7543 - val_accuracy: 0.6726\n",
            "\n",
            "Testing loss: 0.7543235421180725, acc: 0.6726190447807312\n",
            "\n",
            "Epoch 18/20\n",
            "5/5 [==============================] - 0s 44ms/step - loss: 0.6859 - accuracy: 0.7081 - val_loss: 0.7530 - val_accuracy: 0.6726\n",
            "\n",
            "Testing loss: 0.7529889345169067, acc: 0.6726190447807312\n",
            "\n",
            "Epoch 19/20\n",
            "5/5 [==============================] - 0s 44ms/step - loss: 0.6832 - accuracy: 0.7191 - val_loss: 0.7338 - val_accuracy: 0.6726\n",
            "\n",
            "Testing loss: 0.7338215708732605, acc: 0.6726190447807312\n",
            "\n",
            "Epoch 20/20\n",
            "5/5 [==============================] - 0s 46ms/step - loss: 0.6731 - accuracy: 0.7133 - val_loss: 0.7273 - val_accuracy: 0.6766\n",
            "\n",
            "Testing loss: 0.7272545695304871, acc: 0.6765872836112976\n",
            "\n",
            "Took : 38.39 (s)\n"
          ],
          "name": "stdout"
        }
      ]
    },
    {
      "cell_type": "code",
      "metadata": {
        "id": "Yt-l_Q9Aj44w",
        "colab": {
          "base_uri": "https://localhost:8080/"
        },
        "outputId": "7dc788d1-ac14-4c70-cc29-9efc25617f73"
      },
      "source": [
        "history.history.keys()"
      ],
      "execution_count": 38,
      "outputs": [
        {
          "output_type": "execute_result",
          "data": {
            "text/plain": [
              "dict_keys(['loss', 'accuracy', 'val_loss', 'val_accuracy'])"
            ]
          },
          "metadata": {
            "tags": []
          },
          "execution_count": 38
        }
      ]
    },
    {
      "cell_type": "code",
      "metadata": {
        "id": "-xsxi8A1j_Fq",
        "colab": {
          "base_uri": "https://localhost:8080/"
        },
        "outputId": "1dccbc2d-a0b6-4263-a26a-2ede80dc29dc"
      },
      "source": [
        "model.evaluate(X_test[:, :MAX_TEXT_LENGTH], test_cat_y, batch_size=1000)"
      ],
      "execution_count": 39,
      "outputs": [
        {
          "output_type": "stream",
          "text": [
            "1/1 [==============================] - 0s 39ms/step - loss: 0.7273 - accuracy: 0.6766\n"
          ],
          "name": "stdout"
        },
        {
          "output_type": "execute_result",
          "data": {
            "text/plain": [
              "[0.7272546887397766, 0.6765872836112976]"
            ]
          },
          "metadata": {
            "tags": []
          },
          "execution_count": 39
        }
      ]
    },
    {
      "cell_type": "code",
      "metadata": {
        "id": "X1e78k51kZ1S",
        "colab": {
          "base_uri": "https://localhost:8080/"
        },
        "outputId": "630a9da0-2ee5-4a1a-a1b6-2a762be1bee9"
      },
      "source": [
        "y_pred = np.argmax(model.predict(X_test[:, :MAX_TEXT_LENGTH]), axis=1)\n",
        "\n",
        "print(creport(np.argmax(test_cat_y, axis=1), y_pred,target_names=[\"normal\", \"abusive\", \"hate\"],digits=4))"
      ],
      "execution_count": 40,
      "outputs": [
        {
          "output_type": "stream",
          "text": [
            "              precision    recall  f1-score   support\n",
            "\n",
            "      normal     0.6102    0.6243    0.6171       173\n",
            "     abusive     0.7075    0.6380    0.6710       163\n",
            "        hate     0.7167    0.7679    0.7414       168\n",
            "\n",
            "    accuracy                         0.6766       504\n",
            "   macro avg     0.6781    0.6767    0.6765       504\n",
            "weighted avg     0.6771    0.6766    0.6760       504\n",
            "\n"
          ],
          "name": "stdout"
        }
      ]
    },
    {
      "cell_type": "code",
      "metadata": {
        "id": "po5GA7KMkGUM",
        "colab": {
          "base_uri": "https://localhost:8080/"
        },
        "outputId": "2b1ac26c-a09e-47da-d5d9-e2c79ea73d0b"
      },
      "source": [
        "n = np.argmin(history.history['val_loss'])\n",
        "\n",
        "print(\"Optimal epoch : {}\".format(n))\n",
        "print(\"Accuracy on train : {} %\".format(np.round(history.history['accuracy'][n]*100, 2)))\n",
        "print(\"Accuracy on val : {} %\".format(np.round(history.history['val_accuracy'][n]*100, 2)))\n",
        "print(\"Loss on train : {}\".format(np.round(history.history['loss'][n]*100, 2)))\n",
        "print(\"Loss on Val : {}\".format(np.round(history.history['val_loss'][n]*100, 2)))"
      ],
      "execution_count": 41,
      "outputs": [
        {
          "output_type": "stream",
          "text": [
            "Optimal epoch : 19\n",
            "Accuracy on train : 71.36 %\n",
            "Accuracy on val : 67.66 %\n",
            "Loss on train : 67.6\n",
            "Loss on Val : 72.73\n"
          ],
          "name": "stdout"
        }
      ]
    },
    {
      "cell_type": "code",
      "metadata": {
        "id": "PlVrg_zJkkLx",
        "colab": {
          "base_uri": "https://localhost:8080/",
          "height": 404
        },
        "outputId": "e9a6f92d-3968-4a48-b967-31acb8dafa0c"
      },
      "source": [
        "plt.figure(\"Loss Plot\", figsize=(12, 6))\n",
        "plt.plot(range(1, len(history.history['loss'])+1), history.history['loss'], label=\"train loss\")\n",
        "plt.plot(range(1, len(history.history['val_loss'])+1), history.history['val_loss'], label=\"val loss\")\n",
        "plt.plot(n+1,history.history[\"val_loss\"][n],\"r*\", label=\"Lowest loss\")\n",
        "plt.legend()\n",
        "plt.title(\"Learning Curve\")\n",
        "plt.ylabel(\"loss (cross_entropy)\")\n",
        "plt.xlabel(\"epochs\")\n",
        "plt.show();"
      ],
      "execution_count": 42,
      "outputs": [
        {
          "output_type": "display_data",
          "data": {
            "image/png": "[encoded data removed]",
            "text/plain": [
              "<Figure size 864x432 with 1 Axes>"
            ]
          },
          "metadata": {
            "tags": [],
            "needs_background": "light"
          }
        }
      ]
    },
    {
      "cell_type": "code",
      "metadata": {
        "id": "qb4o3UXJkrLC",
        "colab": {
          "base_uri": "https://localhost:8080/",
          "height": 404
        },
        "outputId": "7e9f7dcb-d852-4017-c061-29e002d9c6a3"
      },
      "source": [
        "plt.figure(\"Accuracy Plot\", figsize=(12, 6))\n",
        "plt.plot(range(1, len(history.history['accuracy'])+1), history.history['accuracy'], label=\"train accuracy\")\n",
        "plt.plot(range(1, len(history.history['val_accuracy'])+1), history.history['val_accuracy'], label=\"Val accuracy\")\n",
        "plt.plot(n+1,history.history[\"val_accuracy\"][n],\"r*\", label=\"Opt. Acc. (csp. Lowest loss)\")\n",
        "plt.legend()\n",
        "plt.title(\"Accuracy Curve\")\n",
        "plt.ylabel(\"accuracy\")\n",
        "plt.xlabel(\"epochs\")\n",
        "plt.show()"
      ],
      "execution_count": 43,
      "outputs": [
        {
          "output_type": "display_data",
          "data": {
            "image/png": "[encoded data removed]",
            "text/plain": [
              "<Figure size 864x432 with 1 Axes>"
            ]
          },
          "metadata": {
            "tags": [],
            "needs_background": "light"
          }
        }
      ]
    },
    {
      "cell_type": "code",
      "metadata": {
        "id": "kZp0EW06kwhy",
        "colab": {
          "base_uri": "https://localhost:8080/",
          "height": 564
        },
        "outputId": "f0f23a26-16d1-4736-9d4f-dbccd7bffba9"
      },
      "source": [
        "from keras.utils import plot_model\n",
        "plot_model(model, to_file='RNN_LSTM_model.png', show_shapes=False, show_layer_names=False)"
      ],
      "execution_count": 44,
      "outputs": [
        {
          "output_type": "execute_result",
          "data": {
            "image/png": "[encoded data removed]",
            "text/plain": [
              "<IPython.core.display.Image object>"
            ]
          },
          "metadata": {
            "tags": []
          },
          "execution_count": 44
        }
      ]
    },
    {
      "cell_type": "markdown",
      "metadata": {
        "id": "F-XRhkE5wNkw"
      },
      "source": [
        "# RNN (BLSTM) Model \n"
      ]
    },
    {
      "cell_type": "code",
      "metadata": {
        "id": "wOhvzj0WXZ-g",
        "colab": {
          "base_uri": "https://localhost:8080/"
        },
        "outputId": "feccca57-526a-4c32-d799-803de9e7579c"
      },
      "source": [
        "model = get_main_model(word_index, WORD_MODEL, EMBED_SIZE, MAX_TEXT_LENGTH, \n",
        "                       layer= Bidirectional(LSTM(units=32, return_sequences=True, return_state=False)), \n",
        "                       dropout=0.2, optimizer=optimizers.Adam())"
      ],
      "execution_count": 45,
      "outputs": [
        {
          "output_type": "stream",
          "text": [
            "Building embedding matrix...\n",
            "Embedding matrix built.\n",
            "Model: \"model_1\"\n",
            "_________________________________________________________________\n",
            "Layer (type)                 Output Shape              Param #   \n",
            "=================================================================\n",
            "input_2 (InputLayer)         [(None, 58)]              0         \n",
            "_________________________________________________________________\n",
            "embedding_1 (Embedding)      (None, 58, 300)           3181800   \n",
            "_________________________________________________________________\n",
            "bidirectional (Bidirectional (None, 58, 64)            85248     \n",
            "_________________________________________________________________\n",
            "dropout_1 (Dropout)          (None, 58, 64)            0         \n",
            "_________________________________________________________________\n",
            "flatten_1 (Flatten)          (None, 3712)              0         \n",
            "_________________________________________________________________\n",
            "dense_1 (Dense)              (None, 3)                 11139     \n",
            "=================================================================\n",
            "Total params: 3,278,187\n",
            "Trainable params: 96,387\n",
            "Non-trainable params: 3,181,800\n",
            "_________________________________________________________________\n"
          ],
          "name": "stdout"
        }
      ]
    },
    {
      "cell_type": "code",
      "metadata": {
        "id": "i62FHvSzXk7Q",
        "colab": {
          "base_uri": "https://localhost:8080/"
        },
        "outputId": "ba4be2ad-319d-455b-9704-96cf3474bef1"
      },
      "source": [
        "time_start = time()\n",
        "history, model = train_fit_predict(model,\n",
        "                               X_train[:, :MAX_TEXT_LENGTH],\n",
        "                               X_test[:, :MAX_TEXT_LENGTH],\n",
        "                               train_y_cat, test_cat_y, class_weight=None,\n",
        "                               batch_size=500, epochs=20)\n",
        "time_start = time() - time_start\n",
        "\n",
        "print(\"Took : \"+str(np.round(time_start, 2))+\" (s)\") "
      ],
      "execution_count": 46,
      "outputs": [
        {
          "output_type": "stream",
          "text": [
            "Epoch 1/20\n",
            "5/5 [==============================] - 4s 288ms/step - loss: 1.0748 - accuracy: 0.4446 - val_loss: 1.0284 - val_accuracy: 0.5575\n",
            "\n",
            "Testing loss: 1.0284327268600464, acc: 0.557539701461792\n",
            "\n",
            "Epoch 2/20\n",
            "5/5 [==============================] - 0s 74ms/step - loss: 0.9897 - accuracy: 0.5534 - val_loss: 0.9615 - val_accuracy: 0.5933\n",
            "\n",
            "Testing loss: 0.9614521265029907, acc: 0.5932539701461792\n",
            "\n",
            "Epoch 3/20\n",
            "5/5 [==============================] - 0s 71ms/step - loss: 0.9125 - accuracy: 0.6044 - val_loss: 0.9097 - val_accuracy: 0.5952\n",
            "\n",
            "Testing loss: 0.909692108631134, acc: 0.5952380895614624\n",
            "\n",
            "Epoch 4/20\n",
            "5/5 [==============================] - 0s 67ms/step - loss: 0.8436 - accuracy: 0.6407 - val_loss: 0.8299 - val_accuracy: 0.6052\n",
            "\n",
            "Testing loss: 0.8298861980438232, acc: 0.6051587462425232\n",
            "\n",
            "Epoch 5/20\n",
            "5/5 [==============================] - 0s 70ms/step - loss: 0.7852 - accuracy: 0.6525 - val_loss: 0.7959 - val_accuracy: 0.6369\n",
            "\n",
            "Testing loss: 0.7959484457969666, acc: 0.636904776096344\n",
            "\n",
            "Epoch 6/20\n",
            "5/5 [==============================] - 0s 71ms/step - loss: 0.7443 - accuracy: 0.6895 - val_loss: 0.7781 - val_accuracy: 0.6429\n",
            "\n",
            "Testing loss: 0.7780523300170898, acc: 0.6428571343421936\n",
            "\n",
            "Epoch 7/20\n",
            "5/5 [==============================] - 0s 68ms/step - loss: 0.6933 - accuracy: 0.7083 - val_loss: 0.7506 - val_accuracy: 0.6468\n",
            "\n",
            "Testing loss: 0.7506324648857117, acc: 0.64682537317276\n",
            "\n",
            "Epoch 8/20\n",
            "5/5 [==============================] - 0s 66ms/step - loss: 0.6724 - accuracy: 0.7226 - val_loss: 0.7459 - val_accuracy: 0.6627\n",
            "\n",
            "Testing loss: 0.7459115386009216, acc: 0.6626983880996704\n",
            "\n",
            "Epoch 9/20\n",
            "5/5 [==============================] - 0s 65ms/step - loss: 0.6614 - accuracy: 0.7250 - val_loss: 0.7326 - val_accuracy: 0.6825\n",
            "\n",
            "Testing loss: 0.7325989007949829, acc: 0.682539701461792\n",
            "\n",
            "Epoch 10/20\n",
            "5/5 [==============================] - 0s 65ms/step - loss: 0.6443 - accuracy: 0.7376 - val_loss: 0.7215 - val_accuracy: 0.6905\n",
            "\n",
            "Testing loss: 0.7215008735656738, acc: 0.6904761791229248\n",
            "\n",
            "Epoch 11/20\n",
            "5/5 [==============================] - 0s 67ms/step - loss: 0.6251 - accuracy: 0.7436 - val_loss: 0.7213 - val_accuracy: 0.6865\n",
            "\n",
            "Testing loss: 0.7213497757911682, acc: 0.6865079402923584\n",
            "\n",
            "Epoch 12/20\n",
            "5/5 [==============================] - 0s 63ms/step - loss: 0.6047 - accuracy: 0.7421 - val_loss: 0.7021 - val_accuracy: 0.6687\n",
            "\n",
            "Testing loss: 0.7020853757858276, acc: 0.6686508059501648\n",
            "\n",
            "Epoch 13/20\n",
            "5/5 [==============================] - 0s 62ms/step - loss: 0.5967 - accuracy: 0.7461 - val_loss: 0.7012 - val_accuracy: 0.6944\n",
            "\n",
            "Testing loss: 0.7012458443641663, acc: 0.6944444179534912\n",
            "\n",
            "Epoch 14/20\n",
            "5/5 [==============================] - 0s 59ms/step - loss: 0.5791 - accuracy: 0.7502 - val_loss: 0.7303 - val_accuracy: 0.6746\n",
            "\n",
            "Testing loss: 0.7302646040916443, acc: 0.6746031641960144\n",
            "\n",
            "Epoch 15/20\n",
            "5/5 [==============================] - 0s 59ms/step - loss: 0.5689 - accuracy: 0.7522 - val_loss: 0.6650 - val_accuracy: 0.6865\n",
            "\n",
            "Testing loss: 0.6649903059005737, acc: 0.6865079402923584\n",
            "\n",
            "Epoch 16/20\n",
            "5/5 [==============================] - 0s 60ms/step - loss: 0.5419 - accuracy: 0.7796 - val_loss: 0.7014 - val_accuracy: 0.6984\n",
            "\n",
            "Testing loss: 0.7013625502586365, acc: 0.6984127163887024\n",
            "\n",
            "Epoch 17/20\n",
            "5/5 [==============================] - 0s 59ms/step - loss: 0.5374 - accuracy: 0.7708 - val_loss: 0.6676 - val_accuracy: 0.7024\n",
            "\n",
            "Testing loss: 0.6675939559936523, acc: 0.7023809552192688\n",
            "\n",
            "Epoch 18/20\n",
            "5/5 [==============================] - 0s 59ms/step - loss: 0.5343 - accuracy: 0.7724 - val_loss: 0.6937 - val_accuracy: 0.6905\n",
            "\n",
            "Testing loss: 0.6937157511711121, acc: 0.6904761791229248\n",
            "\n",
            "Epoch 19/20\n",
            "5/5 [==============================] - 0s 59ms/step - loss: 0.5148 - accuracy: 0.7827 - val_loss: 0.7516 - val_accuracy: 0.6766\n",
            "\n",
            "Testing loss: 0.7516202926635742, acc: 0.6765872836112976\n",
            "\n",
            "Epoch 20/20\n",
            "5/5 [==============================] - 0s 60ms/step - loss: 0.5569 - accuracy: 0.7633 - val_loss: 0.6835 - val_accuracy: 0.6984\n",
            "\n",
            "Testing loss: 0.6834930777549744, acc: 0.6984127163887024\n",
            "\n",
            "Took : 14.82 (s)\n"
          ],
          "name": "stdout"
        }
      ]
    },
    {
      "cell_type": "code",
      "metadata": {
        "id": "IWTJMbAqX5Gj",
        "colab": {
          "base_uri": "https://localhost:8080/"
        },
        "outputId": "c278c18d-9104-419b-9db6-fcc9b05acd51"
      },
      "source": [
        "model.evaluate(X_test[:, :MAX_TEXT_LENGTH], test_cat_y, batch_size=1000)"
      ],
      "execution_count": 47,
      "outputs": [
        {
          "output_type": "stream",
          "text": [
            "1/1 [==============================] - 0s 40ms/step - loss: 0.6835 - accuracy: 0.6984\n"
          ],
          "name": "stdout"
        },
        {
          "output_type": "execute_result",
          "data": {
            "text/plain": [
              "[0.6834930777549744, 0.6984127163887024]"
            ]
          },
          "metadata": {
            "tags": []
          },
          "execution_count": 47
        }
      ]
    },
    {
      "cell_type": "code",
      "metadata": {
        "id": "Yf0CVyJrX-hu",
        "colab": {
          "base_uri": "https://localhost:8080/"
        },
        "outputId": "cfe91e21-9696-4276-fe43-b8d0232f792e"
      },
      "source": [
        "y_pred = np.argmax(model.predict(X_test[:, :MAX_TEXT_LENGTH]), axis=1)\n",
        "\n",
        "print(creport(np.argmax(test_cat_y, axis=1), y_pred,target_names=[\"normal\", \"abusive\", \"hate\"],digits=4))"
      ],
      "execution_count": 48,
      "outputs": [
        {
          "output_type": "stream",
          "text": [
            "              precision    recall  f1-score   support\n",
            "\n",
            "      normal     0.6648    0.6763    0.6705       173\n",
            "     abusive     0.7788    0.5399    0.6377       163\n",
            "        hate     0.6837    0.8750    0.7676       168\n",
            "\n",
            "    accuracy                         0.6984       504\n",
            "   macro avg     0.7091    0.6971    0.6919       504\n",
            "weighted avg     0.7080    0.6984    0.6923       504\n",
            "\n"
          ],
          "name": "stdout"
        }
      ]
    },
    {
      "cell_type": "code",
      "metadata": {
        "id": "9wMp4V4NQ8x4",
        "colab": {
          "base_uri": "https://localhost:8080/",
          "height": 404
        },
        "outputId": "e95839a0-ced2-4bb3-8ae8-c4774e76f196"
      },
      "source": [
        "plt.figure(\"Loss Plot\", figsize=(12, 6))\n",
        "plt.plot(range(1, len(history.history['loss'])+1), history.history['loss'], label=\"train loss\")\n",
        "plt.plot(range(1, len(history.history['val_loss'])+1), history.history['val_loss'], label=\"val loss\")\n",
        "plt.plot(n+1,history.history[\"val_loss\"][n],\"r*\", label=\"Lowest loss\")\n",
        "plt.legend()\n",
        "plt.title(\"Learning Curve\")\n",
        "plt.ylabel(\"loss (cross_entropy)\")\n",
        "plt.xlabel(\"epochs\")\n",
        "plt.show();"
      ],
      "execution_count": 49,
      "outputs": [
        {
          "output_type": "display_data",
          "data": {
            "image/png": "[encoded data removed]",
            "text/plain": [
              "<Figure size 864x432 with 1 Axes>"
            ]
          },
          "metadata": {
            "tags": [],
            "needs_background": "light"
          }
        }
      ]
    },
    {
      "cell_type": "code",
      "metadata": {
        "colab": {
          "base_uri": "https://localhost:8080/",
          "height": 404
        },
        "id": "VeoyHwO61CBJ",
        "outputId": "3e177e45-56dd-4e04-9967-afab9cfdbbe4"
      },
      "source": [
        "plt.figure(\"Accuracy Plot\", figsize=(12, 6))\n",
        "plt.plot(range(1, len(history.history['accuracy'])+1), history.history['accuracy'], label=\"train accuracy\")\n",
        "plt.plot(range(1, len(history.history['val_accuracy'])+1), history.history['val_accuracy'], label=\"Val accuracy\")\n",
        "plt.plot(n+1,history.history[\"val_accuracy\"][n],\"r*\", label=\"Opt. Acc. (csp. Lowest loss)\")\n",
        "plt.legend()\n",
        "plt.title(\"Accuracy Curve\")\n",
        "plt.ylabel(\"accuracy\")\n",
        "plt.xlabel(\"epochs\")\n",
        "plt.show()"
      ],
      "execution_count": 50,
      "outputs": [
        {
          "output_type": "display_data",
          "data": {
            "image/png": "[encoded data removed]",
            "text/plain": [
              "<Figure size 864x432 with 1 Axes>"
            ]
          },
          "metadata": {
            "tags": [],
            "needs_background": "light"
          }
        }
      ]
    },
    {
      "cell_type": "code",
      "metadata": {
        "id": "Hjkr6-woi004",
        "colab": {
          "base_uri": "https://localhost:8080/",
          "height": 564
        },
        "outputId": "83bc8aa9-929a-4fc2-fbeb-892252dfd514"
      },
      "source": [
        "plot_model(model, to_file='RNN_BLSTM_model.png', show_shapes=False, show_layer_names=False)"
      ],
      "execution_count": 51,
      "outputs": [
        {
          "output_type": "execute_result",
          "data": {
            "image/png": "[encoded data removed]",
            "text/plain": [
              "<IPython.core.display.Image object>"
            ]
          },
          "metadata": {
            "tags": []
          },
          "execution_count": 51
        }
      ]
    },
    {
      "cell_type": "markdown",
      "metadata": {
        "id": "noAxq9pOwUrb"
      },
      "source": [
        "# RNN (GRU) Model\n"
      ]
    },
    {
      "cell_type": "code",
      "metadata": {
        "id": "cq0ES8O8djoG",
        "colab": {
          "base_uri": "https://localhost:8080/"
        },
        "outputId": "2d572d83-612b-4579-c207-8328d42c9302"
      },
      "source": [
        "model = get_main_model(word_index, WORD_MODEL, EMBED_SIZE, MAX_TEXT_LENGTH, \n",
        "                       layer= GRU(units=16, return_sequences=True, return_state=False), \n",
        "                       dropout=0.5, optimizer=optimizers.Adam())"
      ],
      "execution_count": 52,
      "outputs": [
        {
          "output_type": "stream",
          "text": [
            "Building embedding matrix...\n",
            "Embedding matrix built.\n",
            "Model: \"model_2\"\n",
            "_________________________________________________________________\n",
            "Layer (type)                 Output Shape              Param #   \n",
            "=================================================================\n",
            "input_3 (InputLayer)         [(None, 58)]              0         \n",
            "_________________________________________________________________\n",
            "embedding_2 (Embedding)      (None, 58, 300)           3181800   \n",
            "_________________________________________________________________\n",
            "gru (GRU)                    (None, 58, 16)            15264     \n",
            "_________________________________________________________________\n",
            "dropout_2 (Dropout)          (None, 58, 16)            0         \n",
            "_________________________________________________________________\n",
            "flatten_2 (Flatten)          (None, 928)               0         \n",
            "_________________________________________________________________\n",
            "dense_2 (Dense)              (None, 3)                 2787      \n",
            "=================================================================\n",
            "Total params: 3,199,851\n",
            "Trainable params: 18,051\n",
            "Non-trainable params: 3,181,800\n",
            "_________________________________________________________________\n"
          ],
          "name": "stdout"
        }
      ]
    },
    {
      "cell_type": "code",
      "metadata": {
        "id": "SGyK0YxHeHxU",
        "colab": {
          "base_uri": "https://localhost:8080/"
        },
        "outputId": "a66520e5-aa3a-44db-cf08-c14eee1d0700"
      },
      "source": [
        "time_start = time()\n",
        "history, model = train_fit_predict(model,\n",
        "                               X_train[:, :MAX_TEXT_LENGTH],\n",
        "                               X_test[:, :MAX_TEXT_LENGTH],\n",
        "                               train_y_cat, test_cat_y, class_weight=None,\n",
        "                               batch_size=500, epochs=20)\n",
        "time_start = time() - time_start\n",
        "\n",
        "print(\"Took : \"+str(np.round(time_start, 2))+\" (s)\") "
      ],
      "execution_count": 53,
      "outputs": [
        {
          "output_type": "stream",
          "text": [
            "Epoch 1/20\n",
            "5/5 [==============================] - 2s 157ms/step - loss: 1.1100 - accuracy: 0.3206 - val_loss: 1.0795 - val_accuracy: 0.4187\n",
            "\n",
            "Testing loss: 1.079501986503601, acc: 0.4186508059501648\n",
            "\n",
            "Epoch 2/20\n",
            "5/5 [==============================] - 0s 46ms/step - loss: 1.0717 - accuracy: 0.4178 - val_loss: 1.0563 - val_accuracy: 0.4841\n",
            "\n",
            "Testing loss: 1.0563032627105713, acc: 0.4841269850730896\n",
            "\n",
            "Epoch 3/20\n",
            "5/5 [==============================] - 0s 44ms/step - loss: 1.0489 - accuracy: 0.4756 - val_loss: 1.0332 - val_accuracy: 0.5417\n",
            "\n",
            "Testing loss: 1.0332411527633667, acc: 0.5416666865348816\n",
            "\n",
            "Epoch 4/20\n",
            "5/5 [==============================] - 0s 45ms/step - loss: 1.0167 - accuracy: 0.5102 - val_loss: 1.0058 - val_accuracy: 0.5655\n",
            "\n",
            "Testing loss: 1.005839228630066, acc: 0.5654761791229248\n",
            "\n",
            "Epoch 5/20\n",
            "5/5 [==============================] - 0s 43ms/step - loss: 0.9863 - accuracy: 0.5439 - val_loss: 0.9726 - val_accuracy: 0.5913\n",
            "\n",
            "Testing loss: 0.9726043343544006, acc: 0.591269850730896\n",
            "\n",
            "Epoch 6/20\n",
            "5/5 [==============================] - 0s 45ms/step - loss: 0.9616 - accuracy: 0.5694 - val_loss: 0.9426 - val_accuracy: 0.6052\n",
            "\n",
            "Testing loss: 0.942559003829956, acc: 0.6051587462425232\n",
            "\n",
            "Epoch 7/20\n",
            "5/5 [==============================] - 0s 43ms/step - loss: 0.9273 - accuracy: 0.5856 - val_loss: 0.9146 - val_accuracy: 0.6250\n",
            "\n",
            "Testing loss: 0.9145987033843994, acc: 0.625\n",
            "\n",
            "Epoch 8/20\n",
            "5/5 [==============================] - 0s 44ms/step - loss: 0.9055 - accuracy: 0.5999 - val_loss: 0.8818 - val_accuracy: 0.6369\n",
            "\n",
            "Testing loss: 0.8818210363388062, acc: 0.636904776096344\n",
            "\n",
            "Epoch 9/20\n",
            "5/5 [==============================] - 0s 44ms/step - loss: 0.8774 - accuracy: 0.6076 - val_loss: 0.8573 - val_accuracy: 0.6587\n",
            "\n",
            "Testing loss: 0.857316792011261, acc: 0.658730149269104\n",
            "\n",
            "Epoch 10/20\n",
            "5/5 [==============================] - 0s 43ms/step - loss: 0.8410 - accuracy: 0.6416 - val_loss: 0.8392 - val_accuracy: 0.6548\n",
            "\n",
            "Testing loss: 0.8392296433448792, acc: 0.6547619104385376\n",
            "\n",
            "Epoch 11/20\n",
            "5/5 [==============================] - 0s 43ms/step - loss: 0.8153 - accuracy: 0.6444 - val_loss: 0.8201 - val_accuracy: 0.6607\n",
            "\n",
            "Testing loss: 0.820127010345459, acc: 0.6607142686843872\n",
            "\n",
            "Epoch 12/20\n",
            "5/5 [==============================] - 0s 44ms/step - loss: 0.8077 - accuracy: 0.6398 - val_loss: 0.7960 - val_accuracy: 0.6607\n",
            "\n",
            "Testing loss: 0.7960180044174194, acc: 0.6607142686843872\n",
            "\n",
            "Epoch 13/20\n",
            "5/5 [==============================] - 0s 45ms/step - loss: 0.7735 - accuracy: 0.6683 - val_loss: 0.7706 - val_accuracy: 0.6726\n",
            "\n",
            "Testing loss: 0.7706112861633301, acc: 0.6726190447807312\n",
            "\n",
            "Epoch 14/20\n",
            "5/5 [==============================] - 0s 44ms/step - loss: 0.7635 - accuracy: 0.6760 - val_loss: 0.7561 - val_accuracy: 0.6746\n",
            "\n",
            "Testing loss: 0.7561104893684387, acc: 0.6746031641960144\n",
            "\n",
            "Epoch 15/20\n",
            "5/5 [==============================] - 0s 45ms/step - loss: 0.7433 - accuracy: 0.6764 - val_loss: 0.7588 - val_accuracy: 0.6746\n",
            "\n",
            "Testing loss: 0.758782148361206, acc: 0.6746031641960144\n",
            "\n",
            "Epoch 16/20\n",
            "5/5 [==============================] - 0s 44ms/step - loss: 0.7265 - accuracy: 0.6891 - val_loss: 0.7275 - val_accuracy: 0.6885\n",
            "\n",
            "Testing loss: 0.7274612188339233, acc: 0.6884920597076416\n",
            "\n",
            "Epoch 17/20\n",
            "5/5 [==============================] - 0s 47ms/step - loss: 0.7134 - accuracy: 0.6915 - val_loss: 0.7124 - val_accuracy: 0.6984\n",
            "\n",
            "Testing loss: 0.7124031186103821, acc: 0.6984127163887024\n",
            "\n",
            "Epoch 18/20\n",
            "5/5 [==============================] - 0s 44ms/step - loss: 0.6950 - accuracy: 0.6992 - val_loss: 0.7154 - val_accuracy: 0.6964\n",
            "\n",
            "Testing loss: 0.715449333190918, acc: 0.6964285969734192\n",
            "\n",
            "Epoch 19/20\n",
            "5/5 [==============================] - 0s 45ms/step - loss: 0.6928 - accuracy: 0.7080 - val_loss: 0.6990 - val_accuracy: 0.7202\n",
            "\n",
            "Testing loss: 0.6990059614181519, acc: 0.7202380895614624\n",
            "\n",
            "Epoch 20/20\n",
            "5/5 [==============================] - 0s 44ms/step - loss: 0.6696 - accuracy: 0.7197 - val_loss: 0.6923 - val_accuracy: 0.7163\n",
            "\n",
            "Testing loss: 0.692300021648407, acc: 0.716269850730896\n",
            "\n",
            "Took : 10.15 (s)\n"
          ],
          "name": "stdout"
        }
      ]
    },
    {
      "cell_type": "code",
      "metadata": {
        "id": "8ENyBQVzejz9",
        "colab": {
          "base_uri": "https://localhost:8080/"
        },
        "outputId": "362305d2-626c-42ec-bde1-4cd8c5379b64"
      },
      "source": [
        "model.evaluate(X_test[:, :MAX_TEXT_LENGTH], test_cat_y, batch_size=1000)"
      ],
      "execution_count": 54,
      "outputs": [
        {
          "output_type": "stream",
          "text": [
            "1/1 [==============================] - 0s 36ms/step - loss: 0.6923 - accuracy: 0.7163\n"
          ],
          "name": "stdout"
        },
        {
          "output_type": "execute_result",
          "data": {
            "text/plain": [
              "[0.6922999620437622, 0.716269850730896]"
            ]
          },
          "metadata": {
            "tags": []
          },
          "execution_count": 54
        }
      ]
    },
    {
      "cell_type": "code",
      "metadata": {
        "id": "ZoiPJ2MXejop",
        "colab": {
          "base_uri": "https://localhost:8080/"
        },
        "outputId": "50d7d851-bc89-43ad-e496-30cc33f0c940"
      },
      "source": [
        "y_pred = np.argmax(model.predict(X_test[:, :MAX_TEXT_LENGTH]), axis=1)\n",
        "\n",
        "print(creport(np.argmax(test_cat_y, axis=1), y_pred,target_names=[\"normal\", \"abusive\", \"hate\"],digits=4))"
      ],
      "execution_count": 55,
      "outputs": [
        {
          "output_type": "stream",
          "text": [
            "              precision    recall  f1-score   support\n",
            "\n",
            "      normal     0.6116    0.7919    0.6902       173\n",
            "     abusive     0.8246    0.5767    0.6787       163\n",
            "        hate     0.7831    0.7738    0.7784       168\n",
            "\n",
            "    accuracy                         0.7163       504\n",
            "   macro avg     0.7398    0.7141    0.7158       504\n",
            "weighted avg     0.7377    0.7163    0.7159       504\n",
            "\n"
          ],
          "name": "stdout"
        }
      ]
    },
    {
      "cell_type": "code",
      "metadata": {
        "id": "2ceTxWi9RM5e",
        "colab": {
          "base_uri": "https://localhost:8080/",
          "height": 404
        },
        "outputId": "e7759fdb-7ec4-45a3-e917-4c2e41688f72"
      },
      "source": [
        "plt.figure(\"Loss Plot\", figsize=(12, 6))\n",
        "plt.plot(range(1, len(history.history['loss'])+1), history.history['loss'], label=\"train loss\")\n",
        "plt.plot(range(1, len(history.history['val_loss'])+1), history.history['val_loss'], label=\"val loss\")\n",
        "plt.plot(n+1,history.history[\"val_loss\"][n],\"r*\", label=\"Lowest loss\")\n",
        "plt.legend()\n",
        "plt.title(\"Learning Curve\")\n",
        "plt.ylabel(\"loss (cross_entropy)\")\n",
        "plt.xlabel(\"epochs\")\n",
        "plt.show();"
      ],
      "execution_count": 56,
      "outputs": [
        {
          "output_type": "display_data",
          "data": {
            "image/png": "[encoded data removed]",
            "text/plain": [
              "<Figure size 864x432 with 1 Axes>"
            ]
          },
          "metadata": {
            "tags": [],
            "needs_background": "light"
          }
        }
      ]
    },
    {
      "cell_type": "code",
      "metadata": {
        "colab": {
          "base_uri": "https://localhost:8080/",
          "height": 404
        },
        "id": "I4zQVMLT1UBj",
        "outputId": "1da155b8-5e6a-474d-cd87-35449b127838"
      },
      "source": [
        "plt.figure(\"Accuracy Plot\", figsize=(12, 6))\n",
        "plt.plot(range(1, len(history.history['accuracy'])+1), history.history['accuracy'], label=\"train accuracy\")\n",
        "plt.plot(range(1, len(history.history['val_accuracy'])+1), history.history['val_accuracy'], label=\"Val accuracy\")\n",
        "plt.plot(n+1,history.history[\"val_accuracy\"][n],\"r*\", label=\"Opt. Acc. (csp. Lowest loss)\")\n",
        "plt.legend()\n",
        "plt.title(\"Accuracy Curve\")\n",
        "plt.ylabel(\"accuracy\")\n",
        "plt.xlabel(\"epochs\")\n",
        "plt.show()"
      ],
      "execution_count": 57,
      "outputs": [
        {
          "output_type": "display_data",
          "data": {
            "image/png": "[encoded data removed]",
            "text/plain": [
              "<Figure size 864x432 with 1 Axes>"
            ]
          },
          "metadata": {
            "tags": [],
            "needs_background": "light"
          }
        }
      ]
    },
    {
      "cell_type": "code",
      "metadata": {
        "id": "4UMgjml0i4nQ",
        "colab": {
          "base_uri": "https://localhost:8080/",
          "height": 564
        },
        "outputId": "d196d617-1ac3-4492-df47-74741ff498d7"
      },
      "source": [
        "plot_model(model, to_file='RNN_GRU_model.png', show_shapes=False, show_layer_names=False)"
      ],
      "execution_count": 58,
      "outputs": [
        {
          "output_type": "execute_result",
          "data": {
            "image/png": "[encoded data removed]",
            "text/plain": [
              "<IPython.core.display.Image object>"
            ]
          },
          "metadata": {
            "tags": []
          },
          "execution_count": 58
        }
      ]
    }
  ]
}