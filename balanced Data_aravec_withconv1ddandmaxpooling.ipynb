{
  "nbformat": 4,
  "nbformat_minor": 0,
  "metadata": {
    "colab": {
      "name": "463_4 Balanced",
      "provenance": [],
      "collapsed_sections": [],
      "toc_visible": true
    },
    "kernelspec": {
      "name": "python3",
      "display_name": "Python 3"
    },
    "accelerator": "GPU"
  },
  "cells": [
    {
      "cell_type": "markdown",
      "metadata": {
        "id": "wrCuCYE3b7Zs"
      },
      "source": [
        "# Hate speech Detection using CNN\n",
        "\n",
        "\n",
        "\n"
      ]
    },
    {
      "cell_type": "code",
      "metadata": {
        "colab": {
          "base_uri": "https://localhost:8080/"
        },
        "id": "exQ27rUk_j4T",
        "outputId": "3c97e03c-67d0-4161-d6f1-c99ffd19d6ae"
      },
      "source": [
        "from google.colab import drive\n",
        "drive.mount('/content/drive')"
      ],
      "execution_count": 1,
      "outputs": [
        {
          "output_type": "stream",
          "text": [
            "Mounted at /content/drive\n"
          ],
          "name": "stdout"
        }
      ]
    },
    {
      "cell_type": "code",
      "metadata": {
        "id": "jnSw0od87C8-"
      },
      "source": [
        "from keras.layers import Embedding, Dense, Dropout, Input, LSTM, Bidirectional,GRU\n",
        "from keras.layers import MaxPooling1D, Conv1D, Flatten\n",
        "from keras.preprocessing import sequence, text\n",
        "from keras.models import Model\n",
        "from keras.utils import np_utils\n",
        "from keras.callbacks import Callback\n",
        "\n",
        "from gensim.models.keyedvectors import KeyedVectors\n",
        "from sklearn import preprocessing\n",
        "from time import time\n",
        "import pandas as pd\n",
        "import numpy as np\n",
        "import matplotlib.pyplot as plt\n",
        "import seaborn as sns\n",
        "import csv\n",
        "\n",
        "from keras import optimizers\n",
        "\n",
        "from sklearn.metrics import f1_score\n",
        "from sklearn.metrics import accuracy_score\n",
        "\n",
        "from sklearn.utils import class_weight\n",
        "\n",
        "from sklearn import preprocessing\n",
        "from sklearn.metrics import (\n",
        "    classification_report as creport\n",
        ")\n"
      ],
      "execution_count": 2,
      "outputs": []
    },
    {
      "cell_type": "markdown",
      "metadata": {
        "id": "n6_dt2cDtobO"
      },
      "source": [
        "# Data and AraVec2.0 (pre-trained word embeddings model) Loading"
      ]
    },
    {
      "cell_type": "code",
      "metadata": {
        "id": "2Mn0KDJg-o5u",
        "colab": {
          "base_uri": "https://localhost:8080/"
        },
        "outputId": "cacdefbb-8991-412a-d271-35e8319d303b"
      },
      "source": [
        "#pre-trained word embedding: https://github.com/bakrianoo/aravec/tree/master/AraVec%202.0\n",
        "\"\"\"\n",
        "Citation:\n",
        "Abu Bakr Soliman, Kareem Eisa, and Samhaa R. El-Beltagy, “AraVec:\n",
        "A set of Arabic Word Embedding Models for use in Arabic NLP”,\n",
        "in proceedings of the 3rd International Conference on \n",
        "Arabic Computational Linguistics (ACLing 2017), Dubai, UAE, 2017.\n",
        "\"\"\"\n",
        "! unzip '/content/drive/MyDrive/tweets_sg_300.zip'  "
      ],
      "execution_count": 3,
      "outputs": [
        {
          "output_type": "stream",
          "text": [
            "Archive:  /content/drive/MyDrive/tweets_sg_300.zip\n",
            "  inflating: tweets_sg_300           \n",
            "  inflating: tweets_sg_300.trainables.syn1neg.npy  \n",
            "  inflating: tweets_sg_300.wv.vectors.npy  \n"
          ],
          "name": "stdout"
        }
      ]
    },
    {
      "cell_type": "code",
      "metadata": {
        "id": "V3kKX6Ra-p1d"
      },
      "source": [
        "# Word_embedding_path\n",
        "embedding_path = '/content/tweets_sg_300'           #Twitter-Skipgram model-300d(trained on 77,600,000 Arabic tweets)"
      ],
      "execution_count": 4,
      "outputs": []
    },
    {
      "cell_type": "code",
      "metadata": {
        "id": "JpRSY6aVACVF",
        "colab": {
          "base_uri": "https://localhost:8080/",
          "height": 415
        },
        "outputId": "9ce47c63-1b2c-4b00-9050-dd08bc26ca59"
      },
      "source": [
        "train_data = pd.read_csv('/content/drive/MyDrive/Dataset.csv')\n",
        "train_data"
      ],
      "execution_count": 5,
      "outputs": [
        {
          "output_type": "execute_result",
          "data": {
            "text/html": [
              "<div>\n",
              "<style scoped>\n",
              "    .dataframe tbody tr th:only-of-type {\n",
              "        vertical-align: middle;\n",
              "    }\n",
              "\n",
              "    .dataframe tbody tr th {\n",
              "        vertical-align: top;\n",
              "    }\n",
              "\n",
              "    .dataframe thead th {\n",
              "        text-align: right;\n",
              "    }\n",
              "</style>\n",
              "<table border=\"1\" class=\"dataframe\">\n",
              "  <thead>\n",
              "    <tr style=\"text-align: right;\">\n",
              "      <th></th>\n",
              "      <th>Tweet</th>\n",
              "      <th>Class</th>\n",
              "    </tr>\n",
              "  </thead>\n",
              "  <tbody>\n",
              "    <tr>\n",
              "      <th>0</th>\n",
              "      <td>هول هني ذاتن كانو كلاب الفلسطينية ضد حركة امل</td>\n",
              "      <td>hate</td>\n",
              "    </tr>\n",
              "    <tr>\n",
              "      <th>1</th>\n",
              "      <td>واحد مكيف إنه النهيق تبعه أموي شو بده يطلع منه</td>\n",
              "      <td>hate</td>\n",
              "    </tr>\n",
              "    <tr>\n",
              "      <th>2</th>\n",
              "      <td>هيدا لبناني لإنو عميل طز بهيك بلد معفن</td>\n",
              "      <td>hate</td>\n",
              "    </tr>\n",
              "    <tr>\n",
              "      <th>3</th>\n",
              "      <td>حاطين جبران باسيل وقاعدين جبران قال هيك جبران ...</td>\n",
              "      <td>abusive</td>\n",
              "    </tr>\n",
              "    <tr>\n",
              "      <th>4</th>\n",
              "      <td>هلق هيدا يلي طلع معك جبران باسيل متل جيري ماهر...</td>\n",
              "      <td>normal</td>\n",
              "    </tr>\n",
              "    <tr>\n",
              "      <th>...</th>\n",
              "      <td>...</td>\n",
              "      <td>...</td>\n",
              "    </tr>\n",
              "    <tr>\n",
              "      <th>2514</th>\n",
              "      <td>الكيزان زي النازيين واحد :قتلو وعذبو و حكمهم ...</td>\n",
              "      <td>hate</td>\n",
              "    </tr>\n",
              "    <tr>\n",
              "      <th>2515</th>\n",
              "      <td>وطنا جميل وشعبنا جميل بس هدونا البال بالسياسة ...</td>\n",
              "      <td>normal</td>\n",
              "    </tr>\n",
              "    <tr>\n",
              "      <th>2516</th>\n",
              "      <td>طيب شو القيمة يلي بيستفيدها المجتمع لو النسوان...</td>\n",
              "      <td>normal</td>\n",
              "    </tr>\n",
              "    <tr>\n",
              "      <th>2517</th>\n",
              "      <td>مارسيل غانم انتحر إعلامياً للتو ظهر عن طريق ال...</td>\n",
              "      <td>hate</td>\n",
              "    </tr>\n",
              "    <tr>\n",
              "      <th>2518</th>\n",
              "      <td>لو ما تفكيرك غبي متلك ما بتقلولي نحنا جماعة حز...</td>\n",
              "      <td>abusive</td>\n",
              "    </tr>\n",
              "  </tbody>\n",
              "</table>\n",
              "<p>2519 rows × 2 columns</p>\n",
              "</div>"
            ],
            "text/plain": [
              "                                                  Tweet    Class\n",
              "0         هول هني ذاتن كانو كلاب الفلسطينية ضد حركة امل     hate\n",
              "1        واحد مكيف إنه النهيق تبعه أموي شو بده يطلع منه     hate\n",
              "2                هيدا لبناني لإنو عميل طز بهيك بلد معفن     hate\n",
              "3     حاطين جبران باسيل وقاعدين جبران قال هيك جبران ...  abusive\n",
              "4     هلق هيدا يلي طلع معك جبران باسيل متل جيري ماهر...   normal\n",
              "...                                                 ...      ...\n",
              "2514   الكيزان زي النازيين واحد :قتلو وعذبو و حكمهم ...     hate\n",
              "2515  وطنا جميل وشعبنا جميل بس هدونا البال بالسياسة ...   normal\n",
              "2516  طيب شو القيمة يلي بيستفيدها المجتمع لو النسوان...   normal\n",
              "2517  مارسيل غانم انتحر إعلامياً للتو ظهر عن طريق ال...     hate\n",
              "2518  لو ما تفكيرك غبي متلك ما بتقلولي نحنا جماعة حز...  abusive\n",
              "\n",
              "[2519 rows x 2 columns]"
            ]
          },
          "metadata": {
            "tags": []
          },
          "execution_count": 5
        }
      ]
    },
    {
      "cell_type": "code",
      "metadata": {
        "id": "s9yxPtQjKsPa",
        "colab": {
          "base_uri": "https://localhost:8080/"
        },
        "outputId": "fb3eea8a-cdd9-4ece-ca35-31e98489c3a7"
      },
      "source": [
        "print(\"Train data shape: {}\". format(train_data.shape))"
      ],
      "execution_count": 6,
      "outputs": [
        {
          "output_type": "stream",
          "text": [
            "Train data shape: (2519, 2)\n"
          ],
          "name": "stdout"
        }
      ]
    },
    {
      "cell_type": "code",
      "metadata": {
        "id": "Ae5n6EhUcEDD"
      },
      "source": [
        "def get_embedding_matrix(word_index, embedding_index, vocab_dim):\n",
        "    print('Building embedding matrix...')\n",
        "    embedding_matrix = np.zeros((len(word_index) + 1, vocab_dim))\n",
        "    for word, i in word_index.items():\n",
        "        try:\n",
        "            embedding_matrix[i] = embedding_index.get_vector(word)\n",
        "        except:\n",
        "            pass\n",
        "    print('Embedding matrix built.') \n",
        "    #print(\"Word index\", word_index.items())\n",
        "    #print(embedding_matrix) \n",
        "    return embedding_matrix\n",
        "\n",
        "\n",
        "def get_init_parameters(path, ext=None):\n",
        "    if ext == 'vec':\n",
        "        word_model = KeyedVectors.load_word2vec_format(path).wv\n",
        "    else:\n",
        "        word_model = KeyedVectors.load(path).wv\n",
        "    n_words = len(word_model.vocab)\n",
        "    vocab_dim = word_model[word_model.index2word[0]].shape[0]\n",
        "    index_dict = dict()\n",
        "    for i in range(n_words):\n",
        "        index_dict[word_model.index2word[i]] = i+1\n",
        "    print('Number of words in the word embedding',n_words)\n",
        "    #print('word_model', word_model)\n",
        "    #print(\"index_dict\",index_dict)\n",
        "    return word_model, index_dict, n_words, vocab_dim\n",
        "\n",
        "def get_max_length(text_data, return_line=False):\n",
        "    max_length = 0\n",
        "    long_line = \"\"\n",
        "    for line in text_data:\n",
        "        new = len(line.split())\n",
        "        if new > max_length:\n",
        "            max_length = new\n",
        "            long_line = line\n",
        "    if return_line:\n",
        "        return long_line, max_length\n",
        "    else:\n",
        "        return max_length\n",
        "    print(\"max\",long_line,max_length)\n",
        "\n",
        "def load_datasets(data_paths, header=True):\n",
        "    x = []\n",
        "    y = []\n",
        "    for data_path in data_paths:\n",
        "        with open(data_path, 'r') as f:\n",
        "            for line in f:\n",
        "                if header:\n",
        "                    header = False\n",
        "                else:\n",
        "                    temp = line.split(',')\n",
        "                    x.append(temp[0])\n",
        "                    y.append(temp[1].replace('\\n', ''))\n",
        "    max_length = get_max_length(x)\n",
        "    print('Max length:', max_length)\n",
        "    return x,y, max_length\n",
        "\n",
        "def get_train_test(train_raw_text, test_raw_text, n_words, max_length):\n",
        "    tokenizer = text.Tokenizer(num_words=n_words)\n",
        "    tokenizer.fit_on_texts(list(train_raw_text))\n",
        "    word_index = tokenizer.word_index\n",
        "   \n",
        "    train_tokenized = tokenizer.texts_to_sequences(train_raw_text)\n",
        "    test_tokenized = tokenizer.texts_to_sequences(test_raw_text)\n",
        "\n",
        "    return sequence.pad_sequences(train_tokenized, maxlen=max_length, padding='post', truncating='post'),\\\n",
        "           sequence.pad_sequences(test_tokenized, maxlen=max_length, padding='post', truncating='post'),\\\n",
        "           word_index\n",
        "\n",
        "def class_str_2_ind(x_train, x_test, y_train, y_test, classes, n_words, max_length):\n",
        "    print('Converting data to trainable form...')\n",
        "    y_encoder = preprocessing.LabelEncoder()\n",
        "    y_encoder.fit(classes)\n",
        "    y_train = y_encoder.transform(y_train)\n",
        "    y_test = y_encoder.transform(y_test)\n",
        "    #print(y_train)\n",
        "    #print(y_test)\n",
        "    train_y_cat = np_utils.to_categorical(y_train, len(classes))\n",
        "    x_vec_train, x_vec_test, word_index = get_train_test(x_train, x_test, n_words, max_length)\n",
        "    print('Number of training examples: ' + str(len(x_vec_train)))\n",
        "    print('Number of dev examples: ' + str(len(x_vec_test)))\n",
        "    return x_vec_train, x_vec_test, y_train, y_test, train_y_cat, word_index\n"
      ],
      "execution_count": 7,
      "outputs": []
    },
    {
      "cell_type": "code",
      "metadata": {
        "id": "lT0r5MyUbtGC",
        "colab": {
          "base_uri": "https://localhost:8080/"
        },
        "outputId": "adfc8d9c-165c-4d28-8582-5f7cdd8af508"
      },
      "source": [
        "WORD_MODEL, _, MAX_FEATURES, EMBED_SIZE = get_init_parameters(embedding_path) "
      ],
      "execution_count": 8,
      "outputs": [
        {
          "output_type": "stream",
          "text": [
            "Number of words in the word embedding 331679\n"
          ],
          "name": "stdout"
        }
      ]
    },
    {
      "cell_type": "code",
      "metadata": {
        "id": "XcpaFQRJV8YL"
      },
      "source": [
        "MAX_TEXT_LENGTH=58"
      ],
      "execution_count": 9,
      "outputs": []
    },
    {
      "cell_type": "code",
      "metadata": {
        "id": "cjwJ3aN3U1Mv",
        "colab": {
          "base_uri": "https://localhost:8080/"
        },
        "outputId": "3b922a92-2ab9-4018-d41c-8aba60761829"
      },
      "source": [
        "# load train data\n",
        "train_data_path=[\"/content/drive/MyDrive/OSACT4\"]\n",
        "X, y, MAX_TEXT_LENGTH = load_datasets(train_data_path)\n",
        "CLASSES_LIST = np.unique(y)\n",
        "print('Label categories: ' + str(CLASSES_LIST))"
      ],
      "execution_count": 10,
      "outputs": [
        {
          "output_type": "stream",
          "text": [
            "Max length: 58\n",
            "Label categories: ['abusive' 'hate' 'normal']\n"
          ],
          "name": "stdout"
        }
      ]
    },
    {
      "cell_type": "code",
      "metadata": {
        "id": "fabk2vz7BvrS"
      },
      "source": [
        "from sklearn.model_selection import train_test_split\n",
        "X_train, X_test, y_train, y_test = train_test_split(X, y, test_size=0.2, random_state=42)"
      ],
      "execution_count": 11,
      "outputs": []
    },
    {
      "cell_type": "code",
      "metadata": {
        "id": "plOnSpgUb18i",
        "colab": {
          "base_uri": "https://localhost:8080/"
        },
        "outputId": "8ac5e55f-bc3a-49b9-a2f8-3d6376f6e033"
      },
      "source": [
        "X_train, X_test, y_train, y_test, train_y_cat, word_index = class_str_2_ind(X_train, X_test, y_train, y_test, CLASSES_LIST, MAX_FEATURES, MAX_TEXT_LENGTH)\n",
        "test_cat_y = np_utils.to_categorical(y_test, len(CLASSES_LIST))"
      ],
      "execution_count": 12,
      "outputs": [
        {
          "output_type": "stream",
          "text": [
            "Converting data to trainable form...\n",
            "Number of training examples: 2015\n",
            "Number of dev examples: 504\n"
          ],
          "name": "stdout"
        }
      ]
    },
    {
      "cell_type": "code",
      "metadata": {
        "id": "VQiq-BKShbLE",
        "colab": {
          "base_uri": "https://localhost:8080/"
        },
        "outputId": "9512cb00-a8af-4dfe-d313-aa90887b11f6"
      },
      "source": [
        "print(\"Tokens number: \"+str(len(word_index)))"
      ],
      "execution_count": 13,
      "outputs": [
        {
          "output_type": "stream",
          "text": [
            "Tokens number: 10605\n"
          ],
          "name": "stdout"
        }
      ]
    },
    {
      "cell_type": "code",
      "metadata": {
        "id": "WjJd-CWUiNlQ",
        "colab": {
          "base_uri": "https://localhost:8080/"
        },
        "outputId": "0e0f45e0-bfab-4a94-e35c-52cd010386de"
      },
      "source": [
        "# Sequence length\n",
        "print(\"Original sequence length: \"+str(MAX_TEXT_LENGTH))"
      ],
      "execution_count": 14,
      "outputs": [
        {
          "output_type": "stream",
          "text": [
            "Original sequence length: 58\n"
          ],
          "name": "stdout"
        }
      ]
    },
    {
      "cell_type": "markdown",
      "metadata": {
        "id": "IXB7MDh9lLcM"
      },
      "source": [
        "#  CNN model building:"
      ]
    },
    {
      "cell_type": "code",
      "metadata": {
        "id": "TRIAZtDUidul"
      },
      "source": [
        "def get_model(embedding_weights, word_index, vocab_dim, max_length, print_summary=True):\n",
        "    \"\"\"\n",
        "    Create Neural Network With an Embedding layer\n",
        "    \"\"\"\n",
        "    inp = Input(shape=(max_length,))\n",
        "    model = Embedding(input_dim=len(word_index)+1,\n",
        "                      output_dim=vocab_dim,\n",
        "                      trainable=False,\n",
        "                      weights=[embedding_weights])(inp)\n",
        "\n",
        "    model = Conv1D(filters=25, kernel_size=5, padding='same', activation='relu')(model)\n",
        "    model = MaxPooling1D(pool_size=2)(model)\n",
        "    model = Flatten()(model)\n",
        "   \n",
        "    model = Dense(3, activation='sigmoid')(model)\n",
        "    model = Model(inputs=inp, outputs=model)\n",
        "    \n",
        "    from keras import optimizers\n",
        "\n",
        "    opt = optimizers.Adam(lr=0.0001)\n",
        "\n",
        "    model.compile(loss='categorical_crossentropy', optimizer=opt, metrics=['accuracy'])\n",
        "    if print_summary:\n",
        "        model.summary()\n",
        "    return model\n",
        "\n",
        "\n",
        "def get_main_model(word_index, WORD_MODEL, EMBED_SIZE, MAX_TEXT_LENGTH):\n",
        "    tmp = get_embedding_matrix(word_index, WORD_MODEL, EMBED_SIZE)\n",
        "    model = get_model(tmp, word_index, EMBED_SIZE, MAX_TEXT_LENGTH, print_summary=True)\n",
        "    return model\n",
        "\n",
        "\n",
        "class TestCallback(Callback):\n",
        "    def __init__(self, test_data):\n",
        "        self.test_data = test_data\n",
        "\n",
        "    def on_epoch_end(self, epoch, logs={}):\n",
        "        x, y = self.test_data\n",
        "        loss, acc = self.model.evaluate(x, y, verbose=0)\n",
        "        print('\\nTesting loss: {}, acc: {}\\n'.format(loss, acc))\n",
        "\n",
        "def train_fit_predict(model, x_train, x_test, y_train, y_test, batch_size, epochs, TestCallback=TestCallback):\n",
        "    history = model.fit(x_train, y_train,\n",
        "                        batch_size=batch_size,\n",
        "                        epochs=epochs, verbose=1,\n",
        "                        validation_data=(x_test, y_test),\n",
        "                        callbacks=[TestCallback((x_test, y_test))])\n",
        "    return history, model"
      ],
      "execution_count": 15,
      "outputs": []
    },
    {
      "cell_type": "code",
      "metadata": {
        "id": "YKpEhF4ljGqR",
        "colab": {
          "base_uri": "https://localhost:8080/"
        },
        "outputId": "6e6cc842-8f83-4d06-8c53-9748271adb0a"
      },
      "source": [
        "model = get_main_model(word_index, WORD_MODEL, EMBED_SIZE, MAX_TEXT_LENGTH)"
      ],
      "execution_count": 16,
      "outputs": [
        {
          "output_type": "stream",
          "text": [
            "Building embedding matrix...\n",
            "Embedding matrix built.\n",
            "Model: \"model\"\n",
            "_________________________________________________________________\n",
            "Layer (type)                 Output Shape              Param #   \n",
            "=================================================================\n",
            "input_1 (InputLayer)         [(None, 58)]              0         \n",
            "_________________________________________________________________\n",
            "embedding (Embedding)        (None, 58, 300)           3181800   \n",
            "_________________________________________________________________\n",
            "conv1d (Conv1D)              (None, 58, 25)            37525     \n",
            "_________________________________________________________________\n",
            "max_pooling1d (MaxPooling1D) (None, 29, 25)            0         \n",
            "_________________________________________________________________\n",
            "flatten (Flatten)            (None, 725)               0         \n",
            "_________________________________________________________________\n",
            "dense (Dense)                (None, 3)                 2178      \n",
            "=================================================================\n",
            "Total params: 3,221,503\n",
            "Trainable params: 39,703\n",
            "Non-trainable params: 3,181,800\n",
            "_________________________________________________________________\n"
          ],
          "name": "stdout"
        }
      ]
    },
    {
      "cell_type": "code",
      "metadata": {
        "id": "nIdYkbZzjJpe",
        "colab": {
          "base_uri": "https://localhost:8080/"
        },
        "outputId": "c0d0fb29-d5ef-4a4a-d7cc-6d62622cdf77"
      },
      "source": [
        "time_start = time()\n",
        "history, model = train_fit_predict(model,\n",
        "                               X_train[:, :MAX_TEXT_LENGTH],\n",
        "                               X_test[:, :MAX_TEXT_LENGTH],\n",
        "                               train_y_cat, test_cat_y,\n",
        "                               batch_size=500, epochs=20)\n",
        "time_start = time() - time_start\n",
        "\n",
        "print(\"Took : \"+str(np.round(time_start, 2))+\" (s)\") "
      ],
      "execution_count": 17,
      "outputs": [
        {
          "output_type": "stream",
          "text": [
            "Epoch 1/20\n",
            "5/5 [==============================] - 30s 193ms/step - loss: 1.1142 - accuracy: 0.2924 - val_loss: 1.0959 - val_accuracy: 0.3254\n",
            "\n",
            "Testing loss: 1.0958609580993652, acc: 0.3253968358039856\n",
            "\n",
            "Epoch 2/20\n",
            "5/5 [==============================] - 0s 39ms/step - loss: 1.0950 - accuracy: 0.3285 - val_loss: 1.0902 - val_accuracy: 0.3552\n",
            "\n",
            "Testing loss: 1.09017014503479, acc: 0.3551587164402008\n",
            "\n",
            "Epoch 3/20\n",
            "5/5 [==============================] - 0s 38ms/step - loss: 1.0856 - accuracy: 0.3572 - val_loss: 1.0855 - val_accuracy: 0.3829\n",
            "\n",
            "Testing loss: 1.0855214595794678, acc: 0.3829365074634552\n",
            "\n",
            "Epoch 4/20\n",
            "5/5 [==============================] - 0s 39ms/step - loss: 1.0812 - accuracy: 0.3615 - val_loss: 1.0811 - val_accuracy: 0.4067\n",
            "\n",
            "Testing loss: 1.08108651638031, acc: 0.4067460298538208\n",
            "\n",
            "Epoch 5/20\n",
            "5/5 [==============================] - 0s 39ms/step - loss: 1.0718 - accuracy: 0.3996 - val_loss: 1.0767 - val_accuracy: 0.4345\n",
            "\n",
            "Testing loss: 1.0767014026641846, acc: 0.4345238208770752\n",
            "\n",
            "Epoch 6/20\n",
            "5/5 [==============================] - 0s 39ms/step - loss: 1.0620 - accuracy: 0.4144 - val_loss: 1.0720 - val_accuracy: 0.4444\n",
            "\n",
            "Testing loss: 1.0720411539077759, acc: 0.4444444477558136\n",
            "\n",
            "Epoch 7/20\n",
            "5/5 [==============================] - 0s 40ms/step - loss: 1.0531 - accuracy: 0.4347 - val_loss: 1.0675 - val_accuracy: 0.4484\n",
            "\n",
            "Testing loss: 1.0675145387649536, acc: 0.44841268658638\n",
            "\n",
            "Epoch 8/20\n",
            "5/5 [==============================] - 0s 41ms/step - loss: 1.0478 - accuracy: 0.4437 - val_loss: 1.0638 - val_accuracy: 0.4663\n",
            "\n",
            "Testing loss: 1.063788652420044, acc: 0.466269850730896\n",
            "\n",
            "Epoch 9/20\n",
            "5/5 [==============================] - 0s 39ms/step - loss: 1.0415 - accuracy: 0.4582 - val_loss: 1.0599 - val_accuracy: 0.4861\n",
            "\n",
            "Testing loss: 1.059875726699829, acc: 0.4861111044883728\n",
            "\n",
            "Epoch 10/20\n",
            "5/5 [==============================] - 0s 39ms/step - loss: 1.0341 - accuracy: 0.4817 - val_loss: 1.0561 - val_accuracy: 0.4980\n",
            "\n",
            "Testing loss: 1.0561434030532837, acc: 0.4980158805847168\n",
            "\n",
            "Epoch 11/20\n",
            "5/5 [==============================] - 0s 36ms/step - loss: 1.0280 - accuracy: 0.4825 - val_loss: 1.0522 - val_accuracy: 0.5139\n",
            "\n",
            "Testing loss: 1.0522419214248657, acc: 0.5138888955116272\n",
            "\n",
            "Epoch 12/20\n",
            "5/5 [==============================] - 0s 40ms/step - loss: 1.0265 - accuracy: 0.4948 - val_loss: 1.0484 - val_accuracy: 0.5179\n",
            "\n",
            "Testing loss: 1.0484377145767212, acc: 0.5178571343421936\n",
            "\n",
            "Epoch 13/20\n",
            "5/5 [==============================] - 0s 39ms/step - loss: 1.0172 - accuracy: 0.5108 - val_loss: 1.0445 - val_accuracy: 0.5218\n",
            "\n",
            "Testing loss: 1.0445435047149658, acc: 0.52182537317276\n",
            "\n",
            "Epoch 14/20\n",
            "5/5 [==============================] - 0s 39ms/step - loss: 1.0116 - accuracy: 0.5179 - val_loss: 1.0405 - val_accuracy: 0.5317\n",
            "\n",
            "Testing loss: 1.0405312776565552, acc: 0.5317460298538208\n",
            "\n",
            "Epoch 15/20\n",
            "5/5 [==============================] - 0s 42ms/step - loss: 1.0103 - accuracy: 0.5284 - val_loss: 1.0367 - val_accuracy: 0.5397\n",
            "\n",
            "Testing loss: 1.0367107391357422, acc: 0.5396825671195984\n",
            "\n",
            "Epoch 16/20\n",
            "5/5 [==============================] - 0s 38ms/step - loss: 1.0049 - accuracy: 0.5312 - val_loss: 1.0330 - val_accuracy: 0.5437\n",
            "\n",
            "Testing loss: 1.033043384552002, acc: 0.5436508059501648\n",
            "\n",
            "Epoch 17/20\n",
            "5/5 [==============================] - 0s 38ms/step - loss: 0.9952 - accuracy: 0.5583 - val_loss: 1.0299 - val_accuracy: 0.5417\n",
            "\n",
            "Testing loss: 1.0298950672149658, acc: 0.5416666865348816\n",
            "\n",
            "Epoch 18/20\n",
            "5/5 [==============================] - 0s 37ms/step - loss: 0.9948 - accuracy: 0.5505 - val_loss: 1.0266 - val_accuracy: 0.5437\n",
            "\n",
            "Testing loss: 1.0265759229660034, acc: 0.5436508059501648\n",
            "\n",
            "Epoch 19/20\n",
            "5/5 [==============================] - 0s 39ms/step - loss: 0.9871 - accuracy: 0.5600 - val_loss: 1.0229 - val_accuracy: 0.5516\n",
            "\n",
            "Testing loss: 1.0228577852249146, acc: 0.5515872836112976\n",
            "\n",
            "Epoch 20/20\n",
            "5/5 [==============================] - 0s 40ms/step - loss: 0.9824 - accuracy: 0.5677 - val_loss: 1.0188 - val_accuracy: 0.5615\n",
            "\n",
            "Testing loss: 1.0188456773757935, acc: 0.5615079402923584\n",
            "\n",
            "Took : 36.87 (s)\n"
          ],
          "name": "stdout"
        }
      ]
    },
    {
      "cell_type": "code",
      "metadata": {
        "id": "Yt-l_Q9Aj44w",
        "colab": {
          "base_uri": "https://localhost:8080/"
        },
        "outputId": "6a10fcbe-0355-41e4-ea43-7aa7597fc54b"
      },
      "source": [
        "history.history.keys()"
      ],
      "execution_count": 18,
      "outputs": [
        {
          "output_type": "execute_result",
          "data": {
            "text/plain": [
              "dict_keys(['loss', 'accuracy', 'val_loss', 'val_accuracy'])"
            ]
          },
          "metadata": {
            "tags": []
          },
          "execution_count": 18
        }
      ]
    },
    {
      "cell_type": "code",
      "metadata": {
        "id": "-xsxi8A1j_Fq",
        "colab": {
          "base_uri": "https://localhost:8080/"
        },
        "outputId": "72197fd7-ec69-462a-9999-f0f362191279"
      },
      "source": [
        "model.evaluate(X_test[:, :MAX_TEXT_LENGTH], test_cat_y, batch_size=1000)"
      ],
      "execution_count": 19,
      "outputs": [
        {
          "output_type": "stream",
          "text": [
            "1/1 [==============================] - 0s 99ms/step - loss: 1.0188 - accuracy: 0.5615\n"
          ],
          "name": "stdout"
        },
        {
          "output_type": "execute_result",
          "data": {
            "text/plain": [
              "[1.018845558166504, 0.5615079402923584]"
            ]
          },
          "metadata": {
            "tags": []
          },
          "execution_count": 19
        }
      ]
    },
    {
      "cell_type": "code",
      "metadata": {
        "id": "X1e78k51kZ1S",
        "colab": {
          "base_uri": "https://localhost:8080/"
        },
        "outputId": "2fb26a03-7d5b-4c09-8c37-e7d87e812430"
      },
      "source": [
        "y_pred = np.argmax(model.predict(X_test[:, :MAX_TEXT_LENGTH]), axis=1)\n",
        "\n",
        "print(creport(np.argmax(test_cat_y, axis=1), y_pred, target_names=[\"normal\", \"abusive\", \"hate\"],digits=3))"
      ],
      "execution_count": 20,
      "outputs": [
        {
          "output_type": "stream",
          "text": [
            "              precision    recall  f1-score   support\n",
            "\n",
            "      normal      0.529     0.578     0.552       173\n",
            "     abusive      0.699     0.399     0.508       163\n",
            "        hate      0.532     0.702     0.605       168\n",
            "\n",
            "    accuracy                          0.562       504\n",
            "   macro avg      0.587     0.560     0.555       504\n",
            "weighted avg      0.585     0.562     0.556       504\n",
            "\n"
          ],
          "name": "stdout"
        }
      ]
    },
    {
      "cell_type": "code",
      "metadata": {
        "id": "po5GA7KMkGUM",
        "colab": {
          "base_uri": "https://localhost:8080/"
        },
        "outputId": "6f6da325-c696-41b1-ebe1-b9182aa72263"
      },
      "source": [
        "n = np.argmin(history.history['val_loss'])\n",
        "\n",
        "print(\"Optimal epoch : {}\".format(n))\n",
        "print(\"Accuracy on train : {} %\".format(np.round(history.history['accuracy'][n]*100, 2)))\n",
        "print(\"Accuracy on val : {} %\".format(np.round(history.history['val_accuracy'][n]*100, 2)))\n",
        "print(\"Loss on train : {}\".format(np.round(history.history['loss'][n]*100, 2)))\n",
        "print(\"Loss on Val : {}\".format(np.round(history.history['val_loss'][n]*100, 2)))"
      ],
      "execution_count": 21,
      "outputs": [
        {
          "output_type": "stream",
          "text": [
            "Optimal epoch : 19\n",
            "Accuracy on train : 57.17 %\n",
            "Accuracy on val : 56.15 %\n",
            "Loss on train : 98.09\n",
            "Loss on Val : 101.88\n"
          ],
          "name": "stdout"
        }
      ]
    },
    {
      "cell_type": "code",
      "metadata": {
        "id": "PlVrg_zJkkLx",
        "colab": {
          "base_uri": "https://localhost:8080/",
          "height": 404
        },
        "outputId": "e1207727-45e1-441d-b089-311ec7617c8d"
      },
      "source": [
        "plt.figure(\"Loss Plot\", figsize=(12, 6))\n",
        "plt.plot(range(1, len(history.history['loss'])+1), history.history['loss'], label=\"train loss\")\n",
        "plt.plot(range(1, len(history.history['val_loss'])+1), history.history['val_loss'], label=\"val loss\")\n",
        "plt.plot(n+1,history.history[\"val_loss\"][n],\"r*\", label=\"Lowest loss\")\n",
        "plt.legend()\n",
        "plt.title(\"Learning Curve\")\n",
        "plt.ylabel(\"loss (cross_entropy)\")\n",
        "plt.xlabel(\"epochs\")\n",
        "plt.show();"
      ],
      "execution_count": 22,
      "outputs": [
        {
          "output_type": "display_data",
          "data": {
            "image/png": "[encoded data removed]",
            "text/plain": [
              "<Figure size 864x432 with 1 Axes>"
            ]
          },
          "metadata": {
            "tags": [],
            "needs_background": "light"
          }
        }
      ]
    },
    {
      "cell_type": "code",
      "metadata": {
        "id": "yFOaw2MfUgsO",
        "colab": {
          "base_uri": "https://localhost:8080/",
          "height": 404
        },
        "outputId": "02586813-3931-4079-9a56-a6814bb4cf9d"
      },
      "source": [
        "plt.figure(\"Accuracy Plot\", figsize=(12, 6))\n",
        "plt.plot(range(1, len(history.history['accuracy'])+1), history.history['accuracy'], label=\"train accuracy\")\n",
        "plt.plot(range(1, len(history.history['val_accuracy'])+1), history.history['val_accuracy'], label=\"Val accuracy\")\n",
        "plt.plot(n+1,history.history[\"val_accuracy\"][n],\"r*\", label=\"Opt. Acc. (csp. Lowest loss)\")\n",
        "plt.legend()\n",
        "plt.title(\"Accuracy Curve\")\n",
        "plt.ylabel(\"accuracy\")\n",
        "plt.xlabel(\"epochs\")\n",
        "plt.show()"
      ],
      "execution_count": 23,
      "outputs": [
        {
          "output_type": "display_data",
          "data": {
            "image/png": "[encoded data removed]",
            "text/plain": [
              "<Figure size 864x432 with 1 Axes>"
            ]
          },
          "metadata": {
            "tags": [],
            "needs_background": "light"
          }
        }
      ]
    },
    {
      "cell_type": "code",
      "metadata": {
        "id": "kZp0EW06kwhy",
        "colab": {
          "base_uri": "https://localhost:8080/",
          "height": 564
        },
        "outputId": "66439bd2-8c2c-411c-f08e-b29d745bb64f"
      },
      "source": [
        "from keras.utils import plot_model\n",
        "plot_model(model, to_file='RNN_LSTM_model.png', show_shapes=False, show_layer_names=False)"
      ],
      "execution_count": 24,
      "outputs": [
        {
          "output_type": "execute_result",
          "data": {
            "image/png": "[encoded data removed]",
            "text/plain": [
              "<IPython.core.display.Image object>"
            ]
          },
          "metadata": {
            "tags": []
          },
          "execution_count": 24
        }
      ]
    }
  ]
}